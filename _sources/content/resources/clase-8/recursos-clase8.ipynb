{
 "cells": [
  {
   "cell_type": "markdown",
   "id": "49d97ea7",
   "metadata": {},
   "source": [
    "# 🧰 Recursos y Actividades\n",
    "\n",
    "## Recursos\n",
    "\n",
    ":::{card} 🌐 Métodos en Java, funciones y procedimientos\n",
    "Página web donde se explica qué son las funciones, procedimientos y métodos en Java. Incluye ejemplos y video tutorial.\n",
    "\n",
    "[Enlace al sitio web](https://www.programarya.com/Cursos/Java/Funciones)\n",
    ":::\n",
    "\n",
    ":::{card} 🌐 Java Methods\n",
    "Sitio web de W3School con los conceptos básicos sobre Métodos en Java. Contiene ejemplos y material interactivo.\n",
    "\n",
    "[Enlace al sitio web](https://www.w3schools.com/java/java_methods.asp)\n",
    ":::\n",
    "\n",
    ":::{card} 🌐 Funciones en Java\n",
    "Pagina web donde se explica (con ejemplos) las funciones en Java. Incluye temas como Modificadores de acceso, Argumentos y Parámetros, y tipos de retorno.\n",
    "\n",
    "[Enlace al sitio web](https://oregoom.com/java/funciones/)\n",
    ":::\n",
    "\n",
    ":::{card} 🌐 Java static Keyword\n",
    "Sitio web de W3School con los conceptos básicos sobre la palabra reservada `static` en Java.\n",
    "\n",
    "[Enlace al sitio web](https://www.w3schools.com/java/ref_keyword_static.asp)\n",
    ":::\n",
    "\n",
    ":::{card} 🌐 Uso de directiva static en Java\n",
    "Pagina web donde se explica detalladamente el funcionamiento y uso de la palabra reservada `static` en Java. Contiene ejemplos.\n",
    "\n",
    "[Enlace al sitio web](https://refactorizando.com/directiva-static-java/)\n",
    ":::"
   ]
  }
 ],
 "metadata": {
  "jupytext": {
   "formats": "md:myst",
   "text_representation": {
    "extension": ".md",
    "format_name": "myst"
   }
  },
  "kernelspec": {
   "display_name": "Python 3",
   "language": "python",
   "name": "python3"
  },
  "source_map": [
   11
  ]
 },
 "nbformat": 4,
 "nbformat_minor": 5
}