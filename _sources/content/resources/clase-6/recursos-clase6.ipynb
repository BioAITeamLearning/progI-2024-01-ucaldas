{
 "cells": [
  {
   "cell_type": "markdown",
   "id": "5064fd9c",
   "metadata": {},
   "source": [
    "# 🧰 Recursos y Actividades\n",
    "\n",
    "## Recursos\n",
    "\n",
    ":::{card} 🌐 Ciclo For a profundidad Break and continue\n",
    "\n",
    "Sitio web con información sobre el ciclo For y herramientas adicionales a tener en cuenta\n",
    "\n",
    "[Enlace al sitio web](https://j2logo.com/bucle-for-en-python/)\n",
    ":::\n",
    "\n",
    ":::{card} 🌐 Ejemplos de como hacer y `no` hacer un ciclo\n",
    "Sitio web con información sobre cómo generar ciclos For correctamente y lo que no hay que hacer\n",
    "\n",
    "[Enlace al sitio web](https://www.mclibre.org/consultar/php/lecciones/php-estructuras-control-bucle-for.html)\n",
    ":::\n",
    "\n",
    ":::{card} 🌐 4 Formas de estructurar un For\n",
    "Blog con información para aprender a estructurar variaciones del ciclo For `for`, `for each`, `for Iterable` y `for streams`\n",
    "\n",
    "[Enlace al sitio web](https://picodotdev.github.io/blog-bitix/2017/07/4-formas-de-hacer-un-bucle-for-en-java/)\n",
    ":::"
   ]
  }
 ],
 "metadata": {
  "jupytext": {
   "formats": "md:myst",
   "text_representation": {
    "extension": ".md",
    "format_name": "myst"
   }
  },
  "kernelspec": {
   "display_name": "Python 3",
   "language": "python",
   "name": "python3"
  },
  "source_map": [
   11
  ]
 },
 "nbformat": 4,
 "nbformat_minor": 5
}