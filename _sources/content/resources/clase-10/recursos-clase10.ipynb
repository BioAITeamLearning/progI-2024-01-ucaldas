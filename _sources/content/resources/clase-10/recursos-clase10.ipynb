{
 "cells": [
  {
   "cell_type": "markdown",
   "id": "3c9c62bb",
   "metadata": {},
   "source": [
    "# 🧰 Recursos y Actividades\n",
    "\n",
    "## Recursos\n",
    "\n",
    ":::{card} 🎦 Matrix en Java en 2 minutos.\n",
    "\n",
    "<iframe width=\"730\" height=\"450\" src=\"https://www.youtube.com/embed/Bz5BhH7K9pA?si=8cGMKbExZxJKIGWt\" title=\"YouTube video player\" frameborder=\"0\" allow=\"accelerometer; autoplay; clipboard-write; encrypted-media; gyroscope; picture-in-picture; web-share\" referrerpolicy=\"strict-origin-when-cross-origin\" allowfullscreen></iframe>\n",
    ":::\n",
    "\n",
    ":::{card} 🌐 Preparate para el parcial 1\n",
    "Muestra de parcial para que te prepares\n",
    "\n",
    "[Enlace al sitio web](https://drive.google.com/file/d/1AG1HNnISOpvOEl2dlTSTLzI0nKNqSPET/view?usp=sharing)\n",
    ":::\n",
    "\n",
    ":::{card} 🌐 Preparate para el parcial 2\n",
    "Muestra de parcial para que te prepares\n",
    "\n",
    "[Enlace al sitio web](https://drive.google.com/file/d/1xdZmu3-KjUPbdu6dTE9S7eaMyeK-n828/view?usp=sharing)\n",
    ":::"
   ]
  }
 ],
 "metadata": {
  "jupytext": {
   "formats": "md:myst",
   "text_representation": {
    "extension": ".md",
    "format_name": "myst"
   }
  },
  "kernelspec": {
   "display_name": "Python 3",
   "language": "python",
   "name": "python3"
  },
  "source_map": [
   11
  ]
 },
 "nbformat": 4,
 "nbformat_minor": 5
}