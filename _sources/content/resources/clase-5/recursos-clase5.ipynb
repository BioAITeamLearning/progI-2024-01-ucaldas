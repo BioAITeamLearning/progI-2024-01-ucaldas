{
 "cells": [
  {
   "cell_type": "markdown",
   "id": "8858e511",
   "metadata": {},
   "source": [
    "# 🧰 Recursos y Actividades\n",
    "\n",
    "## Recursos\n",
    "\n",
    ":::{card} 🌐 What is `Objects.equals` in Java?\n",
    "Sitio web con información sobre la comparación de strings en Java\n",
    "\n",
    "[Enlace al sitio web](https://www.educative.io/answers/what-is-objectsequals-in-java)\n",
    ":::\n",
    "\n",
    ":::{card} 🌐 How to find the length of a string in Java\n",
    "Sitio web con información sobre cómo encontrar el tamaño de un string en Java\n",
    "\n",
    "[Enlace al sitio web](https://www.educative.io/answers/how-to-find-the-length-of-a-string-in-java)\n",
    ":::\n",
    "\n",
    ":::{card} 🌐 How to read int, double, and sentence of string using same scanner variable\n",
    "Foro con información sobre la lectura de variables de tipo `int`, `double` y `String` con un mismo objeto `Scanner`\n",
    "\n",
    "[Enlace al sitio web](https://stackoverflow.com/questions/32948425/how-to-read-int-double-and-sentence-of-string-using-same-scanner-variable)\n",
    ":::\n",
    "\n",
    "## Practica para el examen\n",
    "\n",
    ":::{card} 🌐 Examen Vol 1 para practicar\n",
    "\n",
    "[Enlace al sitio web](https://drive.google.com/file/d/1WcSfhKWZRA-DZHL9-aM_ZHImnNRvVOOe/view?usp=sharing)\n",
    ":::\n",
    "\n",
    "\n",
    ":::{card} 🌐 Examen Vol 2 para practicar\n",
    "\n",
    "[Enlace al sitio web](https://drive.google.com/file/d/1ZNrdLWPdOBYbKQzkxlvF1krZ8PaWO4C5/view?usp=sharing)\n",
    ":::\n",
    "\n",
    ":::{card} 🌐 Examen Vol 3 para practicar\n",
    "\n",
    "[Enlace al sitio web](https://drive.google.com/file/d/1UhY53GUWHZjIJQzLVVwA8psU6WHyshC7/view?usp=sharing)\n",
    ":::"
   ]
  }
 ],
 "metadata": {
  "jupytext": {
   "formats": "md:myst",
   "text_representation": {
    "extension": ".md",
    "format_name": "myst"
   }
  },
  "kernelspec": {
   "display_name": "Python 3",
   "language": "python",
   "name": "python3"
  },
  "source_map": [
   11
  ]
 },
 "nbformat": 4,
 "nbformat_minor": 5
}