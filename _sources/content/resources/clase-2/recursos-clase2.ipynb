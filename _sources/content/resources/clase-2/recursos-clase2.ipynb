{
 "cells": [
  {
   "cell_type": "markdown",
   "id": "c67c2f14",
   "metadata": {},
   "source": [
    "# 🧰 Recursos y Actividades\n",
    "\n",
    "## Recursos\n",
    "\n",
    ":::{card} 🔵 Tipos de Datos en Java\n",
    "Puedes explorar el sitio web W3School para aprender sobre los tipos de datos en Java.\n",
    "<img src=\"https://upload.wikimedia.org/wikipedia/commons/thumb/a/a0/W3Schools_logo.svg/512px-W3Schools_logo.svg.png\" width=90px>\n",
    "\n",
    "[Enlace al sitio web](https://www.w3schools.com/java/java_data_types.asp)\n",
    ":::\n",
    "\n",
    ":::{card} 🔵 Variables en Java\n",
    "Puedes explorar el sitio web W3School para aprender sobre variables en Java.\n",
    "<img src=\"https://upload.wikimedia.org/wikipedia/commons/thumb/a/a0/W3Schools_logo.svg/512px-W3Schools_logo.svg.png\" width=90px>\n",
    "\n",
    "[Enlace al sitio web](https://www.w3schools.com/java/java_variables.asp)\n",
    ":::\n",
    "\n",
    ":::{card} 🔵 Imprimir variables en Java\n",
    "Para aprender cómo imprimir variables en Java visita el siguiente enlace.\n",
    "<img src=\"https://upload.wikimedia.org/wikipedia/commons/thumb/a/a0/W3Schools_logo.svg/512px-W3Schools_logo.svg.png\" width=90px>\n",
    "\n",
    "[Enlace al sitio web](https://www.w3schools.com/java/java_variables_print.asp)\n",
    ":::"
   ]
  }
 ],
 "metadata": {
  "jupytext": {
   "formats": "md:myst",
   "text_representation": {
    "extension": ".md",
    "format_name": "myst"
   }
  },
  "kernelspec": {
   "display_name": "Python 3",
   "language": "python",
   "name": "python3"
  },
  "source_map": [
   11
  ]
 },
 "nbformat": 4,
 "nbformat_minor": 5
}