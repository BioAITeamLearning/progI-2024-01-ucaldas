{
 "cells": [
  {
   "cell_type": "markdown",
   "id": "8cb33c0f",
   "metadata": {},
   "source": [
    "# 🧰 Recursos y Actividades\n",
    "\n",
    "## Actividad Individual\n",
    "\n",
    "<div class=\"admonition\" style=\"background: lightblue; padding: 10px\">\n",
    "    <p class=\"title\">Lectura Obligatoria</p>\n",
    "    <p>Realizar la lectura del Capitulo 1 del libro 'Introducción a la Programación. Lógica y Diseño'.</p>\n",
    "    <a href=\"https://github.com/BioAITeamLearning/progI-2024-01-ucaldas/raw/main/content/libros/Introduccion-a-la-programacion-logica-y-diseno-Cap1.pdf\" download=\"Introduccion-a-la-programacion-logica-y-diseno-Cap1.pdf\">Accede al capitulo aqui</a>\n",
    "</div>\n",
    "\n",
    "## Recursos\n",
    "\n",
    ":::{card} 🔵 ChatGPT\n",
    "Sientete libre de explorar la herramienta [ChatGPT](https://openai.com/chatgpt) de OpenAI.\n",
    ":::\n",
    "\n",
    ":::{card} 🔵 Libro\n",
    "</p>Si deseas aprender aún más puedes leer el libro 'Fundamentos de Programación'.</p>\n",
    "\n",
    "[Accede al capitulo aqui](https://github.com/BioAITeamLearning/progI-2024-01-ucaldas/raw/main/content/libros/Fundamentos-de-programacion-Luis-Joyanes-Aguilar.pdf)\n",
    ":::\n",
    "\n",
    ":::{card} 🔵 PSeInt\n",
    "Descarga el software PSeInt donde puedes crear pseudocodigo y diagramas de flujo\n",
    "<img src=\"https://cladera.org/foda/images/subcat-1782.jpg\" width=150px>\n",
    "[Enlace de descarga](https://pseint.sourceforge.net/?page=descargas.php)\n",
    ":::\n",
    "\n",
    ":::{card} 🔵 Ejemplos PSeInt\n",
    "Accede a ejemplos de PSeInt\n",
    "\n",
    "[Enlace a la carpeta](https://github.com/BioAITeamLearning/progI-2024-01-ucaldas/tree/9cc932db5444d152eeade70ec36020924da32873/content/resources/clase-1/Ejemplos-PSeInt)\n",
    ":::\n",
    "\n",
    ":::{card} 🔵 Ejemplos PSeInt\n",
    "Accede a ejemplos de PSeInt\n",
    "\n",
    "<iframe width=\"560\" height=\"315\" src=\"https://www.youtube.com/embed/SwotuYiD4LA?si=fRttc1v_P_Dh_KxL\" title=\"YouTube video player\" frameborder=\"0\" allow=\"accelerometer; autoplay; clipboard-write; encrypted-media; gyroscope; picture-in-picture; web-share\" allowfullscreen></iframe>\n",
    "\n",
    ":::"
   ]
  }
 ],
 "metadata": {
  "jupytext": {
   "formats": "md:myst",
   "text_representation": {
    "extension": ".md",
    "format_name": "myst"
   }
  },
  "kernelspec": {
   "display_name": "Python 3",
   "language": "python",
   "name": "python3"
  },
  "source_map": [
   11
  ]
 },
 "nbformat": 4,
 "nbformat_minor": 5
}