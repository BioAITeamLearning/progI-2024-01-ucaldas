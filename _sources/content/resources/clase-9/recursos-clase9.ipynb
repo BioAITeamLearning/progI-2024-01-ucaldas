{
 "cells": [
  {
   "cell_type": "markdown",
   "id": "94c5990f",
   "metadata": {},
   "source": [
    "# 🧰 Recursos y Actividades\n",
    "\n",
    "## Recursos\n",
    "\n",
    ":::{card} 🎦 Arrays en Java en 2 minutos.\n",
    "\n",
    "<iframe width=\"730\" height=\"450\" src=\"https://www.youtube.com/embed/k24J92Hod50?si=qNTy_Qa-QsaZTTPE\" title=\"YouTube video player\" frameborder=\"0\" allow=\"accelerometer; autoplay; clipboard-write; encrypted-media; gyroscope; picture-in-picture; web-share\" allowfullscreen></iframe>\n",
    ":::\n",
    "\n",
    ":::{card} 🌐 Java arrays\n",
    "Sitio web de W3School con los conceptos básicos sobre arrays en Java. Contiene ejemplos y material interactivo.\n",
    "\n",
    "[Enlace al sitio web](https://www.w3schools.com/java/java_arrays.asp)\n",
    ":::\n",
    "\n",
    ":::{card} 🌐 Blog sobre arreglos en Java y ejemplo de usarlos con metodos.\n",
    "Pagina web donde se explica (con ejemplos) las funciones en Java. Incluye temas como Modificadores de acceso, Argumentos y Parámetros, y tipos de retorno.\n",
    "\n",
    "[Enlace al sitio web](https://aprenderjava.net/base/guia-completa-de-declarar-y-manipular-arreglos-en-java/)\n",
    ":::"
   ]
  }
 ],
 "metadata": {
  "jupytext": {
   "formats": "md:myst",
   "text_representation": {
    "extension": ".md",
    "format_name": "myst"
   }
  },
  "kernelspec": {
   "display_name": "Python 3",
   "language": "python",
   "name": "python3"
  },
  "source_map": [
   11
  ]
 },
 "nbformat": 4,
 "nbformat_minor": 5
}