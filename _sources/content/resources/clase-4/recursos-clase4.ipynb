{
 "cells": [
  {
   "cell_type": "markdown",
   "id": "4b8f1861",
   "metadata": {},
   "source": [
    "# 🧰 Recursos y Actividades\n",
    "\n",
    "## Recursos\n",
    "\n",
    ":::{card} 📁 Ejemplos PSeInt\n",
    "Accede a ejemplos de PSeInt\n",
    "\n",
    "[Enlace a la carpeta](https://github.com/BioAITeamLearning/prog1-2023-02-ucaldas/tree/3a61e09745670a0ddb4148d75ec9e3743fdc3aca/content/resources/clase-4/ejemplos-pseint)\n",
    ":::\n",
    "\n",
    ":::{card} 🌐 ¿Qúe es la prueba de Escritorio?\n",
    "Breve lectura sobre las pruebas de escritorio y su utilidad\n",
    "\n",
    "[Enlace al sitio web](https://www.teoriadealgoritmos.com/que-es-la-prueba-de-escritorio/)\n",
    ":::\n",
    "\n",
    ":::{card} 🌐 Resumen de Operadores en Java\n",
    "Página web de Oracle con el resumen de operadores en Java y una breve explciación\n",
    "\n",
    "[Enlace al sitio web](https://docs.oracle.com/javase/tutorial/java/nutsandbolts/opsummary.html)\n",
    ":::\n",
    "\n",
    ":::{card} 🌐 Java Scanner para lectura de datos\n",
    "Página web con explicaciones sobre el funcionamiento de la clase `Scanner` de Java y ejemplos\n",
    "\n",
    "[Enlace al sitio web](http://puntocomnoesunlenguaje.blogspot.com/2012/08/java-scanner.html)\n",
    ":::\n",
    "\n",
    ":::{card} 🌐 Entrada y Salida de Variables\n",
    "Explicación sobre lectura y salida de variables en Java con `System.in` y `System.out`\n",
    "\n",
    "[Enlace al sitio web](https://www.it.uc3m.es/~amarin/doctjava/imperativo/io.html)\n",
    ":::\n",
    "\n",
    ":::{card} 🌐 ¿Qué es un string en Java y para qué sirve?\n",
    "Página web con explicación sobre la clase String, para qué sirve y los datos primitivos en Java\n",
    "\n",
    "[Enlace al sitio web](https://www.crehana.com/blog/transformacion-digital/string-java-que-es/)\n",
    ":::\n",
    "\n",
    ":::{card} 🌐 La Clase `String`\n",
    "Página web con explicaciones sobre la clase `String` de Java, funciones básicas y ejemplos\n",
    "\n",
    "[Enlace al sitio web](https://www.it.uc3m.es/~amarin/doctjava/imperativo/io.html)\n",
    ":::"
   ]
  }
 ],
 "metadata": {
  "jupytext": {
   "formats": "md:myst",
   "text_representation": {
    "extension": ".md",
    "format_name": "myst"
   }
  },
  "kernelspec": {
   "display_name": "Python 3",
   "language": "python",
   "name": "python3"
  },
  "source_map": [
   11
  ]
 },
 "nbformat": 4,
 "nbformat_minor": 5
}