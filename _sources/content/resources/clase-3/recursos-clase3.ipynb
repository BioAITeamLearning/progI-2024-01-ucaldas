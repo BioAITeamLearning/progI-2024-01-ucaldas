{
 "cells": [
  {
   "cell_type": "markdown",
   "id": "49c45153",
   "metadata": {},
   "source": [
    "# 🧰 Recursos y Actividades\n",
    "\n",
    "## Recursos\n",
    "\n",
    "Aprende a programar con juegos\n",
    "\n",
    ":::{card} 🔵 The Python Challenge\n",
    "Pruebate y mejora con este lenguaje de programación, el más utilizado por los cientificos de datos y datascience\n",
    "[Enlace al sitio web](http://www.pythonchallenge.com/)\n",
    ":::\n",
    "\n",
    ":::{card} 🔵 Code Combat\n",
    "Aprende Javascript y Python utilizando este juego como base, es muy intuitivo, eso sí necesitaras mejorar tus habilidades con el inglés\n",
    "[Enlace al sitio web](https://codecombat.com/)\n",
    ":::\n",
    "\n",
    ":::{card} 🔵 Coding Games\n",
    "Un entorno más tranquilo donde aprender la logíca de programación y diferentes idiomas para programar\n",
    "[Enlace al sitio web](https://www.codingame.com/start)\n",
    ":::\n",
    "\n",
    ":::{card} 🔵 Ciencias de la Computación\n",
    "Aprende más sobre uno de los nuevos trabajos más aclamados, esta disciplina emergente y revolucionaría te esta esperando\n",
    "[Enlace al sitio web](https://studio.code.org/courses)\n",
    ":::"
   ]
  }
 ],
 "metadata": {
  "jupytext": {
   "formats": "md:myst",
   "text_representation": {
    "extension": ".md",
    "format_name": "myst"
   }
  },
  "kernelspec": {
   "display_name": "Python 3",
   "language": "python",
   "name": "python3"
  },
  "source_map": [
   11
  ]
 },
 "nbformat": 4,
 "nbformat_minor": 5
}