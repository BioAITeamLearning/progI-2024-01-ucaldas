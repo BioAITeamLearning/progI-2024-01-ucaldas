{
 "cells": [
  {
   "cell_type": "markdown",
   "id": "dc626f8f",
   "metadata": {},
   "source": [
    "# 🧰 Recursos y Actividades\n",
    "\n",
    "## Recursos\n",
    "\n",
    ":::{card} 🌐 Java do while loop\n",
    "Página web con un tutorial sobre la estructura de repetición `while` en Java\n",
    "\n",
    "[Enlace al sitio web](https://www.digitalocean.com/community/tutorials/java-do-while-loop)\n",
    ":::\n",
    "\n",
    ":::{card} 🌐 Java While Loop\n",
    "Sitio web de W3School con los conceptos básicos sobre la estructura de repetición `while` en Java. Contiene material interactivo.\n",
    "\n",
    "[Enlace al sitio web](https://www.w3schools.com/java/java_while_loop.asp)\n",
    ":::\n",
    "\n",
    ":::{card} 🌐 Python While Loops\n",
    "Sitio web de W3School con los conceptos básicos sobre la estructura de repetición `while` en Python. Contiene material interactivo.\n",
    "\n",
    "[Enlace al sitio web](https://www.w3schools.com/python/python_while_loops.asp)\n",
    ":::\n",
    "\n",
    ":::{card} 🌐 Java Stream forEach y Colecciones\n",
    "Sitio web con explicación y ejemplos sobre la estructura de repetición forEach (`for` resumido) y cómo usarlo con Streams en Java.\n",
    "\n",
    "[Enlace al sitio web](https://www.arquitecturajava.com/java-stream-foreach-y-colecciones/)\n",
    ":::"
   ]
  }
 ],
 "metadata": {
  "jupytext": {
   "formats": "md:myst",
   "text_representation": {
    "extension": ".md",
    "format_name": "myst"
   }
  },
  "kernelspec": {
   "display_name": "Python 3",
   "language": "python",
   "name": "python3"
  },
  "source_map": [
   11
  ]
 },
 "nbformat": 4,
 "nbformat_minor": 5
}