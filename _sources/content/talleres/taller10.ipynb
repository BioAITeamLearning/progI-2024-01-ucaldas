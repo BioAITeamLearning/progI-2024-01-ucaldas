{
 "cells": [
  {
   "cell_type": "markdown",
   "id": "b8c5149f",
   "metadata": {},
   "source": [
    "# 📄 Taller 10\n",
    "\n",
    "## Arreglos\n",
    "Programación I\n",
    "\n",
    "Reinel Tabares Soto\n",
    "\n",
    ":::{note}\n",
    "Este taller puede entregarse en Google Colab (enlace al notebook en un `.docx` con los permisos en público) o en archivos `.java`.\n",
    "\n",
    "Si el notebook no tiene los permisos en público, no será evaluado el taller.\n",
    ":::\n",
    "\n",
    "### Ejercicio 1\n",
    "Realice un programa que dada una matriz de dimensiones mxn introducida por teclado, inserte ceros y unos aleatoriamente en dicha matriz, de forma que una vez llena, cuente cuantos 1 hay. \n",
    "\n",
    "### Ejercicio 2\n",
    "Realiza una función que reciba una matriz con números decimales y la forma de ordenarlos (ascendente o descendente). La función debe retornar una matriz ordenada, adicionalmente imprimir sus elementos y el promedio.\n",
    "\n",
    "### Ejercicio 3\n",
    "Realice un programa que devuelva una matriz de números pares aleatorios. Debe crear una función que reciba como argumentos las dimensiones y el rango de los números aleatorios que se crearán.\n",
    "\n",
    "Forma de la Función: \n",
    "\n",
    "pares_Aleatorios( <dimensión m>,  <dimensión n>,<rango mínimo>, <rango máximo>)\n",
    "\n",
    "Nota. Utiliza Math.random() para crear los números aleatorios y limita su rango. \n",
    "Pista. Puede ser útil el ciclo do-while.\n",
    "\n",
    "### Ejercicio 4\n",
    "Realice un programa que desplace x posiciones los elementos de una matriz de caracteres. El usuario debe ingresar los elementos (datos de tipo char) de la matriz, debe ser de dimensiones mxn, es decir, el usuario también debe ingresar la dimensión de la matriz.\n",
    "Debe validarse que la dimensión de la matriz sea mayor o igual 2x2.\n",
    "\n",
    "\n",
    "### Ejercicio 5\n",
    " Realice un programa que permita ejecutar las siguientes operaciones entre matrices:\n",
    "Suma, Resta, Multiplicación por un escalar y multiplicación entre dos matrices.\n",
    "Para ello haga uso de funciones y un menú (se sugiere usar do while)"
   ]
  },
  {
   "cell_type": "markdown",
   "id": "71f76f9c",
   "metadata": {},
   "source": [
    "[Click para ir a la información operaciones con matrices](https://yosoytuprofe.20minutos.es/2017/06/04/operaciones-con-matrices/) {fas}`arrow-right`\n",
    ":::"
   ]
  }
 ],
 "metadata": {
  "jupytext": {
   "formats": "md:myst",
   "text_representation": {
    "extension": ".md",
    "format_name": "myst"
   }
  },
  "kernelspec": {
   "display_name": "Python 3",
   "language": "python",
   "name": "python3"
  },
  "source_map": [
   11,
   51
  ]
 },
 "nbformat": 4,
 "nbformat_minor": 5
}