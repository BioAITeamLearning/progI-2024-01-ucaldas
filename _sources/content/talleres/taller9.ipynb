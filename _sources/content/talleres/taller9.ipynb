{
 "cells": [
  {
   "cell_type": "markdown",
   "id": "ef7ced1d",
   "metadata": {},
   "source": [
    "# 📄 Taller 9\n",
    "\n",
    "## Arreglos\n",
    "Programación I\n",
    "\n",
    "Reinel Tabares Soto\n",
    "\n",
    ":::{note}\n",
    "Este taller puede entregarse en Google Colab (enlace al notebook en un `.docx` con los permisos en público) o en archivos `.java`.\n",
    "\n",
    "Si el notebook no tiene los permisos en público, no será evaluado el taller.\n",
    ":::\n",
    "\n",
    "### Ejercicio 1\n",
    "Realice un programa que dado un array de enteros me devuelva la cantidad y los números pares, impares y primos.\n",
    "\n",
    "***Nota.** Usa ArrayList para devolver los números pares, impares y primos.*\n",
    "\n",
    "### Ejercicio 2\n",
    "Realiza una función que reciba un array con números decimales y la forma de ordenarlos (ascendente o descendente). La función debe retornar un array ordenado, adicionalmente imprimir sus elementos y el promedio.\n",
    "\n",
    "### Ejercicio 3\n",
    "Realice un programa que devuelva un array de números pares aleatorios. Debe crear una función que reciba como argumentos la longitud del array y el rango de los números aleatorios que se crearán.\n",
    "\n",
    "Forma de la Función:\n",
    "\n",
    "`paresAleatorios( <longitud del array>, <rango mínimo>, <rango maximo>)`\n",
    "\n",
    "***Nota.** Utiliza* `Math.random()` *para crear los números aleatorios y limita su rango.*\n",
    "\n",
    "*Pista. Puede ser útil el ciclo* `do-while`\n",
    "\n",
    "### Ejercicio 4\n",
    "Realice un programa que desplace $x$ posiciones los elementos de un array de caracteres. El usuario debe ingresar los elementos (datos de tipo `char`) del array, debe ser de longitud $n$, es decir, el usuario también debe ingresar la longitud del array.\n",
    "\n",
    "Debe validarse que la longitud del array sea mayor o igual 3.\n",
    "\n",
    "**Funcionamiento:**\n",
    "Si tenemos un array `[‘h’, ‘o’, ‘l’, ‘a’, ‘j’, ‘a’, ‘v’, ‘a’]` y deseamos desplazar los elementos $x = 3$ posiciones, el array resultante sería `[‘a’, ‘v’, ‘a’, ‘h’, ‘o’, ‘l’, ‘a’, ‘j’]`\n",
    "\n",
    "### Ejercicio 5\n",
    "Realice un programa que calcule quién gana más partidas de “Piedra, Papel o Tijera”. El usuario debe ingresar el número de partidas (también debe ingresar cada partida) y retornar un mensaje indicando qué jugador tuvo más partidas ganadas y cuantas fueron. Indicar en caso de existir empate.\n",
    "\n",
    "    1 → Piedra\n",
    "    2 → Papel\n",
    "    3 → Tijera\n",
    "\n",
    "Realice una función que reciba un array de enteros (que el usuario debe rellenar manualmente) y retorne un `String`. El juego solo está pensado para dos jugadores.\n",
    "\n",
    "**Ejemplo:**\n",
    "\n",
    "Si ingresa 3 partidas el array (después de ingresar cada elemento) tiene la forma `[1, 2, 3, 1, 2, 2]`, donde la posición $1$, $3$ y $5$ son las manos del jugador $1$. Y las posiciones $2$, $4$, $6$ son las manos del jugador $2$.\n",
    "\n",
    "Salida: Hay un empate."
   ]
  }
 ],
 "metadata": {
  "jupytext": {
   "formats": "md:myst",
   "text_representation": {
    "extension": ".md",
    "format_name": "myst"
   }
  },
  "kernelspec": {
   "display_name": "Python 3",
   "language": "python",
   "name": "python3"
  },
  "source_map": [
   11
  ]
 },
 "nbformat": 4,
 "nbformat_minor": 5
}