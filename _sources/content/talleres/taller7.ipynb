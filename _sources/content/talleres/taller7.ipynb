{
 "cells": [
  {
   "cell_type": "markdown",
   "id": "5e117c5c",
   "metadata": {},
   "source": [
    "# 📄 Taller 7\n",
    "\n",
    "## Ciclo For\n",
    "Programación I\n",
    "\n",
    "Reinel Tabares Soto\n",
    "\n",
    ":::{note}\n",
    "Este taller puede entregarse en Google Colab (enlace en un `.docx` con los permisos en público) o en archivos `.py` o `.java`.\n",
    "\n",
    "Si los notebooks de Colaboratory (tanto Java como Python) no tienen los permisos en público, no será evaluado el taller.\n",
    ":::\n",
    "\n",
    "### Ejercicio 1\n",
    "Escribe un programa que calcule el $n-esimo$ número de Fibonacci, donde $n$ es un número ingresado por el usuario.\n",
    "\n",
    "### Ejercicio 2\n",
    "Escribe un programa que genere un triángulo de Pascal de tamaño $n$, donde $n$ es un número ingresado por el usuario. El triángulo de Pascal se genera sumando los dos números inmediatamente superiores en la fila anterior para cada elemento.\n",
    "\n",
    "### Ejercicio 3\n",
    "Escribe un programa que encuentre todos los números perfectos (un número es perfecto si la suma de sus divisores propios es igual al número) entre $1$ y $n$, donde $n$ es un número ingresado por el usuario.\n",
    "\n",
    "### Ejercicio 4\n",
    "Escribe un programa que genere una pirámide numérica de tamaño $n$, donde $n$ es un número ingresado por el usuario. Cada fila de la pirámide contiene los números de $1$ a $n$ y los números de $n-1$ a $1$ en orden descendente.\n",
    "\n",
    "### Ejercicio 5\n",
    "Escribe un programa que imprima los primeros $n$ números primos, donde $n$ es un número ingresado por el usuario.\n",
    "\n",
    "### Ejercicio 6\n",
    "Escribe un programa que imprima los números del $1$ al $100$, pero para los múltiplos de $3$ imprime `Fizz` en lugar del número y para los múltiplos de $5$ imprime `Buzz`. Para los números que son múltiplos de ambos ($3$ y $5$) imprime `FizzBuzz`.\n",
    "\n",
    "### Ejercicio 7\n",
    "Escribe un programa que encuentre todos los números de Armstrong en un rango dado por el usuario. Un número de Armstrong es un número que es igual a la suma de las potencias de sus dígitos.\n",
    "\n",
    "### Ejercicio 8\n",
    "Escribe un programa que encuentre la suma de los dígitos que aparecen más de una vez en un número ingresado por el usuario.\n",
    "\n",
    "### Ejercicio 9\n",
    "Carlos ha empezado este año como programador Junior en una empresa donde se va a encargar del backend de diferentes proyectos donde él tendrá que usar lo que ha aprendido hasta ahora. \n",
    "Le han pedido que desarrolle un menú con una cantidad específica de opciones y una vez elegida y desarrollada una de las acciones debe preguntarle al usuario si quiere volver al menú o salir y terminar el programa.\n",
    "\n",
    "Opciones:\n",
    "\n",
    "- Realizar la suma, o resta, o multiplicación o división de n valores introducidos por el usuario (debe validarse que mínimo sean 2 valores, en caso de que introduzca uno solo y el otro no sea válido, debe mostrar un mensaje de error).\n",
    "\n",
    "- Activa un minijuego de piedra, papel y tijera, el usuario elige una de las opciones y el juego aleatoriamente le genera una respuesta, debe estar dividido en 3 opciones, Duelo único, Duelo al mejor de tres, N cantidad de duelos.\n",
    "\n",
    "- Mostrar una imagen (para ello consulte el siguiente enlace: [Mostrar una imagen en Java | Delft Stack](https://www.delftstack.com/es/howto/java/display-an-image-in-java/))\n",
    "\n",
    "**Nota.** Si la imagen no está en algún servidor en línea, a la hora de mandar el taller debe anexarla en una carpeta con la ruta usada para que se vea la imagen."
   ]
  }
 ],
 "metadata": {
  "jupytext": {
   "formats": "md:myst",
   "text_representation": {
    "extension": ".md",
    "format_name": "myst"
   }
  },
  "kernelspec": {
   "display_name": "Python 3",
   "language": "python",
   "name": "python3"
  },
  "source_map": [
   11
  ]
 },
 "nbformat": 4,
 "nbformat_minor": 5
}