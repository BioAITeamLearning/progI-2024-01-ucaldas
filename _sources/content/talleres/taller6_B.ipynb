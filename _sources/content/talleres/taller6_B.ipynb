{
 "cells": [
  {
   "cell_type": "markdown",
   "id": "317f3059",
   "metadata": {},
   "source": [
    "# 📄 Taller 6 B\n",
    "\n",
    "## Ciclo For\n",
    "Programación I\n",
    "\n",
    "Reinel Tabares Soto\n",
    "\n",
    ":::{note}\n",
    "Este Taller debe entregarse en formato `docx`, con sus respectivas pruebas de escritorio y diagrama de flujo realizado a mano y subido en forma de foto (en caso de pedirse).\n",
    "\n",
    "Los notebooks de Colaboratory (tanto Java como Python) deben tener su respectivo enlace en el `.docx` con los permisos en público.\n",
    ":::\n",
    "\n",
    "### Ejercicio 1\n",
    "Construya un algoritmo que reciba como entrada un cierto valor $n$, y genere como salida $n$ veces la frase `Las 6 lukas del bus se fueron en empanadas`.\n",
    "\n",
    "- Debe mostrar $n$ salidas\n",
    "- Debe mostrar $n$ veces la frase en una única salida\n",
    "- Debe utilizar `break` si $n=2$\n",
    "\n",
    "### Ejercicio 2\n",
    "Hacer un script que imprima los $20$ primeros números primos y los $20$ impares, sus cuadrados y calcular la multiplicación de los números pares e impares impresos.\n",
    "\n",
    "### Ejercicio 3\n",
    "Realizar un script que pida $n$ cantidad de números random e imprima el número mayor y el número menor.\n",
    "\n",
    "### Ejercicio 4\n",
    "Escribe un script que pida al usuario una cadena de caracteres y que imprima la misma cadena, pero sustituyendo las vocales por guiones.\n",
    "\n",
    "### Ejercicio 5\n",
    "Escribir un script que lea un entero y un carácter. La salida debe ser un triángulo dibujado con el carácter dado y de anchura máxima dada por el entero leído. \n",
    "\n",
    "Por ejemplo su entero es $7$ y el carácter es `0`, el triángulo debe ser:\n",
    "\n",
    "        0\n",
    "       000\n",
    "      00000 \n",
    "     0000000\n",
    "\n",
    "### Ejercicio 6\n",
    "Escribe un programa que lea un número $n$ y calcule su factorial ($n!$)\n",
    "\n",
    "**Pista:** La función factorial es una fórmula matemática representada por el signo de exclamación \"$!$\". En la fórmula Factorial se deben multiplicar todos los números enteros y positivos que hay entre el número que aparece en la fórmula y el número $1$.\n",
    "\n",
    "### Ejercicio 7\n",
    "Realizar un script que solicite al usuario una cadena, en la cual busca y escribe la primera vocal que aparezca.\n",
    "\n",
    "### Ejercicio 8\n",
    "La sucesión de Fibonacci es la siguiente: $1, 1, 2, 3, 5, 8, 13, 21, 34, ...$\n",
    "Es decir, $f_1=1$, $f_2=1$, y cada uno de los siguientes términos de la sucesión se calculan sumando los dos anteriores: $f_i=f_{i−1} + f_{i−2}$. Escribe un programa que genera dicha sucesión, presentando en pantalla cada uno de los términos. El programa terminará después de presentar un término mayor que un cierto límite ($10.000$, por ejemplo).\n",
    "\n",
    "\n",
    "### Ejercicio 9\n",
    "Realiza un programa que solicite una línea de texto y calcule el número de palabras presentes en ella (separadas mediante espacios).\n",
    "\n",
    "### Ejercicio 10\n",
    "Hacer un programa que calcule la moda de una cantidad de números aleatorios si no hay moda que genere $3$ más, si la hay que muestre por teclado el siguiente mensaje: `Debe haber otra forma de almacenar datos en vez de usar 50 variables`.\n",
    "\n",
    "### Ejercicio 11\n",
    "Solicitar al usuario que ingrese una frase y luego imprimir un listado de las vocales que aparecen en esa frase (sin repetirlas).\n",
    "\n",
    "### Ejercicio 12\n",
    "Escribir un programa que permita al usuario ingresar dos años y luego imprima todos los años en ese rango, que sean bisiestos y múltiplos de $10$. \n",
    "\n",
    "**Nota:** para que un año sea bisiesto debe ser divisible por $4$ y no debe ser divisible por $100$, excepto que también sea divisible por $400$.\n",
    "\n",
    "### Ejercicio 13\n",
    "Realice un algoritmo que lea de un estudiante una cantidad de notas definidas por el estudiante, adicional el estudiante debe decir cual es la ponderación de cada nota, a partir de esto el algoritmo debe calcular la nota final, la mayor nota, la menor nota y si aprobó la materia tomando como escala notas de $0$ a $5$ y como nota aprobatoria un $3$ o más."
   ]
  }
 ],
 "metadata": {
  "jupytext": {
   "formats": "md:myst",
   "text_representation": {
    "extension": ".md",
    "format_name": "myst"
   }
  },
  "kernelspec": {
   "display_name": "Python 3",
   "language": "python",
   "name": "python3"
  },
  "source_map": [
   11
  ]
 },
 "nbformat": 4,
 "nbformat_minor": 5
}