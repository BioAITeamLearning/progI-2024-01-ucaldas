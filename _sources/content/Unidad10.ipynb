{
 "cells": [
  {
   "cell_type": "markdown",
   "id": "fed38e84",
   "metadata": {},
   "source": [
    "# 📘 Matrices\n",
    "\n",
    "## Matrices\n",
    "\n",
    "- Introducción a Matrices (conceptos basicos)\n",
    "- Sintaxís y declaración\n",
    "- Ejemplos\n",
    "- Apliación sobre imágenes\n",
    "\n",
    "\n",
    "\n",
    "## Introducción a Matrices (conceptos basicos)\n",
    "\n",
    "<div class=\"admonition tip dropdown\" style=\"background: lightgreen; padding: 10px\">\n",
    "    <p class=\"title\">Click para ver Diapositivas</p>\n",
    "    Presentación\n",
    "    <iframe src=\"https://view.officeapps.live.com/op/embed.aspx?src=https://github.com/BioAITeamLearning/progI-2024-01-ucaldas/raw/main/content/resources/clase-10/Clase10_parte1.pptx\" frameborder=\"0\" width=\"750\" height=\"470\" allowfullscreen=\"true\" mozallowfullscreen=\"true\" webkitallowfullscreen=\"true\"></iframe>\n",
    "</div>\n",
    "\n",
    "## Sintaxís y declaración\n",
    "\n",
    "\n",
    "<div class=\"admonition tip dropdown\" style=\"background: lightgreen; padding: 10px\">\n",
    "    <p class=\"title\">Click para ver Diapositivas</p>\n",
    "    Presentación\n",
    "    <iframe src=\"https://view.officeapps.live.com/op/embed.aspx?src=https://github.com/BioAITeamLearning/progI-2024-01-ucaldas/raw/main/content/resources/clase-10/Clase10-parte2.pptx\" frameborder=\"0\" width=\"750\" height=\"470\" allowfullscreen=\"true\" mozallowfullscreen=\"true\" webkitallowfullscreen=\"true\"></iframe>\n",
    "</div>\n",
    "\n",
    "## Ejemplos\n",
    "\n",
    "<div class=\"admonition tip dropdown\" style=\"background: lightgreen; padding: 10px\">\n",
    "    <p class=\"title\">Click para ver Diapositivas</p>\n",
    "    Presentación\n",
    "    <iframe src=\"https://view.officeapps.live.com/op/embed.aspx?src=https://github.com/BioAITeamLearning/progI-2024-01-ucaldas/raw/main/content/resources/clase-10/Clase10-parte3.pptx\" frameborder=\"0\" width=\"750\" height=\"470\" allowfullscreen=\"true\" mozallowfullscreen=\"true\" webkitallowfullscreen=\"true\"></iframe>\n",
    "</div>\n",
    "\n",
    "## Ejemplos\n",
    "\n",
    "<div class=\"admonition tip dropdown\" style=\"background: lightgreen; padding: 10px\">\n",
    "    <p class=\"title\">Click para ver Diapositivas</p>\n",
    "    Presentación\n",
    "    <iframe src=\"https://view.officeapps.live.com/op/embed.aspx?src=https://github.com/BioAITeamLearning/progI-2024-01-ucaldas/raw/main/content/resources/clase-10/Clase10-parte4.pptx\" frameborder=\"0\" width=\"750\" height=\"470\" allowfullscreen=\"true\" mozallowfullscreen=\"true\" webkitallowfullscreen=\"true\"></iframe>\n",
    "</div>\n",
    "\n",
    "\n",
    "\n",
    ":::{note}\n",
    "Puedes acceder a los notebooks en las siguientes páginas (*Arreglos - Java, Arreglos - Python*)\n",
    ":::\n",
    "\n",
    "## Presentación Completa\n",
    "\n",
    ":::{warning} La presentación completa es temporal\n",
    ":::\n",
    "\n",
    "<iframe src=\"https://docs.google.com/presentation/d/e/2PACX-1vSPbCwNai00P3auLR5tOMo2QTznp2isMWJvqOOtFiHc69CUS_ZYWoiU1j6DVQU2yg/embed?start=false&loop=false&delayms=3000\" frameborder=\"0\" width=\"790\" height=\"490\" allowfullscreen=\"true\" mozallowfullscreen=\"true\" webkitallowfullscreen=\"true\"></iframe>"
   ]
  }
 ],
 "metadata": {
  "jupytext": {
   "formats": "md:myst",
   "text_representation": {
    "extension": ".md",
    "format_name": "myst"
   }
  },
  "kernelspec": {
   "display_name": "Python 3",
   "language": "python",
   "name": "python3"
  },
  "source_map": [
   11
  ]
 },
 "nbformat": 4,
 "nbformat_minor": 5
}