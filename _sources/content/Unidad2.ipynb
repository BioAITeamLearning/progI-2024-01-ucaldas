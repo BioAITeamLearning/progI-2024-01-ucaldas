{
 "cells": [
  {
   "cell_type": "markdown",
   "id": "12e70bdd",
   "metadata": {},
   "source": [
    "# 📘 Tipos de Datos\n",
    "\n",
    "## Datos y Tipos de Datos\n",
    "\n",
    "<div class=\"admonition tip dropdown\" style=\"background: lightgreen; padding: 10px\">\n",
    "    <p class=\"title\">Click para ver Diapositivas</p>\n",
    "    Presentación\n",
    "    <iframe src=\"https://view.officeapps.live.com/op/embed.aspx?src=https://github.com/BioAITeamLearning/progI-2024-01-ucaldas/raw/main/content/resources/clase-2/1-datos-tipos.pptx\" frameborder=\"1\" width=\"750\" height=\"470\" allowfullscreen=\"true\" mozallowfullscreen=\"true\" webkitallowfullscreen=\"true\">\n",
    "</div>\n",
    "\n",
    ":::{note}\n",
    "Puedes acceder al notebook en la siguiente página (*Tipos de Datos y Variables*)\n",
    ":::\n",
    "\n",
    "## Sistemas de Numeración\n",
    "\n",
    "<div class=\"admonition tip dropdown\" style=\"background: lightgreen; padding: 10px\">\n",
    "    <p class=\"title\">Click para ver Diapositivas</p>\n",
    "    Presentación\n",
    "    <iframe src=\"https://view.officeapps.live.com/op/embed.aspx?src=https://github.com/BioAITeamLearning/progI-2024-01-ucaldas/raw/main/content/resources/clase-2/2-sistemas-num.pptx\" frameborder=\"1\" width=\"750\" height=\"470\" allowfullscreen=\"true\" mozallowfullscreen=\"true\" webkitallowfullscreen=\"true\">\n",
    "</div>\n",
    "\n",
    "\n",
    "## Manejo de Variables\n",
    "\n",
    "<div class=\"admonition tip dropdown\" style=\"background: lightgreen; padding: 10px\">\n",
    "    <p class=\"title\">Click para ver Diapositivas</p>\n",
    "    Presentación\n",
    "    <iframe src=\"https://view.officeapps.live.com/op/embed.aspx?src=https://github.com/BioAITeamLearning/progI-2024-01-ucaldas/raw/main/content/resources/clase-2/4-manejo-var.pptx\" frameborder=\"1\" width=\"750\" height=\"470\" allowfullscreen=\"true\" mozallowfullscreen=\"true\" webkitallowfullscreen=\"true\">\n",
    "</div>\n",
    "\n",
    ":::{note}\n",
    "Puedes acceder al notebook en la siguiente página (*Tipos de Datos y Variables*)\n",
    ":::\n",
    "\n",
    "## Entornos y Lenguajes de Programación\n",
    "\n",
    "<div class=\"admonition tip dropdown\" style=\"background: lightgreen; padding: 10px\">\n",
    "    <p class=\"title\">Click para ver Diapositivas</p>\n",
    "    Presentación\n",
    "    <iframe src=\"https://view.officeapps.live.com/op/embed.aspx?src=https://github.com/BioAITeamLearning/progI-2024-01-ucaldas/raw/main/content/resources/clase-2/3-entornos.pptx\" frameborder=\"1\" width=\"750\" height=\"470\" allowfullscreen=\"true\" mozallowfullscreen=\"true\" webkitallowfullscreen=\"true\">\n",
    "</div>\n",
    "\n",
    "## Espacio en Memoria\n",
    "\n",
    "<div class=\"admonition tip dropdown\" style=\"background: lightgreen; padding: 10px\">\n",
    "    <p class=\"title\">Click para ver Diapositivas</p>\n",
    "    Presentación\n",
    "    <iframe src=\"https://view.officeapps.live.com/op/embed.aspx?src=https://github.com/BioAITeamLearning/progI-2024-01-ucaldas/raw/main/content/resources/clase-2/5-espacio-memoria.pptx\" frameborder=\"1\" width=\"750\" height=\"470\" allowfullscreen=\"true\" mozallowfullscreen=\"true\" webkitallowfullscreen=\"true\">\n",
    "</div>\n",
    "\n",
    "\n",
    "## Presentación Completa\n",
    "\n",
    ":::{warning} La presentación completa es temporal\n",
    ":::\n",
    "\n",
    "<iframe src=\"https://docs.google.com/presentation/d/e/2PACX-1vT9jyuQkEe6LQdm1cxB21knlHQZJl32adn9PdDztiu79y3wDG4Q5hPIPaKg23kNEg/embed?start=false&loop=false&delayms=3000\" frameborder=\"0\" width=\"790\" height=\"490\" allowfullscreen=\"true\" mozallowfullscreen=\"true\" webkitallowfullscreen=\"true\"></iframe>"
   ]
  }
 ],
 "metadata": {
  "jupytext": {
   "formats": "md:myst",
   "text_representation": {
    "extension": ".md",
    "format_name": "myst"
   }
  },
  "kernelspec": {
   "display_name": "Python 3",
   "language": "python",
   "name": "python3"
  },
  "source_map": [
   11
  ]
 },
 "nbformat": 4,
 "nbformat_minor": 5
}