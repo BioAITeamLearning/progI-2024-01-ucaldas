{
 "cells": [
  {
   "cell_type": "markdown",
   "id": "4116581c",
   "metadata": {},
   "source": [
    "# 🔨 Quiz 3\n",
    "\n",
    "<div>\n",
    "    <p style=\"color:white\">---------------------------------------------------------------------------------------------------------------------------------------------</p>\n",
    "</div>\n",
    "\n",
    "Evaluemos lo aprendido en la Clase 3\n",
    "\n",
    ":::{card}\n",
    ":class-body: text-center\n",
    ":class-header: bg-light text-center\n",
    ":link: https://docs.google.com/forms/d/e/1FAIpQLSfUYfH5t1uMvZrh_uVn0Wa1gXNkE2-Hfo-mFcnDR3lrXmvrgw/viewform?usp=sharing\n",
    "**💬 Quiz 3**\n",
    "^^^\n",
    "```{image} https://upload.wikimedia.org/wikipedia/commons/thumb/c/c2/Google_Forms_logo_%282014-2020%29.svg/1489px-Google_Forms_logo_%282014-2020%29.svg.png\n",
    ":height: 100\n",
    "```\n",
    "\n",
    "Quiz 3: Clase 4\n",
    "+++\n",
    "[Click para ir al Quiz](https://docs.google.com/forms/d/e/1FAIpQLSfUYfH5t1uMvZrh_uVn0Wa1gXNkE2-Hfo-mFcnDR3lrXmvrgw/viewform?usp=sharing) {fas}`arrow-right`\n",
    ":::"
   ]
  }
 ],
 "metadata": {
  "jupytext": {
   "formats": "md:myst",
   "text_representation": {
    "extension": ".md",
    "format_name": "myst"
   }
  },
  "kernelspec": {
   "display_name": "Python 3",
   "language": "python",
   "name": "python3"
  },
  "source_map": [
   11
  ]
 },
 "nbformat": 4,
 "nbformat_minor": 5
}