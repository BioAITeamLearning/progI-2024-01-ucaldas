{
 "cells": [
  {
   "cell_type": "markdown",
   "id": "c9301bbc",
   "metadata": {},
   "source": [
    "# 🔨 Quiz 7\n",
    "\n",
    "<div>\n",
    "    <p style=\"color:transparent\">---------------------------------------------------------------------------------------------------------------------------------------------</p>\n",
    "</div>\n",
    "\n",
    "Evaluemos lo aprendido en la Clase 8\n",
    "\n",
    ":::{card}\n",
    ":class-body: text-center\n",
    ":class-header: bg-light text-center\n",
    ":link: https://forms.gle/ZFE8dvie4V8auqCH7\n",
    "**💬 Quiz 7**\n",
    "^^^\n",
    "```{image} https://upload.wikimedia.org/wikipedia/commons/thumb/c/c2/Google_Forms_logo_%282014-2020%29.svg/1489px-Google_Forms_logo_%282014-2020%29.svg.png\n",
    ":height: 100\n",
    "```\n",
    "\n",
    "Quiz 7: Clase 8\n",
    "+++\n",
    "[Click para ir al Quiz](https://forms.gle/ZFE8dvie4V8auqCH7) {fas}`arrow-right`\n",
    ":::"
   ]
  }
 ],
 "metadata": {
  "jupytext": {
   "formats": "md:myst",
   "text_representation": {
    "extension": ".md",
    "format_name": "myst"
   }
  },
  "kernelspec": {
   "display_name": "Python 3",
   "language": "python",
   "name": "python3"
  },
  "source_map": [
   11
  ]
 },
 "nbformat": 4,
 "nbformat_minor": 5
}