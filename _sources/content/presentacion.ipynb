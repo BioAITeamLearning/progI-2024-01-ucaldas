{
 "cells": [
  {
   "cell_type": "markdown",
   "id": "03436791",
   "metadata": {},
   "source": [
    "# 🎥 Generalidades\n",
    "\n",
    "<div>\n",
    "    <br>\n",
    "</div>\n",
    "\n",
    "```{admonition} Nota\n",
    ":class: note\n",
    "Si no ves cambios en cualquier unidad de la página realiza un [hard refresh](https://filecamp.com/support/problem-solving/hard-refresh/) presionando `Ctrl` + `Shift` + `R` (Windows/Linux), o `⌘` + `Shift` + `R` (Mac OS).\n",
    "```\n",
    "\n",
    "## Clases y horarios\n",
    "\n",
    "**Grupo 3**\n",
    "- Miércoles 10:00 AM - 01:00 PM\n",
    "- Viernes 8:00 AM - 10:00 AM\n",
    "\n",
    "## Presentación del Programa Oficial\n",
    "\n",
    "El curso PROGRAMACIÓN I presenta, las herramientas necesarias para llegar a la solución de problemas a nivel de programación de computadores.\n",
    "\n",
    "Antes de enfatizar en el manejo de un lenguaje de programación como tal, es importante conocer elementos que ayuden a desarrollar la lógica algorítmica, de tal manera que posteriormente se facilite el manejo de las herramientas de programación.\n",
    "\n",
    "## Área de Programación\n",
    "\n",
    "Plan de estudios Ingeniería de Sistemas y Computación\n",
    "\n",
    "<div class=\"admonition tip dropdown\" style=\"background: lightgreen; padding: 10px\">\n",
    "    <p class=\"title\">Click para ver Diapositivas</p>\n",
    "    Presentación\n",
    "    <iframe src=\"https://view.officeapps.live.com/op/embed.aspx?src=https://github.com/BioAITeamLearning/progI-2024-01-ucaldas/raw/main/content/resources/clase-1/area-prog.pptx\" frameborder=\"1\" width=\"750\" height=\"470\" allowfullscreen=\"true\" mozallowfullscreen=\"true\" webkitallowfullscreen=\"true\">\n",
    "</div>\n",
    "\n",
    "## Información del Curso\n",
    "\n",
    "*Programación I - G8F0052*\n",
    "\n",
    "<div class=\"admonition tip dropdown\" style=\"background: lightgreen; padding: 10px\">\n",
    "    <p class=\"title\">Click para ver Diapositivas</p>\n",
    "    Presentación\n",
    "    <iframe src=\"https://view.officeapps.live.com/op/embed.aspx?src=https://github.com/BioAITeamLearning/progI-2024-01-ucaldas/raw/main/content/resources/clase-1/info-prog.pptx\" frameborder=\"1\" width=\"750\" height=\"470\" allowfullscreen=\"true\" mozallowfullscreen=\"true\" webkitallowfullscreen=\"true\">\n",
    "</div>\n",
    "\n",
    "\n",
    "## Forma de Trabajo\n",
    "\n",
    "- Presentación de la Temática\n",
    "    - Lecturas, clases.\n",
    "- Desarrollo de Ejercicios\n",
    "    - Solución de ejercicios durante las clases.\n",
    "    - Trabajo individual.\n",
    "    - Trabajo grupal.\n",
    "- Desarrollo de Ejercicios Adicionales\n",
    "    -  Desarrollo de talleres asociados a la temática en estudio.\n",
    "- Revisión del Trabajo Desarrollado\n",
    "    - Discusión de ejercicios y análisis de soluciones y problemas.\n",
    "    - Retroalimentación del trabajo realizado en los talleres.\n",
    "\n",
    "\n",
    "## Propuesta de Evaluación\n",
    "\n",
    "Porcentajes de Parciales, Quices y Talleres\n",
    "\n",
    "<div class=\"admonition tip dropdown\" style=\"background: lightgreen; padding: 10px\">\n",
    "    <p class=\"title\">Click para ver Diapositivas</p>\n",
    "    Presentación\n",
    "    <iframe src=\"https://view.officeapps.live.com/op/embed.aspx?src=https://github.com/BioAITeamLearning/progI-2024-01-ucaldas/raw/main/content/resources/clase-1/porcentajes.pptx\" frameborder=\"1\" width=\"750\" height=\"470\" allowfullscreen=\"true\" mozallowfullscreen=\"true\" webkitallowfullscreen=\"true\">\n",
    "</div>"
   ]
  }
 ],
 "metadata": {
  "jupytext": {
   "formats": "md:myst",
   "text_representation": {
    "extension": ".md",
    "format_name": "myst"
   }
  },
  "kernelspec": {
   "display_name": "Python 3",
   "language": "python",
   "name": "python3"
  },
  "source_map": [
   11
  ]
 },
 "nbformat": 4,
 "nbformat_minor": 5
}