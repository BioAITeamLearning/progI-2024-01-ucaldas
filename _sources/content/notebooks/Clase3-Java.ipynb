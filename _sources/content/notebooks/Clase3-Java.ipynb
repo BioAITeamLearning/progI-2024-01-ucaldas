{
  "cells": [
    {
      "cell_type": "markdown",
      "metadata": {
        "id": "xnm-y3gxGv-Z"
      },
      "source": [
        "# 📙 Operadores en Java"
      ]
    },
    {
      "cell_type": "markdown",
      "metadata": {
        "id": "rwjBFkoZLC5-"
      },
      "source": [
        "## Tabla de Contenido\n",
        "\n",
        "- [1 - Instalar Java](#1)\n",
        "- [2 - Operadores Lógicos](#2)\n",
        "- [3 - Operadores Aritméticos](#3)\n",
        "- [4 - Operadores Relacionales](#4)\n",
        "- [5 - Operadores Unarios](#5)\n",
        "- [6 - Jerarquia de Operadores](#6)\n",
        "- [7 - Ejercicio](#7)"
      ]
    },
    {
      "cell_type": "markdown",
      "metadata": {
        "id": "h8oLiOstldF5"
      },
      "source": [
        "<a name='1'></a>\n",
        "## Instalar Java"
      ]
    },
    {
      "cell_type": "markdown",
      "metadata": {
        "id": "880xyshJlyOw"
      },
      "source": [
        "<div class=\"admonition warning\" style=\"padding: 10px\">\n",
        "    <p class=\"title\">Descargar el kernel</p>\n",
        "<p>Ejecuta la siguiente celda. No la modifiques!</p>\n",
        "</div>"
      ]
    },
    {
      "cell_type": "code",
      "execution_count": 1,
      "metadata": {
        "colab": {
          "base_uri": "https://localhost:8080/"
        },
        "id": "8Li3_nLjNhns",
        "outputId": "bf783f82-d7f4-4053-f554-b6dd9cdb1cbd"
      },
      "outputs": [
        {
          "name": "stdout",
          "output_type": "stream",
          "text": [
            "Installed java kernel into \"/usr/local/share/jupyter/kernels/java\"\n",
            "e2732061ad19c1afa4a33a58cb8f18a9-b6cff2bf09b6832344e576ea1e4731f0fb3df10c/install_ipc_proxy_kernel.py\n",
            "e2732061ad19c1afa4a33a58cb8f18a9-b6cff2bf09b6832344e576ea1e4731f0fb3df10c/ipc_proxy_kernel.py\n",
            "Moving java kernel from /usr/local/share/jupyter/kernels/java...\n",
            "Wrote modified kernel.json for java_tcp in /usr/local/share/jupyter/kernels/java_tcp/kernel.json\n",
            "Installing the proxy kernel in place of java in /usr/local/share/jupyter/kernels/java\n",
            "Installed proxy kernelspec: {\"argv\": [\"/usr/bin/python3\", \"/usr/local/share/jupyter/kernels/java/ipc_proxy_kernel.py\", \"{connection_file}\", \"--kernel=java_tcp\"], \"env\": {}, \"display_name\": \"Java\", \"language\": \"java\", \"interrupt_mode\": \"message\", \"metadata\": {}}\n",
            "Proxy kernel installed. Go to 'Runtime > Change runtime type' and select 'java'\n"
          ]
        },
        {
          "name": "stderr",
          "output_type": "stream",
          "text": [
            "/content/install.py:164: DeprecationWarning: replace is ignored. Installing a kernelspec always replaces an existing installation\n",
            "  install_dest = KernelSpecManager().install_kernel_spec(\n"
          ]
        }
      ],
      "source": [
        "%%sh\n",
        "wget -q https://github.com/SpencerPark/IJava/releases/download/v1.3.0/ijava-1.3.0.zip\n",
        "unzip -q ijava-1.3.0.zip\n",
        "python install.py\n",
        "\n",
        "wget -qO- https://gist.github.com/SpencerPark/e2732061ad19c1afa4a33a58cb8f18a9/archive/b6cff2bf09b6832344e576ea1e4731f0fb3df10c.tar.gz | tar xvz --strip-components=1\n",
        "python install_ipc_proxy_kernel.py --kernel=java --implementation=ipc_proxy_kernel.py"
      ]
    },
    {
      "cell_type": "markdown",
      "metadata": {
        "id": "pNz29BiSG_Im"
      },
      "source": [
        "<div class=\"admonition warning\" style=\"padding: 10px\">\n",
        "    <p class=\"title\">Instrucciones para activar el kernel</p>\n",
        "<p>Dirigite a <code>Entorno de ejecución</code> > <code>Cambiar tipo de entorno de ejecución</code> > Elige la opción <code>Java</code> > Da click en <code>Guardar</code></p>\n",
        "</div>"
      ]
    },
    {
      "cell_type": "markdown",
      "metadata": {
        "id": "m8wEUtfGlfeI"
      },
      "source": [
        "<a name='2'></a>\n",
        "## Operadores Lógicos"
      ]
    },
    {
      "cell_type": "markdown",
      "metadata": {
        "id": "lTZeN3Mym01L"
      },
      "source": [
        "Operador AND (`&&`)\n",
        "\n",
        "<img src=\"https://aristoteles2pc.files.wordpress.com/2011/03/tabla-de-verdad.png?w=225&h=300\" height=225>"
      ]
    },
    {
      "cell_type": "code",
      "execution_count": 3,
      "metadata": {
        "colab": {
          "base_uri": "https://localhost:8080/"
        },
        "id": "u9QgHXU8mz22",
        "outputId": "1a2cfed4-681b-4c54-f950-f9aa718f105b"
      },
      "outputs": [
        {
          "name": "stdout",
          "output_type": "stream",
          "text": [
            "false\n",
            "false\n",
            "false\n",
            "true\n"
          ]
        }
      ],
      "source": [
        "// 0 = false, 1 = true\n",
        "System.out.println(false && false);\n",
        "System.out.println(false && true);\n",
        "System.out.println(true && false);\n",
        "System.out.println(true && true);"
      ]
    },
    {
      "cell_type": "markdown",
      "metadata": {
        "id": "1tSeirE3oOu-"
      },
      "source": [
        "Operador OR (`||`)\n",
        "\n",
        "<img src=\"https://aristoteles2pc.files.wordpress.com/2011/03/or1.png?w=228&h=300\" height=225>"
      ]
    },
    {
      "cell_type": "code",
      "execution_count": 6,
      "metadata": {
        "colab": {
          "base_uri": "https://localhost:8080/"
        },
        "id": "8n86aO9Yob9F",
        "outputId": "5ab8ac2d-0a60-4a37-ebed-4f38231ed7dd"
      },
      "outputs": [
        {
          "name": "stdout",
          "output_type": "stream",
          "text": [
            "false\n",
            "true\n",
            "true\n",
            "true\n"
          ]
        }
      ],
      "source": [
        "System.out.println(false || false);\n",
        "System.out.println(false || true);\n",
        "System.out.println(true || false);\n",
        "System.out.println(true || true);"
      ]
    },
    {
      "cell_type": "code",
      "execution_count": 8,
      "metadata": {
        "colab": {
          "base_uri": "https://localhost:8080/"
        },
        "id": "n8XPRBqv1oUn",
        "outputId": "19151446-c115-49b0-bd37-66b0647b3f6a"
      },
      "outputs": [
        {
          "data": {
            "text/plain": [
              "false"
            ]
          },
          "execution_count": 8,
          "metadata": {},
          "output_type": "execute_result"
        }
      ],
      "source": [
        "false || false"
      ]
    },
    {
      "cell_type": "markdown",
      "metadata": {
        "id": "jgQb15c7olE7"
      },
      "source": [
        "Operador Negación o NOT (`!`)\n",
        "\n",
        "<img src=\"https://aristoteles2pc.files.wordpress.com/2011/03/not1.png\" height=180>\n"
      ]
    },
    {
      "cell_type": "code",
      "execution_count": 11,
      "metadata": {
        "colab": {
          "base_uri": "https://localhost:8080/"
        },
        "id": "y3eVOuwho9xf",
        "outputId": "1c61182d-146e-4098-e1d8-af0125954fac"
      },
      "outputs": [
        {
          "name": "stdout",
          "output_type": "stream",
          "text": [
            "true\n",
            "false\n"
          ]
        }
      ],
      "source": [
        "System.out.println(!false);\n",
        "System.out.println(!true);"
      ]
    },
    {
      "cell_type": "markdown",
      "metadata": {
        "id": "3Q7gFA2hrXJG"
      },
      "source": [
        "Operador XOR (`^`)\n",
        "\n",
        "<img src=\"https://i.stack.imgur.com/Q7U6I.png\" height=150>"
      ]
    },
    {
      "cell_type": "code",
      "execution_count": 13,
      "metadata": {
        "colab": {
          "base_uri": "https://localhost:8080/"
        },
        "id": "4dTx0rGyri7D",
        "outputId": "16124ea1-3edb-425f-ccaf-b11ba3cfce8e"
      },
      "outputs": [
        {
          "name": "stdout",
          "output_type": "stream",
          "text": [
            "false\n",
            "true\n",
            "true\n",
            "false\n"
          ]
        }
      ],
      "source": [
        "System.out.println(false ^ false);\n",
        "System.out.println(false ^ true);\n",
        "System.out.println(true ^ false);\n",
        "System.out.println(true ^ true);"
      ]
    },
    {
      "cell_type": "markdown",
      "metadata": {
        "id": "33C46wbCk9Cj"
      },
      "source": [
        "<a name='3'></a>\n",
        "## Operadores Aritméticos"
      ]
    },
    {
      "cell_type": "code",
      "execution_count": 15,
      "metadata": {
        "id": "4eAvG4s2quwE"
      },
      "outputs": [],
      "source": [
        "int a = 2;\n",
        "int b = 6;"
      ]
    },
    {
      "cell_type": "code",
      "execution_count": 17,
      "metadata": {
        "colab": {
          "base_uri": "https://localhost:8080/"
        },
        "id": "j-nLFVAQqyrs",
        "outputId": "1c30ddcf-1dce-4416-82ee-e0dea9c01c2d"
      },
      "outputs": [
        {
          "name": "stdout",
          "output_type": "stream",
          "text": [
            "8\n",
            "-4\n",
            "12\n",
            "0\n",
            "2\n"
          ]
        }
      ],
      "source": [
        "System.out.println(a + b);\n",
        "System.out.println(a - b);\n",
        "System.out.println(a * b);\n",
        "System.out.println(a / b);\n",
        "System.out.println(a % b);"
      ]
    },
    {
      "cell_type": "markdown",
      "metadata": {
        "id": "3oHKOlK7lB14"
      },
      "source": [
        "<a name='4'></a>\n",
        "## Operadores Relacionales"
      ]
    },
    {
      "cell_type": "markdown",
      "metadata": {
        "id": "2ourayeKsEf3"
      },
      "source": [
        "![image.png](data:image/png;base64,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)"
      ]
    },
    {
      "cell_type": "code",
      "execution_count": 19,
      "metadata": {
        "id": "O5zGHt8ilE5P"
      },
      "outputs": [],
      "source": [
        "int num_1 = 2;\n",
        "int num_2 = 5;\n",
        "float num_3 = 2.0001f;\n",
        "int num_4 = 2;\n",
        "char letra_E = 'E';\n",
        "char letra_e = 'e';"
      ]
    },
    {
      "cell_type": "code",
      "execution_count": 21,
      "metadata": {
        "colab": {
          "base_uri": "https://localhost:8080/"
        },
        "id": "PeS279lbsCyo",
        "outputId": "a09307f3-cab2-4f33-8d55-14e6c7105e50"
      },
      "outputs": [
        {
          "name": "stdout",
          "output_type": "stream",
          "text": [
            "false\n"
          ]
        }
      ],
      "source": [
        "// 2 es mayor que 5?\n",
        "System.out.println(num_1 > num_2);"
      ]
    },
    {
      "cell_type": "code",
      "execution_count": 26,
      "metadata": {
        "colab": {
          "base_uri": "https://localhost:8080/"
        },
        "id": "2V5z5CByum1-",
        "outputId": "203039d1-8386-43f4-a4e1-95e29ebd82ce"
      },
      "outputs": [
        {
          "name": "stdout",
          "output_type": "stream",
          "text": [
            "true\n"
          ]
        }
      ],
      "source": [
        "// 2 es menor que 5?\n",
        "System.out.println(num_1 < num_2);"
      ]
    },
    {
      "cell_type": "code",
      "execution_count": 28,
      "metadata": {
        "colab": {
          "base_uri": "https://localhost:8080/"
        },
        "id": "7xdGh8F9utYM",
        "outputId": "c0bb3b5b-5d30-4b06-fc01-80f71cd10a29"
      },
      "outputs": [
        {
          "name": "stdout",
          "output_type": "stream",
          "text": [
            "false\n"
          ]
        }
      ],
      "source": [
        "// 2 es mayor o igual que 5?\n",
        "System.out.println(num_1 >= num_2);"
      ]
    },
    {
      "cell_type": "code",
      "execution_count": 30,
      "metadata": {
        "colab": {
          "base_uri": "https://localhost:8080/"
        },
        "id": "GNXTHrhHu3tk",
        "outputId": "6285dcb2-5672-422e-d46a-2aff54668be3"
      },
      "outputs": [
        {
          "name": "stdout",
          "output_type": "stream",
          "text": [
            "true\n",
            "true\n"
          ]
        }
      ],
      "source": [
        "// 2 es menor o igual que 5?\n",
        "System.out.println(num_1 <= num_2);\n",
        "\n",
        "// 2 es menor o igual que 2?\n",
        "System.out.println(num_1 <= num_4);"
      ]
    },
    {
      "cell_type": "code",
      "execution_count": 32,
      "metadata": {
        "colab": {
          "base_uri": "https://localhost:8080/"
        },
        "id": "ekROKowQvQqH",
        "outputId": "a1eace0c-3b53-4751-ef45-3b64747f6608"
      },
      "outputs": [
        {
          "name": "stdout",
          "output_type": "stream",
          "text": [
            "false\n"
          ]
        }
      ],
      "source": [
        "// 2 es igual a 2.0001?\n",
        "System.out.println(num_1 == num_3);"
      ]
    },
    {
      "cell_type": "code",
      "execution_count": 34,
      "metadata": {
        "colab": {
          "base_uri": "https://localhost:8080/"
        },
        "id": "lEt_DWWuvh30",
        "outputId": "449f529d-c874-4b01-c55b-b68084a7cabe"
      },
      "outputs": [
        {
          "name": "stdout",
          "output_type": "stream",
          "text": [
            "true\n"
          ]
        }
      ],
      "source": [
        "// 2 es diferente a 2.0001?\n",
        "System.out.println(num_1 != num_3);"
      ]
    },
    {
      "cell_type": "code",
      "execution_count": 36,
      "metadata": {
        "colab": {
          "base_uri": "https://localhost:8080/"
        },
        "id": "tVBo57m3vm1v",
        "outputId": "854ec58f-60b0-4823-9627-4ed35084a72d"
      },
      "outputs": [
        {
          "name": "stdout",
          "output_type": "stream",
          "text": [
            "true\n"
          ]
        }
      ],
      "source": [
        "// la letra 'E' es diferente a la letra 'e'?\n",
        "System.out.println(letra_E != letra_e);"
      ]
    },
    {
      "cell_type": "markdown",
      "metadata": {
        "id": "T2L7gd1DlSqi"
      },
      "source": [
        "<a name='5'></a>\n",
        "## Operadores Unarios"
      ]
    },
    {
      "cell_type": "markdown",
      "metadata": {
        "id": "Ne0FKwHqv_mP"
      },
      "source": [
        "<img src=\"https://3.bp.blogspot.com/-oM6xHVOiLmE/VxEK-GiC4_I/AAAAAAAAbMc/E8E7QyH1QiUsJEngLBONcDPVEFynZdzCgCLcB/s640/2.JPG\" height=220>"
      ]
    },
    {
      "cell_type": "code",
      "execution_count": 38,
      "metadata": {
        "colab": {
          "base_uri": "https://localhost:8080/"
        },
        "id": "7phjF38clUnz",
        "outputId": "2e7b921d-fd3e-4c3b-9ba1-f35c402670de"
      },
      "outputs": [
        {
          "name": "stdout",
          "output_type": "stream",
          "text": [
            "0\n",
            "1\n"
          ]
        }
      ],
      "source": [
        "int var1 = 0;\n",
        "\n",
        "System.out.println(var1);\n",
        "\n",
        "var1++;\n",
        "\n",
        "System.out.println(var1);"
      ]
    },
    {
      "cell_type": "code",
      "execution_count": 40,
      "metadata": {
        "colab": {
          "base_uri": "https://localhost:8080/"
        },
        "id": "esBmhIrywaS9",
        "outputId": "48a7ff57-5d35-42cc-c704-2cff85b52e87"
      },
      "outputs": [
        {
          "name": "stdout",
          "output_type": "stream",
          "text": [
            "0\n",
            "-1\n"
          ]
        }
      ],
      "source": [
        "int var2 = 0;\n",
        "\n",
        "System.out.println(var2);\n",
        "\n",
        "var2--;\n",
        "\n",
        "System.out.println(var2);"
      ]
    },
    {
      "cell_type": "markdown",
      "metadata": {
        "id": "aC786jw-woT7"
      },
      "source": [
        "Si se utiliza `++` o `--` como prefijo primero se incrementa/decrementa y luego se utiliza el valor, en cambio, si se utiliza como sufijo, primero se utiliza su valor y después se incrementa/decrementa."
      ]
    },
    {
      "cell_type": "code",
      "execution_count": 42,
      "metadata": {
        "colab": {
          "base_uri": "https://localhost:8080/"
        },
        "id": "idAre8AHwZ5I",
        "outputId": "1c166eaa-4bdd-40eb-c1c8-9b4c412eb72a"
      },
      "outputs": [
        {
          "name": "stdout",
          "output_type": "stream",
          "text": [
            "3\n",
            "4\n"
          ]
        }
      ],
      "source": [
        "int i = 3;\n",
        "System.out.println(i++);\n",
        "System.out.println(i);"
      ]
    },
    {
      "cell_type": "code",
      "execution_count": 44,
      "metadata": {
        "colab": {
          "base_uri": "https://localhost:8080/"
        },
        "id": "XCTtsXPJ4h3t",
        "outputId": "7b2197fc-df1c-4e00-fae4-b4ce418b1133"
      },
      "outputs": [
        {
          "name": "stdout",
          "output_type": "stream",
          "text": [
            "4\n",
            "4\n"
          ]
        }
      ],
      "source": [
        "int i = 3;\n",
        "System.out.println(++i);\n",
        "System.out.println(i);"
      ]
    },
    {
      "cell_type": "code",
      "execution_count": 46,
      "metadata": {
        "colab": {
          "base_uri": "https://localhost:8080/"
        },
        "id": "HRhfqGOyw8cy",
        "outputId": "0042e612-2e9c-4b9e-caad-b97f307ebc74"
      },
      "outputs": [
        {
          "name": "stdout",
          "output_type": "stream",
          "text": [
            "5\n",
            "-8\n",
            "4\n",
            "1\n",
            "0\n"
          ]
        }
      ],
      "source": [
        "int var3 = 2;\n",
        "System.out.println( var3 += 3 );\n",
        "\n",
        "var3 = 2;\n",
        "System.out.println( var3 -= 10 );\n",
        "\n",
        "var3 = 2;\n",
        "System.out.println( var3 *= 2 );\n",
        "\n",
        "var3 = 2;\n",
        "System.out.println( var3 /= 2 );\n",
        "\n",
        "var3 = 2;\n",
        "System.out.println( var3 %= 1 );"
      ]
    },
    {
      "cell_type": "markdown",
      "metadata": {
        "id": "k2AxRQRemlz-"
      },
      "source": [
        "<a name='6'></a>\n",
        "## Jerarquia de Operadores"
      ]
    },
    {
      "cell_type": "markdown",
      "metadata": {
        "id": "FLlHWooWzplZ"
      },
      "source": [
        "| Jerarquia |\n",
        "|-------------------|\n",
        "| Paréntesis `( )` |\n",
        "| Negación (`!`) |\n",
        "| División (`/`) y Módulo (`%`) |\n",
        "| Multiplicación (`*`) |\n",
        "| Suma (`+`) y Resta (`-`) |\n",
        "| Operadores Relacionales (`>`, `<`, `>=`, `<=`, `==`, `!=`) |\n",
        "| Conjunción (`&&`) |\n",
        "| Disyunción inclusiva (`\\|\\|`) |"
      ]
    },
    {
      "cell_type": "code",
      "execution_count": 48,
      "metadata": {
        "colab": {
          "base_uri": "https://localhost:8080/"
        },
        "id": "YKHuv_ujmpiX",
        "outputId": "ccd566ab-0b4c-4721-dbbd-6efc5ac9d446"
      },
      "outputs": [
        {
          "name": "stdout",
          "output_type": "stream",
          "text": [
            "6\n"
          ]
        }
      ],
      "source": [
        "System.out.println( 5 % 2 * 3 + 3 );"
      ]
    },
    {
      "cell_type": "code",
      "execution_count": 50,
      "metadata": {
        "colab": {
          "base_uri": "https://localhost:8080/"
        },
        "id": "DW5oMLxxx5yZ",
        "outputId": "fb81f4d8-6215-400b-8ac1-c6e2787c5c90"
      },
      "outputs": [
        {
          "name": "stdout",
          "output_type": "stream",
          "text": [
            "8\n"
          ]
        }
      ],
      "source": [
        "System.out.println( 5 % (2 * 3) + 3 );"
      ]
    },
    {
      "cell_type": "code",
      "execution_count": 52,
      "metadata": {
        "colab": {
          "base_uri": "https://localhost:8080/"
        },
        "id": "aXu-Wio70ofK",
        "outputId": "ac431de6-74e9-4aa6-8fa0-e703b86de58b"
      },
      "outputs": [
        {
          "name": "stdout",
          "output_type": "stream",
          "text": [
            "false\n"
          ]
        }
      ],
      "source": [
        "int a = -5;\n",
        "int b = 3;\n",
        "int c = 2;\n",
        "\n",
        "System.out.println( a / b * a / c > b - a * c );"
      ]
    },
    {
      "cell_type": "code",
      "execution_count": 54,
      "metadata": {
        "colab": {
          "base_uri": "https://localhost:8080/"
        },
        "id": "AF-vOmrU1-Bk",
        "outputId": "4d4cedcc-55f7-4462-e9ed-c4d9f6455361"
      },
      "outputs": [
        {
          "name": "stdout",
          "output_type": "stream",
          "text": [
            "true\n"
          ]
        }
      ],
      "source": [
        "int a = 10;\n",
        "int b = 7;\n",
        "int c = -1;\n",
        "\n",
        "System.out.println( a %  b + c * a > 3 || c * c < 5 );"
      ]
    },
    {
      "cell_type": "markdown",
      "metadata": {
        "id": "nChy1EgeOj11"
      },
      "source": [
        "<a name='7'></a>\n",
        "## Ejercicio"
      ]
    },
    {
      "cell_type": "markdown",
      "metadata": {
        "id": "N1Pbli0RE89f"
      },
      "source": [
        "Realice una impresión de una factura que muestre:\n",
        "* El precio individual de una hamburguesa (5 dolares)\n",
        "* El precio invididual de una gaseosa (2 dolares)\n",
        "* El precio del menú con hamburguesa, gaseosa y papas cuyo costo es de 10 dolares\n",
        "* El precio total sin IVA\n",
        "* El precio total con IVA del 8%"
      ]
    },
    {
      "cell_type": "code",
      "execution_count": null,
      "metadata": {
        "id": "c_Xi1WBd5C0U"
      },
      "outputs": [],
      "source": []
    }
  ],
  "metadata": {
    "colab": {
      "collapsed_sections": [
        "h8oLiOstldF5"
      ],
      "provenance": []
    },
    "kernelspec": {
      "display_name": "Java",
      "name": "java"
    }
  },
  "nbformat": 4,
  "nbformat_minor": 0
}
