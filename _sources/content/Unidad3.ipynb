{
 "cells": [
  {
   "cell_type": "markdown",
   "id": "6eae7229",
   "metadata": {},
   "source": [
    "# 📘 Operadores\n",
    "\n",
    "## Tipos de operadores\n",
    "\n",
    "### Operadores Lógicos\n",
    "\n",
    "<div class=\"admonition tip dropdown\" style=\"background: lightgreen; padding: 10px\">\n",
    "    <p class=\"title\">Click para ver Diapositivas</p>\n",
    "    Presentación\n",
    "    <iframe src=\"https://view.officeapps.live.com/op/embed.aspx?src=https://github.com/BioAITeamLearning/progI-2024-01-ucaldas/raw/main/content/resources/clase-3/Operadores_logicos.pptx\" frameborder=\"0\" width=\"750\" height=\"470\" allowfullscreen=\"true\" mozallowfullscreen=\"true\" webkitallowfullscreen=\"true\"></iframe>\n",
    "</div>\n",
    "\n",
    ":::{note}\n",
    "Puedes acceder a los notebooks en las siguiente páginas (*Operadores en Java y Python*)\n",
    ":::\n",
    "\n",
    "## Operadores Aritmeticos\n",
    "\n",
    "<div class=\"admonition tip dropdown\" style=\"background: lightgreen; padding: 10px\">\n",
    "    <p class=\"title\">Click para ver Diapositivas</p>\n",
    "    Presentación\n",
    "    <iframe src=\"https://view.officeapps.live.com/op/embed.aspx?src=https://github.com/BioAITeamLearning/progI-2024-01-ucaldas/raw/main/content/resources/clase-3/Operadores_aritmeticos.pptx\" frameborder=\"1\" width=\"750\" height=\"470\" allowfullscreen=\"true\" mozallowfullscreen=\"true\" webkitallowfullscreen=\"true\"></iframe>\n",
    "</div>\n",
    "\n",
    "\n",
    "## Operadores Relacionales\n",
    "\n",
    "<div class=\"admonition tip dropdown\" style=\"background: lightgreen; padding: 10px\">\n",
    "    <p class=\"title\">Click para ver Diapositivas</p>\n",
    "    Presentación\n",
    "    <iframe src=\"https://view.officeapps.live.com/op/embed.aspx?src=https://github.com/BioAITeamLearning/progI-2024-01-ucaldas/raw/main/content/resources/clase-3/Operadores_Relacionales.pptx\" frameborder=\"1\" width=\"750\" height=\"470\" allowfullscreen=\"true\" mozallowfullscreen=\"true\" webkitallowfullscreen=\"true\"></iframe>\n",
    "</div>\n",
    "\n",
    ":::{note}\n",
    "Puedes acceder a los notebook en la siguiente página (*Operadores en Java y Python*)\n",
    ":::\n",
    "\n",
    "## Operadores Unarios\n",
    "\n",
    "<div class=\"admonition tip dropdown\" style=\"background: lightgreen; padding: 10px\">\n",
    "    <p class=\"title\">Click para ver Diapositivas</p>\n",
    "    Presentación\n",
    "    <iframe src=\"https://view.officeapps.live.com/op/embed.aspx?src=https://github.com/BioAITeamLearning/progI-2024-01-ucaldas/raw/main/content/resources/clase-3/Operadores_Unarios.pptx\" frameborder=\"1\" width=\"750\" height=\"470\" allowfullscreen=\"true\" mozallowfullscreen=\"true\" webkitallowfullscreen=\"true\"></iframe>\n",
    "</div>\n",
    "\n",
    "## Jerarquia de Operadores e Indentación\n",
    "\n",
    "<div class=\"admonition tip dropdown\" style=\"background: lightgreen; padding: 10px\">\n",
    "    <p class=\"title\">Click para ver Diapositivas</p>\n",
    "    Presentación\n",
    "    <iframe src=\"https://view.officeapps.live.com/op/embed.aspx?src=https://github.com/BioAITeamLearning/progI-2024-01-ucaldas/raw/main/content/resources/clase-3/Jerarquia_de_Operadores.pptx\" frameborder=\"1\" width=\"750\" height=\"470\" allowfullscreen=\"true\" mozallowfullscreen=\"true\" webkitallowfullscreen=\"true\"></iframe>\n",
    "</div>\n",
    "\n",
    "\n",
    "## Presentación Completa\n",
    "\n",
    ":::{warning} La presentación completa es temporal\n",
    ":::\n",
    "\n",
    "<iframe src=\"https://docs.google.com/presentation/d/e/2PACX-1vQJtCJ611LAxoobYuLhH2Fw8qIf-8hY9y161SDsoyByFIMwjytzBrTQcFTYWH_keg/embed?start=false&loop=false&delayms=3000\" frameborder=\"0\" width=\"790\" height=\"490\" allowfullscreen=\"true\" mozallowfullscreen=\"true\" webkitallowfullscreen=\"true\"></iframe>"
   ]
  }
 ],
 "metadata": {
  "jupytext": {
   "formats": "md:myst",
   "text_representation": {
    "extension": ".md",
    "format_name": "myst"
   }
  },
  "kernelspec": {
   "display_name": "Python 3",
   "language": "python",
   "name": "python3"
  },
  "source_map": [
   11
  ]
 },
 "nbformat": 4,
 "nbformat_minor": 5
}