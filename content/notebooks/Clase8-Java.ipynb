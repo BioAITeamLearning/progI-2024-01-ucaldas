{
  "nbformat": 4,
  "nbformat_minor": 0,
  "metadata": {
    "colab": {
      "provenance": []
    },
    "kernelspec": {
      "name": "java",
      "display_name": "Java"
    },
    "language_info": {
      "name": "java"
    }
  },
  "cells": [
    {
      "cell_type": "markdown",
      "source": [
        "# 📙 Funciones y Procedimientos - Java"
      ],
      "metadata": {
        "id": "thrxpw_cAPuM"
      }
    },
    {
      "cell_type": "markdown",
      "source": [
        "## Tabla de Contenido\n",
        "\n",
        "- [1 - Instalar Java](#1)\n",
        "- [2 - Ejemplos procedimientos](#2)\n",
        "- [3 - Ejemplos funciones](#3)\n",
        "- [4 - Ejercicios](#4)"
      ],
      "metadata": {
        "id": "rwjBFkoZLC5-"
      }
    },
    {
      "cell_type": "markdown",
      "source": [
        "<a name='1'></a>\n",
        "## Instalar Java"
      ],
      "metadata": {
        "id": "h8oLiOstldF5"
      }
    },
    {
      "cell_type": "markdown",
      "source": [
        "<div class=\"admonition warning\" style=\"padding: 10px\">\n",
        "    <p class=\"title\">Descargar el kernel</p>\n",
        "<p>Ejecuta la siguiente celda. No la modifiques!</p>\n",
        "</div>"
      ],
      "metadata": {
        "id": "4djiBshmAEAj"
      }
    },
    {
      "cell_type": "code",
      "execution_count": null,
      "metadata": {
        "id": "IrB2Kt3NqXec",
        "colab": {
          "base_uri": "https://localhost:8080/"
        },
        "outputId": "a8af9a82-9f3e-4f55-e981-6d96c8bcee36"
      },
      "outputs": [
        {
          "output_type": "stream",
          "name": "stdout",
          "text": [
            "Installed java kernel into \"/usr/local/share/jupyter/kernels/java\"\n",
            "e2732061ad19c1afa4a33a58cb8f18a9-b6cff2bf09b6832344e576ea1e4731f0fb3df10c/install_ipc_proxy_kernel.py\n",
            "e2732061ad19c1afa4a33a58cb8f18a9-b6cff2bf09b6832344e576ea1e4731f0fb3df10c/ipc_proxy_kernel.py\n",
            "Moving java kernel from /usr/local/share/jupyter/kernels/java...\n",
            "Wrote modified kernel.json for java_tcp in /usr/local/share/jupyter/kernels/java_tcp/kernel.json\n",
            "Installing the proxy kernel in place of java in /usr/local/share/jupyter/kernels/java\n",
            "Installed proxy kernelspec: {\"argv\": [\"/usr/bin/python3\", \"/usr/local/share/jupyter/kernels/java/ipc_proxy_kernel.py\", \"{connection_file}\", \"--kernel=java_tcp\"], \"env\": {}, \"display_name\": \"Java\", \"language\": \"java\", \"interrupt_mode\": \"message\", \"metadata\": {}}\n",
            "Proxy kernel installed. Go to 'Runtime > Change runtime type' and select 'java'\n"
          ]
        },
        {
          "output_type": "stream",
          "name": "stderr",
          "text": [
            "/content/install.py:164: DeprecationWarning: replace is ignored. Installing a kernelspec always replaces an existing installation\n",
            "  install_dest = KernelSpecManager().install_kernel_spec(\n"
          ]
        }
      ],
      "source": [
        "%%sh\n",
        "wget -q https://github.com/SpencerPark/IJava/releases/download/v1.3.0/ijava-1.3.0.zip\n",
        "unzip -q ijava-1.3.0.zip\n",
        "python install.py\n",
        "\n",
        "wget -qO- https://gist.github.com/SpencerPark/e2732061ad19c1afa4a33a58cb8f18a9/archive/b6cff2bf09b6832344e576ea1e4731f0fb3df10c.tar.gz | tar xvz --strip-components=1\n",
        "python install_ipc_proxy_kernel.py --kernel=java --implementation=ipc_proxy_kernel.py"
      ]
    },
    {
      "cell_type": "markdown",
      "source": [
        "<div class=\"admonition warning\" style=\"padding: 10px\">\n",
        "    <p class=\"title\">Instrucciones para activar el kernel</p>\n",
        "<p>Dirigite a <code>Entorno de ejecución</code> > <code>Cambiar tipo de entorno de ejecución</code> > Elige la opción <code>Java</code> > Da click en <code>Guardar</code></p>\n",
        "</div>"
      ],
      "metadata": {
        "id": "880xyshJlyOw"
      }
    },
    {
      "cell_type": "markdown",
      "source": [
        "## Importar Librerias"
      ],
      "metadata": {
        "id": "bw46HIyc49Sy"
      }
    },
    {
      "cell_type": "code",
      "source": [
        "// Libreria para usar potencia y otras funciones matemáticas\n",
        "import java.lang.Math;\n",
        "\n",
        "// Libreria para usar el objeto Scanner (leer variables)\n",
        "import java.util.Scanner;\n",
        "\n",
        "// Libreria para obtener fecha actual\n",
        "import java.util.Date;"
      ],
      "metadata": {
        "id": "4b1UMwmSrq3W"
      },
      "execution_count": null,
      "outputs": []
    },
    {
      "cell_type": "markdown",
      "source": [
        "<a name=\"2\"></a>\n",
        "## Ejemplos Procedimientos\n",
        "\n",
        "Recordemos que un procediemiento es una función que no retorna un valor (se debe utilizar la palabra reservada `void`).\n"
      ],
      "metadata": {
        "id": "iLTxlNEYwMX_"
      }
    },
    {
      "cell_type": "markdown",
      "source": [
        "**Ejemplo 1.**\n",
        "\n",
        "Imprimir un Hola Mundo con un procedimiento"
      ],
      "metadata": {
        "id": "AIt7WXAB6sgY"
      }
    },
    {
      "cell_type": "code",
      "source": [
        "void miFuncion() {\n",
        "    System.out.println(\"Hola Mundo, desde una función!\");\n",
        "}\n",
        "\n",
        "miFuncion();"
      ],
      "metadata": {
        "colab": {
          "base_uri": "https://localhost:8080/"
        },
        "id": "2_9quYhswLTv",
        "outputId": "15372b11-95d8-4681-fb58-1bcb23271e80"
      },
      "execution_count": null,
      "outputs": [
        {
          "output_type": "stream",
          "name": "stdout",
          "text": [
            "Hola Mundo, desde una función!\n"
          ]
        }
      ]
    },
    {
      "cell_type": "markdown",
      "source": [
        "**Ejemplo 2**.\n",
        "\n",
        "Imprimir la fecha actual con un procedimiento."
      ],
      "metadata": {
        "id": "EKWknPmB645o"
      }
    },
    {
      "cell_type": "code",
      "source": [
        "public static void fechaActual(){\n",
        "    Date fecha = new Date();\n",
        "    System.out.println(fecha);\n",
        "}\n",
        "\n",
        "fechaActual();"
      ],
      "metadata": {
        "colab": {
          "base_uri": "https://localhost:8080/"
        },
        "id": "5-a5CGNLJjkZ",
        "outputId": "f9c6dbcc-63dc-4ee6-82c4-0bf64b9f8a79"
      },
      "execution_count": null,
      "outputs": [
        {
          "output_type": "stream",
          "name": "stdout",
          "text": [
            "Thu Oct 12 03:52:06 UTC 2023\n"
          ]
        }
      ]
    },
    {
      "cell_type": "markdown",
      "source": [
        "**Ejemplo 3**\n",
        "\n",
        "Crea un procedimiento que me diga si un numero ingresado es par o impar."
      ],
      "metadata": {
        "id": "WogShbQurGe6"
      }
    },
    {
      "cell_type": "code",
      "source": [
        "void esPar(int numero){\n",
        "    if (numero % 2 == 0){\n",
        "        System.out.println(\"El numero \" + numero + \" es par.\");\n",
        "    } else {\n",
        "        System.out.println(\"El numero \" + numero + \" es impar.\");\n",
        "    }\n",
        "}\n",
        "\n",
        "esPar(5);\n",
        "esPar(120);\n",
        "esPar(21);"
      ],
      "metadata": {
        "colab": {
          "base_uri": "https://localhost:8080/"
        },
        "id": "-utwypQxrSeS",
        "outputId": "c74f2fd1-de73-4b4c-baa8-297bb1ee1089"
      },
      "execution_count": null,
      "outputs": [
        {
          "output_type": "stream",
          "name": "stdout",
          "text": [
            "El numero 5 es impar.\n",
            "El numero 120 es par.\n",
            "El numero 21 es impar.\n"
          ]
        }
      ]
    },
    {
      "cell_type": "markdown",
      "source": [
        "**Ejemplo 4**\n",
        "\n",
        "Realizar un procedimiento que me convierta una frase ingresada por el usuario a mayusculas y que imprima en pantalla."
      ],
      "metadata": {
        "id": "yUXEuoQ0vT9H"
      }
    },
    {
      "cell_type": "code",
      "source": [
        "public static void convertirMayuscula(String frase){\n",
        "    String fraseMayus = frase.toUpperCase();\n",
        "    System.out.println(fraseMayus);\n",
        "}\n",
        "\n",
        "Scanner scn = new Scanner(System.in);\n",
        "System.out.println(\"Ingrese una frase: \");\n",
        "String frase = scn.nextLine();\n",
        "\n",
        "convertirMayuscula(frase);"
      ],
      "metadata": {
        "colab": {
          "base_uri": "https://localhost:8080/"
        },
        "id": "w5xktlkRvTQf",
        "outputId": "c288832b-a020-409b-b7e0-59e03e9ea106"
      },
      "execution_count": null,
      "outputs": [
        {
          "output_type": "stream",
          "name": "stdout",
          "text": [
            "Ingrese una frase: \n",
            "Hola mundo desde Java\n",
            "HOLA MUNDO DESDE JAVA\n"
          ]
        }
      ]
    },
    {
      "cell_type": "markdown",
      "source": [
        "Modificación del ejemplo anterior. Ahora se debe preguntar cuantas frases desea convertir a mayusculas (se debe ingresar cada frase)."
      ],
      "metadata": {
        "id": "EXI85ddjyYXC"
      }
    },
    {
      "cell_type": "code",
      "source": [
        "public static void convertirMayuscula(String frase){\n",
        "    String fraseMayus = frase.toUpperCase();\n",
        "    System.out.println(fraseMayus);\n",
        "}\n",
        "\n",
        "Scanner scn_iter = new Scanner(System.in);\n",
        "System.out.print(\"Ingrese el numero de oraciones que desea convertir: \");\n",
        "int iter = scn_iter.nextInt();\n",
        "\n",
        "for (int i=1; i<=iter; i++){\n",
        "    Scanner scn = new Scanner(System.in);\n",
        "    System.out.println(\"Ingrese la frase \" + i + \": \");\n",
        "    String frase = scn.nextLine();\n",
        "\n",
        "    convertirMayuscula(frase);\n",
        "}\n"
      ],
      "metadata": {
        "colab": {
          "base_uri": "https://localhost:8080/"
        },
        "id": "jIuVcgmwxgSB",
        "outputId": "117c185b-a6fe-41da-a923-b38e4e80d0fe"
      },
      "execution_count": null,
      "outputs": [
        {
          "output_type": "stream",
          "name": "stdout",
          "text": [
            "Ingrese el numero de oraciones que desea convertir: 2\n",
            "Ingrese la frase 1: \n",
            "Algun texto de prueba 1\n",
            "ALGUN TEXTO DE PRUEBA 1\n",
            "Ingrese la frase 2: \n",
            "Another text with some words\n",
            "ANOTHER TEXT WITH SOME WORDS\n"
          ]
        }
      ]
    },
    {
      "cell_type": "markdown",
      "source": [
        "<a name='3'></a>\n",
        "## Ejemplos Funciones\n",
        "\n",
        "Recordemos que las funciones retornan uno o más valores (se utiliza la palabra reservada `return`)."
      ],
      "metadata": {
        "id": "CMOlxd0IjhuH"
      }
    },
    {
      "cell_type": "markdown",
      "source": [
        "**Ejemplo 1.**\n",
        "\n",
        "Implemente la siguiente formula (sumatoria). Donde $n$ debe ingresarlo el usuario.\n",
        "\n",
        "$$\n",
        "\\sum_{i=1}^{n}\\dfrac{n(n+1)}{2}\n",
        "$$\n",
        "\n",
        "La sumatoria se define de la siguiente manera:\n",
        "\n",
        "$$\n",
        "\\sum_{i=1}^{n}X_i = X_1 + X_2 + X_3 + ... + X_n\n",
        "$$"
      ],
      "metadata": {
        "id": "oxbaWR-kUyWG"
      }
    },
    {
      "cell_type": "code",
      "source": [
        "// Función sumatoria con parametro n\n",
        "public static double sumatoria(int n){\n",
        "    int contN = 1;\n",
        "    double sum = 0;\n",
        "\n",
        "    while (contN <= n){\n",
        "        sum += (double) (contN * (contN + 1))/2;\n",
        "        contN++;\n",
        "    }\n",
        "    return sum;\n",
        "}\n",
        "\n",
        "// Ingresar el termino n\n",
        "Scanner input = new Scanner(System.in);\n",
        "System.out.print(\"Ingrese n: \");\n",
        "int n = input.nextInt();\n",
        "\n",
        "// Llamar la función sumatoria e ingresar el argumento\n",
        "double sumatoria1 = sumatoria(n);\n",
        "System.out.println(\"El resultado de la sumatoria es: \" + sumatoria1);\n",
        "\n",
        "// Otros valores\n",
        "double sumatoria2 = sumatoria(34);\n",
        "System.out.println(\"El resultado de la sumatoria con n=34 es: \" + sumatoria2);\n",
        "\n",
        "double sumatoria3 = sumatoria(60);\n",
        "System.out.println(\"El resultado de la sumatoria con n=60 es: \" + sumatoria3);"
      ],
      "metadata": {
        "colab": {
          "base_uri": "https://localhost:8080/"
        },
        "id": "oLMV-ePEU-4u",
        "outputId": "e1bca23c-8943-4ebd-a188-37731471b0f7"
      },
      "execution_count": null,
      "outputs": [
        {
          "output_type": "stream",
          "name": "stdout",
          "text": [
            "Ingrese n: 15\n",
            "El resultado de la sumatoria es: 680.0\n",
            "El resultado de la sumatoria con n=34 es: 7140.0\n",
            "El resultado de la sumatoria con n=60 es: 37820.0\n"
          ]
        }
      ]
    },
    {
      "cell_type": "markdown",
      "source": [
        "**Ejemplo 2.**\n",
        "\n",
        "Implemente la siguiente fórmula matemática (productorio). Donde $n$ debe ingresarlo el usuario.\n",
        "\n",
        "$$\n",
        "\\prod_{i=1}^{n}\\dfrac{n+1}{2n}\n",
        "$$\n",
        "\n",
        "La productoria o productorio se define de la siguiente manera:\n",
        "\n",
        "$$\n",
        "\\prod_{i=1}^{n} X_i = X_1 \\cdot X_2 \\cdot X_3 \\cdot ... \\cdot X_n\n",
        "$$"
      ],
      "metadata": {
        "id": "7ZjBqFQt7TYp"
      }
    },
    {
      "cell_type": "code",
      "source": [
        "public static double productorio(int n){\n",
        "    int contN = 1;\n",
        "    double prod = 1;\n",
        "\n",
        "    while (contN <= n){\n",
        "        prod *= (double) (contN + 1)/(2 * contN);\n",
        "        contN++;\n",
        "    }\n",
        "    return prod;\n",
        "}\n",
        "\n",
        "// Ingresar termino n\n",
        "Scanner input = new Scanner(System.in);\n",
        "System.out.print(\"Ingrese n: \");\n",
        "int n = input.nextInt();\n",
        "\n",
        "// Llamar la función productorio e ingresar el argumento\n",
        "double product = productorio(n);\n",
        "\n",
        "System.out.println(\"El resultado del productorio es: \" + product);"
      ],
      "metadata": {
        "id": "LgshAUl8POxU",
        "colab": {
          "base_uri": "https://localhost:8080/"
        },
        "outputId": "098bd368-2cb1-452a-964a-251891aa1c5c"
      },
      "execution_count": null,
      "outputs": [
        {
          "output_type": "stream",
          "name": "stdout",
          "text": [
            "Ingrese n: 5\n",
            "El resultado del productorio es: 0.1875\n"
          ]
        }
      ]
    },
    {
      "cell_type": "markdown",
      "source": [
        "**Ejemplo 3**\n",
        "\n",
        "Realice una función calculadora. El usuario debe ingresar dos numeros y un operación a realizar entre ellos."
      ],
      "metadata": {
        "id": "KY24l90y3C2n"
      }
    },
    {
      "cell_type": "code",
      "source": [
        "public static double calculadora(double num1, double num2, String operacion){\n",
        "    double resultado = 0;\n",
        "    if (operacion.equals(\"suma\")){\n",
        "        resultado = num1 + num2;\n",
        "    } else if (operacion.equals(\"resta\")) {\n",
        "        resultado = num1 - num2;\n",
        "    } else if (operacion.equals(\"division\")) {\n",
        "        resultado = num1/num2;\n",
        "    } else if (operacion.equals(\"multiplicacion\")) {\n",
        "        resultado = num1*num2;\n",
        "    } else {\n",
        "        System.out.println(\"Operación no valida.\");\n",
        "    }\n",
        "    return resultado;\n",
        "}\n",
        "\n",
        "// Leer numeros y operación\n",
        "Scanner scn = new Scanner(System.in);\n",
        "Scanner scnStr = new Scanner(System.in);\n",
        "\n",
        "System.out.println(\"Ingrese el primer numero: \");\n",
        "double numero1 = scn.nextDouble();\n",
        "\n",
        "System.out.println(\"Ingrese el segundo numero: \");\n",
        "double numero2 = scn.nextDouble();\n",
        "\n",
        "System.out.println(\"Ingrese la operación: \");\n",
        "String oper = scnStr.nextLine();\n",
        "\n",
        "// Llamando la función\n",
        "double res = calculadora(numero1, numero2, oper);\n",
        "System.out.println(\"El resultado de la \" + oper + \" es: \" + res);\n",
        "\n",
        "// Otros argumentos\n",
        "double res2 = calculadora(453, 5454, \"multiplicacion\");\n",
        "System.out.println(\"El resultado de la multiplicacion es: \" + res2);"
      ],
      "metadata": {
        "colab": {
          "base_uri": "https://localhost:8080/"
        },
        "id": "1uLLS82t3Ng3",
        "outputId": "2edb69c4-3dfe-40af-aa78-6e748fff54e9"
      },
      "execution_count": null,
      "outputs": [
        {
          "output_type": "stream",
          "name": "stdout",
          "text": [
            "Ingrese el primer numero: \n",
            "45\n",
            "Ingrese el segundo numero: \n",
            "100\n",
            "Ingrese la operación: \n",
            "multiplicacion\n",
            "El resultado de la multiplicacion es: 4500.0\n",
            "El resultado de la multiplicacion es: 2470662.0\n"
          ]
        }
      ]
    },
    {
      "cell_type": "markdown",
      "source": [
        "**Ejemplo 4.**\n",
        "\n",
        "Realice una función que cuente el numero de palabras de una oración ingresada por el usuario."
      ],
      "metadata": {
        "id": "qP3ycWRxbcBC"
      }
    },
    {
      "cell_type": "code",
      "source": [
        "public static int contarPalabras(String oracion){\n",
        "    int lenString =  oracion.length();\n",
        "    int cont = 0;\n",
        "    int contPalabras = 1;\n",
        "\n",
        "    while (cont < lenString){\n",
        "        char letra = oracion.charAt(cont);\n",
        "        if (letra == ' '){\n",
        "            contPalabras++;\n",
        "        }\n",
        "        cont++;\n",
        "    }\n",
        "    return contPalabras;\n",
        "}\n",
        "\n",
        "// Leer frase\n",
        "Scanner input = new Scanner(System.in);\n",
        "System.out.print(\"Ingrese la oración: \");\n",
        "String oracion = input.nextLine();\n",
        "\n",
        "// Llamar la función\n",
        "int numPalabras = contarPalabras(oracion);\n",
        "System.out.println(\"La oración tiene: \" + numPalabras + \" palabra(s)\");\n",
        "\n",
        "// Probando con otra frase\n",
        "String quijote = \"En un lugar de la Mancha, de cuyo nombre no quiero acordarme\";\n",
        "System.out.println(\"La oración \" + \"\\\"\" + quijote + \"\\\"\" + \" tiene: \" + contarPalabras(quijote) + \" palabra(s)\");"
      ],
      "metadata": {
        "colab": {
          "base_uri": "https://localhost:8080/"
        },
        "id": "y3ppHxdzSCbD",
        "outputId": "8b42e914-5a0a-46fe-da0f-03305bfa9fb9"
      },
      "execution_count": null,
      "outputs": [
        {
          "output_type": "stream",
          "name": "stdout",
          "text": [
            "Ingrese la oración: Texto con seis palabras para probar\n",
            "La oración tiene: 6 palabra(s)\n",
            "La oración \"En un lugar de la Mancha, de cuyo nombre no quiero acordarme\" tiene: 12 palabra(s)\n"
          ]
        }
      ]
    },
    {
      "cell_type": "markdown",
      "source": [
        "**Ejemplo 5**\n",
        "\n",
        "Realiza una función la cual verifique un nombre de usuario y una contraseña (ingresados por el usuario). Si la contraseña o el usuario es incorrecto debe retornar 0 e imprimir un mensaje, en caso contrario debe retornar 1 e imprimir un mensaje.\n",
        "\n",
        "**Nota.** *Debe hacerse dentro de un ciclo while.*"
      ],
      "metadata": {
        "id": "ksFlJ_OWsOW4"
      }
    },
    {
      "cell_type": "code",
      "source": [
        "public static int verificarUsuario(String usuario, String password){\n",
        "    String usuarioCorrecto = \"juanperez@gmail.com\";\n",
        "    String passwordCorrecto = \"123456\";\n",
        "    if (usuario.equals(usuarioCorrecto) && (password.equals(passwordCorrecto))){\n",
        "        System.out.println(\"Bienvenido!\");\n",
        "        return 1;\n",
        "    } else {\n",
        "        System.out.println(\"Usuario o contraseña incorrecta.\");\n",
        "        return 0;\n",
        "    }\n",
        "}\n",
        "\n",
        "Scanner scnStr = new Scanner(System.in);\n",
        "\n",
        "String usuario, password;\n",
        "int verificacion = 0;\n",
        "\n",
        "while (verificacion != 1){\n",
        "    System.out.print(\"Ingrese su usuario: \");\n",
        "    usuario = scnStr.nextLine();\n",
        "    System.out.print(\"Ingrese su contraseña: \");\n",
        "    password = scnStr.nextLine();\n",
        "    verificacion = verificarUsuario(usuario, password);\n",
        "}\n",
        "\n",
        "// Instrucciones que desee realizar"
      ],
      "metadata": {
        "colab": {
          "base_uri": "https://localhost:8080/"
        },
        "id": "0XvWnH_LtOGU",
        "outputId": "7040dfa1-9344-4702-b990-f56a965cafd3"
      },
      "execution_count": null,
      "outputs": [
        {
          "output_type": "stream",
          "name": "stdout",
          "text": [
            "Ingrese su usuario: pass123\n",
            "Ingrese su contraseña: 123456\n",
            "Usuario o contraseña incorrecta.\n",
            "Ingrese su usuario: juanperez@gmail.com\n",
            "Ingrese su contraseña: 123456\n",
            "Bienvenido!\n"
          ]
        }
      ]
    },
    {
      "cell_type": "markdown",
      "source": [
        "**Ejemplo 6**\n",
        "\n",
        "Realice una función que imprima los números pares o impares entre un intervalo de números, tambien debe devolver la cantidad de números. El usuario debe ingresar los dos números (intervalo) y especificar si desea los impares o pares.\n",
        "\n",
        "\n",
        "**Nota.** *Debe validarse el intervalo y el String del tipo de operación*"
      ],
      "metadata": {
        "id": "smkIcusK1ZO5"
      }
    },
    {
      "cell_type": "code",
      "source": [
        "// Función contadora de numeros pares o impares\n",
        "public static int paresImpares(int numIni, int numFin, String operacion){\n",
        "    int contador= 0;\n",
        "    for (int i=numIni; i<=numFin; i++) {\n",
        "        if (operacion.equals(\"Pares\") && (i % 2 == 0)) {\n",
        "            System.out.println(i + \" es par.\");\n",
        "            contador++;\n",
        "        } else if (operacion.equals(\"Impares\") && (i % 2 != 0)) {\n",
        "            System.out.println(i + \" es impar.\");\n",
        "            contador++;\n",
        "        }\n",
        "    }\n",
        "    return contador;\n",
        "}\n",
        "\n",
        "// Función para validar el intervalo\n",
        "public static int verifIntervalo(int num1, int num2){\n",
        "    if (num1 >= num2){\n",
        "        System.out.println(\"Intervalo incorrecto. \" + num1 + \" es mayor o igual que \" + num2);\n",
        "        return 0;\n",
        "    } else {\n",
        "        return 1;\n",
        "    }\n",
        "}\n",
        "\n",
        "// Función para validar la operación\n",
        "public static int verifOperacion(String oper){\n",
        "    if (oper.equals(\"Pares\") || (oper.equals(\"Impares\"))){\n",
        "        return 1;\n",
        "    } else {\n",
        "        System.out.println(\"Operación incorrecta.\");\n",
        "        return 0;\n",
        "    }\n",
        "}\n",
        "\n",
        "// Inicio del programa\n",
        "Scanner scn = new Scanner(System.in);\n",
        "Scanner scnStr = new Scanner(System.in);\n",
        "\n",
        "// Inicializar variables\n",
        "int numIni = 0, numFin = 0;\n",
        "int contadorNums = 0;\n",
        "String operacion = \"\";\n",
        "int intervaloCorrecto = 0, operacionCorrecta = 0;\n",
        "\n",
        "// Validación del intervalo\n",
        "while (intervaloCorrecto != 1){\n",
        "    System.out.print(\"Ingrese el número inicial: \");\n",
        "    numIni = scn.nextInt();\n",
        "    System.out.print(\"Ingrese el número final: \");\n",
        "    numFin = scn.nextInt();\n",
        "    intervaloCorrecto = verifIntervalo(numIni, numFin);\n",
        "}\n",
        "\n",
        "// Validación de operación\n",
        "while (operacionCorrecta != 1){\n",
        "    System.out.print(\"Desea ver los numeros 'Pares' o 'Impares'?: \");\n",
        "    operacion = scnStr.nextLine();\n",
        "    operacionCorrecta = verifOperacion(operacion);\n",
        "}\n",
        "\n",
        "// Realizar operación y mostrar resultado\n",
        "contadorNums = paresImpares(numIni, numFin, operacion);\n",
        "System.out.println(\"Hay \" + contadorNums + \" \" + operacion + \" entre \" + numIni + \" y \" + numFin);"
      ],
      "metadata": {
        "colab": {
          "base_uri": "https://localhost:8080/"
        },
        "id": "p4aAmW1WzZ3T",
        "outputId": "74a20fe7-50b9-4e3b-f0e9-e59756163507"
      },
      "execution_count": null,
      "outputs": [
        {
          "output_type": "stream",
          "name": "stdout",
          "text": [
            "Ingrese el número inicial: 4\n",
            "Ingrese el número final: 15\n",
            "Desea ver los numeros 'Pares' o 'Impares'?: Impares\n",
            "5 es impar.\n",
            "7 es impar.\n",
            "9 es impar.\n",
            "11 es impar.\n",
            "13 es impar.\n",
            "15 es impar.\n",
            "Hay 6 Impares entre 4 y 15\n"
          ]
        }
      ]
    },
    {
      "cell_type": "markdown",
      "source": [
        "<a name=\"4\"></a>\n",
        "## Ejercicios\n",
        "\n",
        "1. Realice una función que retorne la cantidad de números primos entre 0 y un númeor ingresado. Debe validar que el numero entero ingresado sea mayor a 3 y también debe imprimir los números primos.\n",
        "\n",
        "2. Realice una función que cuente el número de vocales en un frase o palabra. El usuario debe ingresar la frase o palabra, además se debe validar que el tamaño sea mayor o igual a 2.\n",
        "\n",
        "3. Realice una función que convierta un número decimal a binario. El usuario debe ingresar el número por consola.\n",
        "\n",
        "4. Realice una función que reciba como argumento un número entero y retorne sus divisores."
      ],
      "metadata": {
        "id": "TlShewfRBihU"
      }
    },
    {
      "cell_type": "code",
      "source": [],
      "metadata": {
        "id": "wqFvU95w8Fn_"
      },
      "execution_count": null,
      "outputs": []
    }
  ]
}