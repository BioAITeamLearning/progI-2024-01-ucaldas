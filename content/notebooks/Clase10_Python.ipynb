{
  "nbformat": 4,
  "nbformat_minor": 0,
  "metadata": {
    "colab": {
      "provenance": []
    },
    "kernelspec": {
      "name": "python3",
      "display_name": "Python 3"
    },
    "language_info": {
      "name": "python"
    }
  },
  "cells": [
    {
      "cell_type": "markdown",
      "source": [
        "## Clase 10 python\n",
        "\n",
        "- [1 - Ejemplos Matrices (Uso de numpy entre)](#1)\n",
        "- [2 - Ejemplo Matrices (Implementación de todo lo visto)](#2)\n"
      ],
      "metadata": {
        "id": "EpgoytHsiWnG"
      }
    },
    {
      "cell_type": "code",
      "source": [
        "import numpy as np"
      ],
      "metadata": {
        "id": "X2GJfOu-MTQ2"
      },
      "execution_count": null,
      "outputs": []
    },
    {
      "cell_type": "markdown",
      "source": [
        "<a name='#1'></a>\n",
        "## Ejemplos Matrices\n",
        "*Uso de numpy entre otros.*"
      ],
      "metadata": {
        "id": "wUE9rV2ug_k0"
      }
    },
    {
      "cell_type": "markdown",
      "source": [
        "En Python la creación de Matrices es más sencilla, su sintaxis es la siguiente:\n",
        "![image.png](data:image/png;base64,iVBORw0KGgoAAAANSUhEUgAAAhQAAAClCAYAAAAEc2QcAAAgAElEQVR4Ae2d22tV177H15/gQx/yeIQDdr+UCoeisC1U2odT93444oPHsgvbuh92dT9sy4FK3UFCTEViqqk2dXuJBC9FTZSgoQ0GkRjDIsZElrXedrw29ZKYutOQSFh8D+s6x5xrrvtlzrXyESRrXsYYv9/nN5Lfd43LnAHxDwIQgAAEIAABCBRJIFBkeYpDAAIQgAAEIAABISjoBBCAAAQgAAEIFE0AQVE0QiqAAAQgAAEIQABBQR+AAAQgAAEIQKBoAgiKohFSAQQgAAEIQAACCAr6AAQgAAEIQAACRRNAUBSNkAogAAEIQAACEEBQ0AcgAAEIQAACECiaAIKiaIRUAAEIQAACEIAAgoI+AAEIQAACEIBA0QQQFEUjpAIIQAACEIAABBAU9AEIQAACEIAABIomgKAoGiEVQAACEIAABCCAoKAPQAACEIAABCBQNAEERdEIpVfXm7WmYZnqGlbr0wu3S1AjVUDA5wRCzVoZCCjg9v+9Zt30ufmYBwEIlJ4AgqJophe1JSImtiX+f6y2X4qulAog4G8CCAp/xwfrIOABgZoRFHMvQrrQ26rN36zViuMXK4gSQZENtnexyWYZ1wsmgKAoGB0FIVCrBGpGUJzvSIwQLFNdRyUFBVMe2X45vIxNNtu4XiABU1AwxVEgRIpBoLYIIChqK56+9AZB4cuwFGcUgqI4fpSGQA0SQFDUYFD95hKCwm8RKYE9CIoSQKQKCNQWgZIIijvnPo4vSqzX+de3dfjgar0VWaSY3PUwrQsnP9Y70cWL7+r9g6cVCpsgX+vZ7R/UdnKzPtq5Kn5fbArjrabV+uhgq7p+fm0WkB63a01yIaQx3ZHu3O523bHVcF9tuxPlPlbbY0nhn3X+5Cb9oTF2fknjWn16bkjPbLYqS9v1Om9rx35gsUq0ne5n3CZ78eKOwhPq762PMo7GZ9syLWlc5c432pLJKObXsx+PaXOrFaO3mjZoy+B9zZmWFR0bq7JYe6u1IrHwteEDvd+6WbudbSaKmG0nYv7sB335zdpkv3qnebPafpxIlEj5Off4B+0+uEHvx/tBZMHtW01rtf54u847+6FZ+vXP6u/drvUtFp9I2Xd2bNCnZ09r6IWjD5tlq+0zgqLaIoa9ECg7gRILis3afOQDY8dDJFlu0LbjCcFhJc8/nA1ZzplJIJ0g2LZK6y/dz7OM1V5dIrkkazCT5cdqe3hbbXvfddgeK7+i46JeJctVqaB41q3NOwweKZzf1UffO7e8mow268uuj7UkpVyszjXnjLI5xdOwJSU2MXHXdXh12vaiSX5vu0OYOmKzu12hh+36KCFGbLav0pahaTOqkqZ14bu1Gdusi/RDt63BD09rfZPhk62t+Hk3Px0W5H7YqY1uWzbTnFu5s8QbOREUuYeKOyGwQAiUWFBk+YNq/pE1/7jmmoAaPlfXTDwyuZZJtGm2F63CTJZrtbkjfbKs27ZWu/9l9IiMbZdmhGJJq3NExWg/34/hAW3LluyinFZp249m5SajLLEtaWyk/u9WuYo7a3tuzJ4V3w2YBttHj1o+15bWDHY3fytD1ip0LlMfMOspkFNKH7Sbnt8RgiI/XtwNAQiUm0AZBMUqbQlOaO52s95PJPNty7Tm7G3NRRJbchjZSLyPj2l9a73aBkO6MzltDZ+/nlbo0udaYdSzZcQdSf7z9G7JcpU+vRSxU5q7/23sYVXxttdfSD9ErqF6I/kZfrmb6nrWlsya6nXe+eXZtVRuJx/2brDsa9qkttDPUR+l13p1/7Rt5GLJwW5jNMaFUdMmHb4bG7p/Fqw3YvOBQ4xYtuUdmxfH9FEy5qu0/tyAHs7G6pubvq1j5siFKWQit7iJvabPdexxxObXCnWbomGTDk/G7bS1uUxLmrerK1omMlryWncGt+sP5kjH3mN6mHBx8rTWJ+1dpo/OxfpQ7PJrvZq8rf7eZq0/eMwx7ZaooJCfCIpCqFEGAhAoH4GSC4ol/4wnJPMPe+N2XYiuQzATVK6J96K2GH+stwy5w8g7acm0Jfbt0zZsr2l1/dP6VrrmnDHd4jShSEHxashIzA2R6RdnA8Uc2/105Rf83BIcDdt1IdmcvWxditAJ6cudFiPXuiXlGxtznckSty3A4R+02ewTpsg0+13kHifPmW59mixrrVN5+L0xLdewWV0ugs4mzLYZYsRhT13TJu0eNkVFEmjtfGDKo3ZiiScQKBGBkguKzcG4ZeYf9mRSMBOUQ1BEvgUOt2vLN2v1fpP7WobIcHepkpYcgqKoKYZiBMXDdmMkxG1ev8hIO5NdMplaQsA+jWDGxYzXMiVjmzTJfr1UsTl/JJ1t7udt7Zr9LjIy9n0GIZj0wyF6EqLYuB79+PBb/SHJb612J4XftC4cdZmiSSwg7R3QnfgIi7PKqj1GUFRt6DAcAuUiUHJBkfzjbv5hzyYosi4YtBJJsn4HkXy/BTsFRcYRCEdbKYeFCorpi9pirG2wj5CktFLYCTMOyWRo8bSLicj59IIilX05BIW9zlT7Um232WXz1xqByAYvp/5jq9shbsMTunB2g943p0VM3g0faP3ZIWM6KZtFPr+OoPB5gDAPApUn4ANBYU8gK75tV/8zc3tdZaY8Ki8oftbhb6zkmLKTpFR9wTa/n3uCjTVvj40tcUdvyHY9VktOyTrp74SNS95xsSX93P212ZjTCEWauiPrfkLHottOk1tdDWGR64hJEkfaD6yhSIuGCxCAgCcEvBcUtgRgDiPHeUzZF7ylJrXYfbaEcOSHHGDak2HeictsoYARinIuwjRNk8yFsMu0ptvY3mm/0eXIziiVfbbrsSrzjU3/d8bW493fpm4NdbE0ecrWn9Ik/eTN1odQ91pjHYn7GoqhLvOeep13Pp/Eqi7+yWUxZ2u7tZgz5f58TiAo8qHFvRCAQPkJ+ExQLNOarviDpOIr66OvBTe+4aUmtRgkWxJq+FhfRnYyZORnT4aVFBTlXYSZ6vSF40aC3vau1hz/QaEpaxRobmoi+q36y29WO9ao2Bmlss92vcDYXN+ud4yYv9WyXV33J+I7UyTNTujZ/QEdPrlJ7ztfBFegoNC/zPURjl0eLruN3jlubFd93K71uzdrd++AQpOGnZLmnv2gLcbC1ToERWoH5QwEIFATBLwXFJFV9+nmnY2kkphLT01qsTi8Gvw88wOJUp4BYE+G+QgKcxdCwq60P53t2hZhWlMebuXT+Zp3z4sk2RwZ29u0M7Jfi1iR7XoRscn0/AizXyTX58SpFCooZJ+CcotH8pxzF4itzcwxtT3QLe9A+qgAayh8FAxMgYA/CHgvKKTMDxRq2qRtR6yh5tSkFgcZvq22TEnImdgdybBSgsI2/G8mRpfPaX0toO+8ut5sf46CS3uRhGlvM5tgyHa90NhEHlo5oG3NmZNzNMGXTFDE2vyyJf0Oo2h7DRvUdt8a3Yl6mKOgWPGt85HzBQTSL0UQFH6JBHZAwDcEfCEoIg8cujPYrPXNHyRHGSLvP9h87qLuvJbMEQF7wnNwfH1f58/Z31WR/Fa5wAVFlNTsbXWdjb0vJfEuj7rI1sadG/TpyXZ13XZOE2UTDNmuG/HJKzbxctFpr1Z92mq8yyP6bozI+12aow9Cs63fjRSzJffc11AkLU22ab6P412taNmkLfH+mLzX+DD3+GLad9Gs+Wa7DmedgjMqq4aPCIpqiBI2QqCiBEoiKCpqMY1BAALeE0BQeB8DLICAzwggKHwWEMyBQFUQQFBURZgwEgKVJICgqCTtgtqyP4cjOYWTZg2E7XrKNE9BBlAIAqkETEHhfMPpe80q8btNU9vnDAQg4DsCCArfhcRpEILCSYRjHxBAUPggCJgAAX8RQFD4Kx4u1iAoXKBwymsCCAqvI0D7EPAdAQSF70KCQRCAAAQgAIHqI4CgqL6YYTEEIAABCEDAdwQQFL4LCQZBAAIQgAAEqo8AgqL6YobFEIAABCAAAd8RQFD4LiQYBAEIQAACEKg+AgiK6osZFkMAAhCAAAR8RwBB4buQYBAEIAABCECg+gggKKovZlgMAQhAAAIQ8B0BBIXvQoJBEIAABCAAgeojgKCovphhMQQgAAEIQMB3BBAUvgsJBkEAAhCAAASqjwCCovpihsUQgAAEIAAB3xFAUPguJBgEAQhAAAIQqD4CCIrqixkWQwACmQjwJtRMdLhWwwRu7lypQCDg+n/lzptl9xxBUXbENAABCFSUAIKiorhpzD8EEBT+iQWWQAACtUCgKEExr98ePVJfx5Ba6/vVsjX2/9RwLYAxfZjXs5FbOtMWtPnZ0jioQwduKjg2bd7si8/zTx+o98CQ9jVYcWndMaRTF8Y1OZ/JxLB+/emO3df6Ae3bNazu4EvNhTOV9eha+LUm742pu23QiE9QfeOZ7UFQZObDVQhAAAL5ETAFxXvNymWgd37yqa72jOqQkawSYiLys6YERXhKwcMDSbFk+ml+3n/yiX7Lj3x57g5PafR4MLO9TaMaddNA00/Vt38wc9mvb2ncF6IirLkn47p0elj7DDFrxSS7oHAGwBQYTHk46XAMAQhAIBuBvAXFtC7vs771Wn/ArXO1JCgmLw5lTrDxUZmWrQPqvpMNdrmvz+jqASsObrFJnjv8QHM2c56qd0duZfd3P7eV9OZgXN1pBG3MRwSFN3GhVQhAYOESyFtQSHMDw1aS3TWqSz/e0YlkYq2lEYopXdpjJdnWw2N6NJOYLwhr7vm4er6yrh/qeel9P7p3Q/ujsRjQ0Z5xTc5GhhMi3+bHdKLRsrVl65AuT9nN/S0R1/pBnQlO6Leoq/Oa/PGGDpmjAA0h3bUX9eRo7Kw1mrLv6xu6Onwz7nvETwSFJ0GhUQhAYAETKEBQaHZMJ6JC4t+KpddHOlWTguKl+pKCYVC9D5z9JKzRditJH/rekaGdt1fkOKzxnhF1h2ZSWxsasYSga8Kd0ejJEV1+kjqnMX7OnEYZ1Whq7ZU/c++mjkSExJPXsbbHb+lQsh8iKCofEFqEAAQWNoFCBEUKsVoVFPbpndaOB/rVzLVPbhnf3PNPYCkYy31ieDSLoEhvwHiPDwWF01wEhZMIxxCAAAQqSABBkRn2jyG1Jr/19qulaUjd/U81FgxpvzENcKhnInM9Prg6ecFcDzKs4GyuRoX103fGwtSmGxrLtWgl70NQVJI2bUEAAhBwEEBQOIA4D8OaHBhJs5OgXy31gzp64Xl86sdZ1kfH4XF1G2soWjseORZlZrB18p6O2MSTD9aKuJmLoHCjwjkIQAACFSKwUASFLdlY6x6Sux62ZloXENZkcFT7zJGKxOeIoOgZt0+FVCh0uTczo9EOY4ShfkiXJ3MsHZ5Qn7EwtaUxpLvmtE+O1VTkNluM85+CYttoRaJEIxCAQM0SQFDE1xWkERThaY0etXYTRATI/j3meoKYOGltu+eT5zM4e2pkkaZp74BODbss2HQWix47hUhQfS4LNl2LenESQeEFddqEAAQgECeAoMggKMK6e9L4Zt84ouDT+LbRV+PqazOube3XkYv/9lm3ShUTRy/mutbDKSYG3XeO+MljBIWfooEtEIDAgiOwUARFIYGduqcjiamNrYPquecc65/RaLshKvbc0rNC2ilLmRmNnbWPTJwYyHFbq/PpoPVB9dzJdVSjLM7kVimCIjdO3AUBCECgLAS8FBQje7Xu7UUKBOq09C/HNJZ4ZlRZHC2g0uvmNss0UyLmsx2+uqW0r4+oqK8z+umkMU2TjyAIT+iyOfISGZV57hRSmVlO9XyhlXUBBd5YrNUNV5SjjMlcaS5XPRAUxfjK20ZzCSr3QAAC1UPAM0FxTY3L7K+OXv6PK/7idu+GsRBzQEfOjetZ8kmZsRejdZsLFvfd06+uHlTS1xn7mo98BEF4Qpe+Nhas7rmhvN97NnVM694w47pI6zoqJCkqLSiK9BVB4frLwkkIQKBqCRQgKOyL/IwElJweMM+l+WavTm0MmIknoMB/fqY+P4F0bLW0doSY/iU+RxY7pnuwQ6V8nVXoqDEF4xqPhL39arGNqLy0PWY8s6/9aul45B4psz8l4vs/e/WL+91FnR3tMHzJy1f3ZvPe5VGkrwgK9zhwFgIQqFYC5h/FHN82WhpBMaXOvy5WIJF0oj9XqtkPL4kwY/nklu0ZDOkS7ZHupxneNlopX81HheeQbG2Cwv6003R+Js+nExS6qeb3HELxjY06bzIt0WfPBUWRviIoStQRqAYCEPAJAc8EhaQXndr4ppl8VmvvY59wMc2Yf6lQT0hHdg2o1XjAU2tTUEeO31IosfPDLOP8XBFf/SAoJI00a6U57VGmkSfvBUVxviIonL8kHEMAAtVNoABBUUqHrzUtt0Yp3v5CPltFUUpXtZB87fyLIRT/dKxyCzOLiFjeUx7xtgr1FUFRRLAoCgEI+JCAx4Li/N+taY/lDdd8CKh0Ji0cX8e0948JQbFI645XaFFmkaEqTFAU7iuCosiAURwCEPAZAVNQ2NYzBBTIcU1FIR7Nvrimzi0fqi7e5qLfN+qK37aNFuKYS5kF5ev9K9r756VaFI9rnY9HJ0wBYV/LE9DKnTddImk/NVukrwgKO0+OIACBaidQaUHRtdGa4kgknT826sqLagfpYv8C8jU1OS/S0j/78NkiRphSbU6MqmQWFKnlCvMVQWEEg48QgEANEPBIUNS9uVQf/qlRB/t/UbrNllVPNy4oFoKvsSS7SIvfXqnVf2tWZ8j/UU0VBvkIiuJ9RVBU/W84DkAAAhCAAAS8J4Cg8D4GWAABCEAAAhCoegIIiqoPIQ5AAAIQgAAEvCeAoPA+BlgAAQhAAAIQqHoCCIqqDyEOQAACEIAABLwngKDwPgZYAAEIQAACEKh6AgiKqg8hDkAAAhCAAAS8J4Cg8D4GWAABCEAAAhCoegIIiqoPIQ5AAAIQgAAEvCeAoPA+BlgAAQhAAAIQqHoCCIqqDyEOQAACEIAABLwngKDwPgZYAAEIQAACEKh6AgiKqg8hDkAAAhCAAAS8J4Cg8D4GWAABCJSSQKXfNlpK26mrRgh0amP8VfaBlJ8b1VkjXjrdQFA4iXAMAQhUNwEERXXHryasR1DURBhxAgIQWOAEihAU808fqPfAkPY19Ktla+x/644hnbowrsl5P3Gd1+S9MfW2D2t/00DS1pb6Ae3bNazu/uf6Newne11suXdD++OME6wP9bx0udHLU/Oa/PGOzrQF1Vof7xMRxnuG1Rt8qfRdAkHhZdRoGwIQgEBpCJiC4r1m3cyl1vCURo8HrcTsSHTRhNc0qtHpXCqrwD3jt3TIzUbznJ/sdSIJT6j3K0u0+VJQhCd0uc0QaybbxOevb2k8J+FmCgymPJzdgWMIQAAC/iSQt6CY0dUDqcktkeRsPw8/0JwfvM5FUESSnl/sdTCbvDjkKt78M0Ixo9GOLGIiLipaOx7pN4d/qYcIilQmnIEABCDgdwJ5CwpJyeH3AR3tGdfkbORrZ1hzT8Z0otEUG0O6POUDAON3dKItpL7gUz2bSQy8hzX3fFw9e0x7RzXqA3NtJkyP6Whi+mBrUIeMkQrfCIofQ2pNjEJs7Vdr2y39FJ/zmp8cV59t5GJQvQ9sHrocIChcoHAKAhCAgM8JFCIoFNZ4z4i6QzOpzg2NGN+mg+obT73FV2eGRw17/SYoZm3f/Peffa7RDksA+UNQzOrqYcumlq9cpjXCz9Wzw7qn9WS2ToGg8NXvCMZAAAIQyIlAQYIiQ822BO1/QTE3MGwJiqYbGsvgWsUvmd/8G0O6G5YPBcUTnUmOoPTrxOCsA9O8nvWPaJ9xT8uuW8osKRAUDogcQgACEKgCAiUWFJMXzPn+YQWd+cUvSGan9Wjkho4Yie7Q9z7aNWH7Vj+gM9djIH03QmFbn2Kf4orsAjqzyxqZsNbXZBsJQlD45dcEOyAAAQjkTqCUgiI8rm5jDUVkAZ4vFmXGaYz3pNmZUj+ooz1Pc1gsmDvWYu8c/96ytbX9QdI23wmK6y5TRvMvdTXjLqCgLj3NRAhBkYkO1yAAAQj4k0DJBIVjpX/9kC5P+svltIKiIagT3Q80Hl1c6gObJ+9ZIyf1wwoa2299JyhsU1wjuvzTLR01RGV0VGJXSFdHbhpbd7NNhSEofNALMQECEIBAngRKIigiizStb9QtWwd0athlwWaeppX6druNLkPx9UO69CSnByWU2jSjvhkFjW25Ry7+27jmwzUUNkHhYBod+RmPPTQsw9SIzcHoAYIilQlnIAABCPidQNGCIlVMHL044XevpfBr/fr0qYLOofm2e/rVQ+vnro9aWzD3pC5e9N0IhU0oWIJi3/5buvvKEGduUyNpOSMo0qLhAgQgAAHfEihKUMxo7Kx9ZOLEgB8ePJEP7bDGTg9aOz22ZlswmE/d+d9rCgZrEaOVqN3PZZtCyN+OnEvMjumo8QyKlvqguq8bczTxisbOGoz33NKzjA0gKDLi4SIEIAABXxIoWFDM6KeTRpKoD6rnTp7THCN7te7tRQoE6rT0L8c0lnjmVIVBjZ8zRFH9qELp2p+/pr3/u1SLAgHV/dcnOnY33Y2Fny+toJjS+S0rVRcIaNF/rFZjfznE3rQu7zMEz4Gx5ALSJIXpBzplvO9lf/fz5CX3DwgKdy6chQAEIOBnAgUJihmNHjXEROOIgs+N4e2c/L2mxmUBma+rXv6PKzmVzPem0HdBnep5oLGnM8YLqsKaezWlsf5R7Te2jmZ6/Pa1huU2ewPLvtCVEougUgqKqeProuInyfiNdTr2Il962e93Php8/9HEAtfI01Mf6MxOQ3DktFgXQZGdOndAAAIQ8BuBvAXFrEJHc3tvQ3R4PvLkRFefzaQRFxb/+Zn6XO8t7mTOSbo+qL4MizI7/2oXQIHAYn3WW5xt+ZY2fcn2pMybO1faBVAgoNXf/JJvk9nvD0+oz/YIc0NAmNMhW/t1qCeX9TVm3+DlYNkDwB0QgAAE/EAgb0HxUn3G+yTc5/SNhJJWUEyp86+LHQlvpZq9mkZoGlZflimbqa6NWhywi4qVLZV9tmY+gkJmbON2L/rb+fL0uulHOtNkxN0hJCL9ZP/pJ6nTIa7WIChcsXASAhCAgK8JmEknp9eXl0pQSHrRqY1vmgl6tfY+LgOtV88V7B7WoR32kZXWHYM6dOCG+kZeai6nGZuICPqdTQSV5Rt/BgR5CQpJ13autE17LP6/cowBxQ0OT+vuhZCO7DI4Nwzo0IGbuvrkdQavnJcQFE4iHEMAAhDwP4G8BUVpXbrWZKxLePsLlWcVRQltHmnU8uQoxVJ9MVjCustR1XynPknaG9C6jnIszCy14QiKUhOlPghAAALlJ+CxoDj/d2vaY3nDtfL7W2wLPZ9Z0x7LGuV7i+/v1YcJQRFZlFkNekIIimK7KeUhAAEIVJ6AKSgSiSfxM6cpkMJMnn1xTZ1bPoxuaYzsQlj0+8aS75gozLI0pWandK3rC31YF5+ieWO5Gv08OjE/q7H+vfokui03YnOd1h33q5owBYQ5BRb5zKLMND2S0xCAAAR8RqDSgqJro20NQkRM1P2xUVfKsJ2xNKRdkl3dh2V6pkMpLL6p5vccSfmNpfqko7KLR/PzxIVxQtQiKPJDyd0QgAAEPCPgkaCoe3OpPvxTow72/yK/vuE8FpN4sqv7nZb+9zo1Hr6iX3xtcFxQvLFYS99brY07O3Uz9cGVnnU394YRFO5cOAsBCEAAAhCAAASyEAhkuc5lCEAAAhCAAAQgkJUAgiIrIm6AAAQgAAEIQCAbAQRFNkJchwAEIAABCEAgKwEERVZE3AABCEAAAhCAQDYCCIpshLgOAQhAAAIQgEBWAgiKrIi4AQIQgAAEIACBbAQQFNkIcR0CEIAABCAAgawEEBRZEXEDBCAAAQhAAALZCCAoshHiOgQgAAEIQAACWQkgKLIi4gYIQAACEIAABLIRQFBkI8R1CEAAAhCAAASyEkBQZEXEDRCAAAQgAAEIZCOAoMhGiOsQWFAEFuZbEhdUiHEWAmUigKAoE1iqhUB1EkBQVGfcsBoC3hNAUHgfAyyAgI8IICh8FAxMgUBVEUBQVFW4MBYClSZgCoyN6qx087QHAQhUDQEERdWECkMh4AUBBIUX1GkTAtVIAEFRjVHDZghUjACComKoaQgCVU4AQVHlAcR8CJSXAIKivHypHQK1QwBBUTuxxBMIlIEAgqIMUKkSAjVJAEFRk2HFKQiUigCColQkqQcCtU4AQVHrEcY/CBRFAEFRFD4KQ2ABEUBQLKBg4yoE8ieAoMifGSUgsDAJICgWZtzxGgI5EkBQ5AiK2yCw4AkgKBZ8FwAABDIRQFBkosM1CEDAIoCgsFjwCQIQSCGAoEhBwgkIQMCVAILCFQsnIQCBGAEEBT0BAhDIjQCCIjdO3AWBBUoAQbFAA4/bEMibAIIib2QUgMBCIoCgWEjRxlcIFEMAQVEMPcpCoOYJIChqPsQ4CIESEUBQlAgk1UCgNgkgKGozrngFgdITQFCUnik1QqCGCCAoaiiYuAKBshJAUJQVL5VDoNoJICiqPYLYD4FKEUBQVIo07UCgKgiYAiKgQMD8v1GdVeEDRkIAAl4QQFB4QZ02IeBbAggK34YGwyDgcwIICp8HCPMgUFkCCIrK8qY1CNQOAQRF7cQSTyAAAQhAAAKeEUBQeIaehiEAAQhAAAK1QwBBUTuxxBMIQAACEICAZwQQFJ6hp2EIQAACEIBA7RBAUNROLPEEAhCAAAQg4BkBBIVn6GkYAhCAAAQgUDsEEBS1E0s8gQAEIAABCHhGAEHhGXoahgAEIAABCNQOAQRF7cQSTyAAAQhAAAKeEUBQeIaehiEAAQhAAAK1QwBBUTuxxBMIQAACEICAZwQQFJ6hp2EIQAACEIBA7RBAUNROLPEEAhCAAAQg4BkBBIVn6GkYAhCAAAQgUDsEEOlEPqkAAAAVSURBVBS1E0s8gQAEIAABCHhG4P8BPiFSbJyA4+UAAAAASUVORK5CYII=)\n"
      ],
      "metadata": {
        "id": "m21rVB8JiTmV"
      }
    },
    {
      "cell_type": "markdown",
      "source": [
        "**Ejemplo 1**\n",
        "\n",
        "Crea una matriz con 12 números enteros y muestra en pantalla la matriz."
      ],
      "metadata": {
        "id": "TuhJdJ6Yitcv"
      }
    },
    {
      "cell_type": "code",
      "execution_count": null,
      "metadata": {
        "id": "61jmTy-PON8e",
        "colab": {
          "base_uri": "https://localhost:8080/"
        },
        "outputId": "8166e7da-2225-43d7-be98-892223ee568f"
      },
      "outputs": [
        {
          "output_type": "stream",
          "name": "stdout",
          "text": [
            "[[10, 12, 13], [14, 15, 16], [17, 18, 19], [20, 21, 22]]\n"
          ]
        }
      ],
      "source": [
        "matriz_enteros = [[10, 12, 13],\n",
        " [14, 15, 16],\n",
        " [17, 18, 19],\n",
        " [20, 21, 22]]\n",
        "print(matriz_enteros)"
      ]
    },
    {
      "cell_type": "markdown",
      "source": [
        "Esta es una disposición sin embargo una matriz de 12 elementos puede tener diferentes dimensiones, en este caso era 4x3, pero puede estar dispuesto de diferentes maneras 6x2, 2x6 y 3x4."
      ],
      "metadata": {
        "id": "qtxxkX_wGvty"
      }
    },
    {
      "cell_type": "code",
      "source": [
        "matriz_enteros = [[10, 12],\n",
        " [13, 14],\n",
        " [15, 16],\n",
        " [17, 18],\n",
        " [19, 20],\n",
        " [21, 22]]\n",
        "print(matriz_enteros)"
      ],
      "metadata": {
        "colab": {
          "base_uri": "https://localhost:8080/"
        },
        "id": "ln5zBpfPHix3",
        "outputId": "d7bc4622-6009-45e0-b44f-891d7e6fdfde"
      },
      "execution_count": null,
      "outputs": [
        {
          "output_type": "stream",
          "name": "stdout",
          "text": [
            "[[10, 12], [13, 14], [15, 16], [17, 18], [19, 20], [21, 22]]\n"
          ]
        }
      ]
    },
    {
      "cell_type": "code",
      "source": [
        "matriz_enteros = [[10, 12, 13, 14, 15, 16],\n",
        " [17, 18, 19, 20,21, 22]]\n",
        "print(matriz_enteros)"
      ],
      "metadata": {
        "colab": {
          "base_uri": "https://localhost:8080/"
        },
        "id": "rNmNzwYeIAm2",
        "outputId": "3dd27f9c-f3e4-4334-d276-0c5de0665ce1"
      },
      "execution_count": null,
      "outputs": [
        {
          "output_type": "stream",
          "name": "stdout",
          "text": [
            "[[10, 12, 13, 14, 15, 16], [17, 18, 19, 20, 21, 22]]\n"
          ]
        }
      ]
    },
    {
      "cell_type": "code",
      "source": [
        "matriz_enteros = [[10, 12, 13,14],\n",
        " [15, 16, 17, 18],\n",
        "  [19, 20, 21, 22]]\n",
        "print(matriz_enteros)"
      ],
      "metadata": {
        "colab": {
          "base_uri": "https://localhost:8080/"
        },
        "id": "C6V3tEX2JQkq",
        "outputId": "599435b4-0292-4e36-a780-035e02a2ad45"
      },
      "execution_count": null,
      "outputs": [
        {
          "output_type": "stream",
          "name": "stdout",
          "text": [
            "[[10, 12, 13, 14], [15, 16, 17, 18], [19, 20, 21, 22]]\n"
          ]
        }
      ]
    },
    {
      "cell_type": "markdown",
      "source": [
        "Para acceder a un elemento usamos  doble corchete `[ ]` y especificamos el indice, el cual inicia en `0` y termina en `M-1`, donde `M` es el tamaño de las filas y en `N-1`, donde `N` es el tamaño de las columnas.\n",
        "`[M]`x`[N]`\n",
        "\n",
        "*Nota es importante tener en cuenta la dimensión previamente establecida, en una matriz de 2x6 no podemos llamar al elemento en la posición [2][6] porque esta fuera de la dimensión de la misma*"
      ],
      "metadata": {
        "id": "FsdP9ns_jdg_"
      }
    },
    {
      "cell_type": "code",
      "source": [
        "# Indice 0\n",
        "print(f'Elemento en indice 0: {matriz_enteros[0][2]}')\n",
        "\n",
        "# Indice 1\n",
        "print(f'Elemento en indice 1: {matriz_enteros[1][3]}')\n",
        "\n",
        "# Indice 2\n",
        "print(f'Elemento en indice 2: {matriz_enteros[2][2]}')\n",
        "\n",
        "# Indice 3\n",
        "print(f'Elemento en indice 3: {matriz_enteros[1][1]}')\n",
        "\n",
        "# Indice 4\n",
        "print(f'Elemento en indice 4: {matriz_enteros[2][3]}')"
      ],
      "metadata": {
        "colab": {
          "base_uri": "https://localhost:8080/"
        },
        "id": "tI-pm6lbjUNI",
        "outputId": "6a249364-e6c9-4b65-8de5-0ae58d6ab391"
      },
      "execution_count": null,
      "outputs": [
        {
          "output_type": "stream",
          "name": "stdout",
          "text": [
            "Elemento en indice 0: 13\n",
            "Elemento en indice 1: 18\n",
            "Elemento en indice 2: 21\n",
            "Elemento en indice 3: 16\n",
            "Elemento en indice 4: 22\n"
          ]
        }
      ]
    },
    {
      "cell_type": "markdown",
      "source": [
        "Para modificar un valor utilizamos corchetes y el indice:"
      ],
      "metadata": {
        "id": "16zuikKGn-iT"
      }
    },
    {
      "cell_type": "code",
      "source": [
        "print(f'Matriz original: {matriz_enteros}')\n",
        "\n",
        "# Modificando elemento en el indice 0\n",
        "matriz_enteros[0][0] = 123\n",
        "\n",
        "# Modificando elemento en el indice 4\n",
        "matriz_enteros[2][3] = 123\n",
        "\n",
        "print(f'Matriz modificada: {matriz_enteros}')"
      ],
      "metadata": {
        "colab": {
          "base_uri": "https://localhost:8080/"
        },
        "id": "O5M5XPNykJoM",
        "outputId": "9fbb67fb-9bb0-49f3-ea8b-bcc485ab53d6"
      },
      "execution_count": null,
      "outputs": [
        {
          "output_type": "stream",
          "name": "stdout",
          "text": [
            "Matriz original: [[10, 12, 13, 14], [15, 16, 17, 18], [19, 20, 21, 22]]\n",
            "Matriz modificada: [[123, 12, 13, 14], [15, 16, 17, 18], [19, 20, 21, 123]]\n"
          ]
        }
      ]
    },
    {
      "cell_type": "markdown",
      "source": [
        "El tamaño de una matriz puede obtenerse utilizando la función `len()` de Python:\n",
        "sin embargo veremos que este metodo es menos practico que el que veremos posteriormente con numpy"
      ],
      "metadata": {
        "id": "0mieHROeokUR"
      }
    },
    {
      "cell_type": "code",
      "source": [
        "row=len(matriz_enteros)\n",
        "print(f'Tamaño de las filas de la matriz: {row}')\n",
        "col=len(matriz_enteros[0])\n",
        "print(f'Tamaño de las columnas de la matriz: {col}')"
      ],
      "metadata": {
        "colab": {
          "base_uri": "https://localhost:8080/"
        },
        "id": "ZfRg9mn_os6J",
        "outputId": "3ab8e414-710b-4be3-bbfe-ec4837951e62"
      },
      "execution_count": null,
      "outputs": [
        {
          "output_type": "stream",
          "name": "stdout",
          "text": [
            "Tamaño de las filas de la matriz: 3\n",
            "Tamaño de las columnas de la matriz: 4\n"
          ]
        }
      ]
    },
    {
      "cell_type": "markdown",
      "source": [
        "Recorriendo cada elemento de la matriz:"
      ],
      "metadata": {
        "id": "f2UNPSbro6rT"
      }
    },
    {
      "cell_type": "code",
      "source": [
        "for i in range(0, len(matriz_enteros), 1):\n",
        "  for j in range(0, len(matriz_enteros[0]), 1):\n",
        "    print(f'Elemento en el indice {i}{j}: {matriz_enteros[i][j]}')"
      ],
      "metadata": {
        "colab": {
          "base_uri": "https://localhost:8080/"
        },
        "id": "RKvW82Eoo32R",
        "outputId": "32f38307-9ab0-4a58-90b2-1a131701c1a3"
      },
      "execution_count": null,
      "outputs": [
        {
          "output_type": "stream",
          "name": "stdout",
          "text": [
            "Elemento en el indice 00: 123\n",
            "Elemento en el indice 01: 12\n",
            "Elemento en el indice 02: 13\n",
            "Elemento en el indice 03: 14\n",
            "Elemento en el indice 10: 15\n",
            "Elemento en el indice 11: 16\n",
            "Elemento en el indice 12: 17\n",
            "Elemento en el indice 13: 18\n",
            "Elemento en el indice 20: 19\n",
            "Elemento en el indice 21: 20\n",
            "Elemento en el indice 22: 21\n",
            "Elemento en el indice 23: 123\n"
          ]
        }
      ]
    },
    {
      "cell_type": "markdown",
      "source": [
        "Ahora bien ¿Cómo sería con Numpy?"
      ],
      "metadata": {
        "id": "m4ywznowOmed"
      }
    },
    {
      "cell_type": "code",
      "source": [
        "matriz = np.array([[1, 2, 3, 4],\n",
        "                   [5, 6, 7, 8],\n",
        "                   [9, 10, 11, 12]])\n",
        "\n",
        "print(matriz)"
      ],
      "metadata": {
        "colab": {
          "base_uri": "https://localhost:8080/"
        },
        "id": "QJYwc0w8Oq1C",
        "outputId": "f771e7cb-c154-438b-c839-6befbb9b5093"
      },
      "execution_count": null,
      "outputs": [
        {
          "output_type": "stream",
          "name": "stdout",
          "text": [
            "[[ 1  2  3  4]\n",
            " [ 5  6  7  8]\n",
            " [ 9 10 11 12]]\n"
          ]
        }
      ]
    },
    {
      "cell_type": "markdown",
      "source": [
        "¿Notas alguna diferencia? Sí, es la disposición estructural que muestra el print, una curiosidad de python, es que si no usas la librería numpy para generar matrices, Python toma asume que estas creando una lista de dos dimensiones, de forma que asumem que tienes una lista que contiene otra lista dentro de ella, teoricamente eso es una matriz, pero a nivel de programación es algo que debemos tener muy en cuenta."
      ],
      "metadata": {
        "id": "BtzHEwFnO_wX"
      }
    },
    {
      "cell_type": "markdown",
      "source": [
        "Una ventaja de usar numpy sobre lo demás es lo avanzada que esta la librería para crear todo tipo de arreglos MxN dimensionales, como veremos a continuación:"
      ],
      "metadata": {
        "id": "hL2dF7xvPhbi"
      }
    },
    {
      "cell_type": "code",
      "source": [
        "# Crear una matriz de 12 elementos con dimensiones 3x4 con valores aleatorios en un rango definido\n",
        "min=0 #rango minimo para introducir en la función random.randint\n",
        "max=5 #rango maximo para introducir en la función random.randint\n",
        "\n",
        "matriz_aleatoria = np.random.randint(min,max +1,(3,4))\n",
        "\n",
        "print(matriz_aleatoria)"
      ],
      "metadata": {
        "colab": {
          "base_uri": "https://localhost:8080/"
        },
        "id": "OSGR48nEPw25",
        "outputId": "fc39b911-a308-4a3c-9d7d-b3f572a719a9"
      },
      "execution_count": null,
      "outputs": [
        {
          "output_type": "stream",
          "name": "stdout",
          "text": [
            "[[5 4 4 3]\n",
            " [4 2 5 1]\n",
            " [1 1 5 4]]\n"
          ]
        }
      ]
    },
    {
      "cell_type": "markdown",
      "source": [
        "Además numpy nos entrega una forma más eficiente de conocer las dimensiones de una matriz"
      ],
      "metadata": {
        "id": "zvhdSOY-RXE0"
      }
    },
    {
      "cell_type": "code",
      "source": [
        "print(f'Dimensión de la matriz {matriz.shape}') #.shape es un metodo que nos permite conocer las dimensiones de una matriz de tipo numpy.ndarray\n",
        "tipo=type(matriz)\n",
        "print(f'Tipo de clase de la matriz {tipo}')"
      ],
      "metadata": {
        "colab": {
          "base_uri": "https://localhost:8080/"
        },
        "id": "mtXU5TiORcga",
        "outputId": "c7411882-a4ee-41fd-db9e-cf031f1f1e72"
      },
      "execution_count": null,
      "outputs": [
        {
          "output_type": "stream",
          "name": "stdout",
          "text": [
            "Dimensión de la matriz (3, 4)\n",
            "Tipo de clase de la matriz <class 'numpy.ndarray'>\n"
          ]
        }
      ]
    },
    {
      "cell_type": "markdown",
      "source": [
        "**Ejemplo 2**\n",
        "\n",
        "Crea una lista con 6 nombres, imprime la lista original, luego recorre cada elemento y agrega el string `_01`, finalmente muestra el resultado final."
      ],
      "metadata": {
        "id": "XE4EVDW6phVo"
      }
    },
    {
      "cell_type": "code",
      "source": [
        "# Declarar variables\n",
        "# Crear una matriz con 6 nombres\n",
        "nombres = np.array([[\"Carlos\"], [\"Manuel\"],[\"Alejandro\"], [\"Ana\"], [\"Luis\"], [\"Pepito\"]])\n",
        "\n",
        "# Imprimir la matriz original\n",
        "print(\"Matriz original:\")\n",
        "print(nombres)\n",
        "\n",
        "# Recorrer cada elemento y agregar el string \"_01\"\n",
        "nombres_modificados = np.vectorize(lambda x: x + \"_01\")(nombres)\n",
        "\n",
        "# Mostrar el resultado final\n",
        "print(\"\\nMatriz modificada:\")\n",
        "print(nombres_modificados)"
      ],
      "metadata": {
        "colab": {
          "base_uri": "https://localhost:8080/"
        },
        "id": "OjPHuCP6qOlW",
        "outputId": "638a3f23-3ec3-440d-bc16-03f8556c026d"
      },
      "execution_count": null,
      "outputs": [
        {
          "output_type": "stream",
          "name": "stdout",
          "text": [
            "Matriz original:\n",
            "[['Carlos']\n",
            " ['Manuel']\n",
            " ['Alejandro']\n",
            " ['Ana']\n",
            " ['Luis']\n",
            " ['Pepito']]\n",
            "\n",
            "Matriz modificada:\n",
            "[['Carlos_01']\n",
            " ['Manuel_01']\n",
            " ['Alejandro_01']\n",
            " ['Ana_01']\n",
            " ['Luis_01']\n",
            " ['Pepito_01']]\n"
          ]
        }
      ]
    },
    {
      "cell_type": "markdown",
      "source": [
        "**Ejemplo 3**\n",
        "\n",
        "Crear una matriz de 8x8 con números aleatorios utilizando np.random.randint() y luego organizar los números de mayor a menor y de menor a mayor\n"
      ],
      "metadata": {
        "id": "dMUXjYdFsrCj"
      }
    },
    {
      "cell_type": "code",
      "source": [
        "# Crear matriz de 8x8 con números aleatorios entre 1 y 100\n",
        "matriz = np.random.randint(1, 101, size=(8, 8))\n",
        "\n",
        "# Imprimir la matriz original\n",
        "print(\"Matriz original:\")\n",
        "print(matriz)\n",
        "\n",
        "# Organizar los números de mayor a menor\n",
        "matriz_mayor_a_menor = np.sort(matriz, axis=None)[::-1]\n",
        "\n",
        "# Organizar los números de menor a mayor\n",
        "matriz_menor_a_mayor = np.sort(matriz, axis=None)\n",
        "\n",
        "# Reshape para obtener matrices de 8x8\n",
        "matriz_mayor_a_menor = matriz_mayor_a_menor.reshape(8, 8)\n",
        "matriz_menor_a_mayor = matriz_menor_a_mayor.reshape(8, 8)\n",
        "\n",
        "# Imprimir las matrices organizadas\n",
        "print(\"\\nMatriz organizada de mayor a menor:\")\n",
        "print(matriz_mayor_a_menor)\n",
        "\n",
        "print(\"\\nMatriz organizada de menor a mayor:\")\n",
        "print(matriz_menor_a_mayor)"
      ],
      "metadata": {
        "colab": {
          "base_uri": "https://localhost:8080/"
        },
        "id": "ZkrebfS9tY8h",
        "outputId": "71abf802-ac3a-41f3-af55-9b002ac48140"
      },
      "execution_count": null,
      "outputs": [
        {
          "output_type": "stream",
          "name": "stdout",
          "text": [
            "Matriz original:\n",
            "[[52 31  8 11 16  9 81 34]\n",
            " [68 47 35 14 78 58 89 50]\n",
            " [87 48 22 21 14 48 83 29]\n",
            " [40 16 93 86 51 68 21 72]\n",
            " [97 96 99 44 11 23 23 19]\n",
            " [82 27 70 18 51  7 70 14]\n",
            " [13 23 86 10 72 30 34 62]\n",
            " [33  2 26 36 18 72 17 96]]\n",
            "\n",
            "Matriz organizada de mayor a menor:\n",
            "[[99 97 96 96 93 89 87 86]\n",
            " [86 83 82 81 78 72 72 72]\n",
            " [70 70 68 68 62 58 52 51]\n",
            " [51 50 48 48 47 44 40 36]\n",
            " [35 34 34 33 31 30 29 27]\n",
            " [26 23 23 23 22 21 21 19]\n",
            " [18 18 17 16 16 14 14 14]\n",
            " [13 11 11 10  9  8  7  2]]\n",
            "\n",
            "Matriz organizada de menor a mayor:\n",
            "[[ 2  7  8  9 10 11 11 13]\n",
            " [14 14 14 16 16 17 18 18]\n",
            " [19 21 21 22 23 23 23 26]\n",
            " [27 29 30 31 33 34 34 35]\n",
            " [36 40 44 47 48 48 50 51]\n",
            " [51 52 58 62 68 68 70 70]\n",
            " [72 72 72 78 81 82 83 86]\n",
            " [86 87 89 93 96 96 97 99]]\n"
          ]
        }
      ]
    },
    {
      "cell_type": "markdown",
      "source": [
        "**Ejemplo 4**\n",
        "\n",
        "En este caso, vamos a crear una función que tome una matriz cuadrada y verifique si es simétrica. Una matriz es simétrica si es igual a su propia traspuesta."
      ],
      "metadata": {
        "id": "1iPMHt0BwyuU"
      }
    },
    {
      "cell_type": "code",
      "source": [
        "def es_simetrica(matriz):\n",
        "    \"\"\"\n",
        "    Verifica si una matriz es simétrica.\n",
        "\n",
        "    Args:\n",
        "    - matriz: np.ndarray, la matriz a verificar\n",
        "\n",
        "    Returns:\n",
        "    - bool: True si la matriz es simétrica, False en caso contrario\n",
        "    \"\"\"\n",
        "    # Verificar si la matriz es cuadrada\n",
        "    filas, columnas = matriz.shape\n",
        "    if filas != columnas:\n",
        "        return False\n",
        "\n",
        "    # Verificar si la matriz es igual a su traspuesta\n",
        "    return np.array_equal(matriz, matriz.T)\n",
        "\n",
        "# Crear una matriz para el ejemplo\n",
        "matriz_ejemplo = np.array([[1, 2, 3],\n",
        "                           [2, 4, 5],\n",
        "                           [3, 5, 6]])\n",
        "\n",
        "# Llamar a la función para verificar si la matriz es simétrica\n",
        "if es_simetrica(matriz_ejemplo):\n",
        "    print(\"La matriz es simétrica.\")\n",
        "else:\n",
        "    print(\"La matriz no es simétrica.\")"
      ],
      "metadata": {
        "colab": {
          "base_uri": "https://localhost:8080/"
        },
        "id": "GhzebjPypNqH",
        "outputId": "4fde1ac4-8104-48cf-c9c6-aa3449995ee0"
      },
      "execution_count": null,
      "outputs": [
        {
          "output_type": "stream",
          "name": "stdout",
          "text": [
            "La matriz es simétrica.\n"
          ]
        }
      ]
    },
    {
      "cell_type": "markdown",
      "source": [
        "**Ejemplo 4**\n",
        "\n",
        "En este caso, crearemos una función que toma dos matrices y verifica si son multiplicables. Si son multiplicables, la función devolverá el resultado de la multiplicación; de lo contrario, devolverá un mensaje indicando que las matrices no pueden multiplicarse."
      ],
      "metadata": {
        "id": "n0MPjuDizPGw"
      }
    },
    {
      "cell_type": "code",
      "source": [
        "def multiplicar_matrices(matriz_a, matriz_b):\n",
        "    \"\"\"\n",
        "    Multiplica dos matrices y devuelve el resultado si son multiplicables.\n",
        "\n",
        "    Args:\n",
        "    - matriz_a: np.ndarray, la primera matriz\n",
        "    - matriz_b: np.ndarray, la segunda matriz\n",
        "\n",
        "    Returns:\n",
        "    - np.ndarray or str: El resultado de la multiplicación o un mensaje de error\n",
        "    \"\"\"\n",
        "    filas_a, columnas_a = matriz_a.shape\n",
        "    filas_b, columnas_b = matriz_b.shape\n",
        "\n",
        "    # Verificar si las matrices son multiplicables\n",
        "    if columnas_a != filas_b:\n",
        "        return \"Error: Las matrices no son multiplicables.\"\n",
        "\n",
        "    # Inicializar la matriz resultado con ceros\n",
        "    resultado = np.zeros((filas_a, columnas_b))\n",
        "\n",
        "    # Realizar la multiplicación de matrices\n",
        "    for i in range(filas_a):\n",
        "        for j in range(columnas_b):\n",
        "            for k in range(columnas_a):\n",
        "                resultado[i, j] += matriz_a[i, k] * matriz_b[k, j]\n",
        "\n",
        "    return resultado\n",
        "\n",
        "# Crear dos matrices para el ejemplo\n",
        "matriz_a = np.array([[1, 2, 3],\n",
        "                     [4, 5, 6]])\n",
        "\n",
        "matriz_b = np.array([[7, 8],\n",
        "                     [9, 10],\n",
        "                     [11, 12]])\n",
        "\n",
        "# Llamar a la función para multiplicar las matrices\n",
        "resultado_multiplicacion = multiplicar_matrices(matriz_a, matriz_b)\n",
        "\n",
        "# Imprimir el resultado o el mensaje de error\n",
        "if isinstance(resultado_multiplicacion, np.ndarray):\n",
        "    print(\"Resultado de la multiplicación:\")\n",
        "    print(resultado_multiplicacion)\n",
        "else:\n",
        "    print(resultado_multiplicacion)"
      ],
      "metadata": {
        "colab": {
          "base_uri": "https://localhost:8080/"
        },
        "id": "O7lOZM1kyLqv",
        "outputId": "e63714f1-431c-4c2e-a78a-50796380d9fb"
      },
      "execution_count": null,
      "outputs": [
        {
          "output_type": "stream",
          "name": "stdout",
          "text": [
            "Resultado de la multiplicación:\n",
            "[[ 58.  64.]\n",
            " [139. 154.]]\n"
          ]
        }
      ]
    },
    {
      "cell_type": "markdown",
      "source": [
        "**Ejemplo 5**\n",
        "\n",
        "Vamos a crear una función que, dada una matriz cuadrada, encuentra el producto acumulativo de los elementos a lo largo de las diagonales principales y secundarias. Este ejercicio implicará la manipulación de matrices, ciclos, funciones y condicionales."
      ],
      "metadata": {
        "id": "SnC-dAOw2ALf"
      }
    },
    {
      "cell_type": "code",
      "source": [
        "def producto_diagonales(matriz):\n",
        "    \"\"\"\n",
        "    Encuentra el producto acumulativo de los elementos a lo largo de las diagonales principales y secundarias.\n",
        "\n",
        "    Args:\n",
        "    - matriz: np.ndarray, la matriz cuadrada de entrada\n",
        "\n",
        "    Returns:\n",
        "    - int: El producto acumulativo de los elementos a lo largo de las diagonales\n",
        "    \"\"\"\n",
        "    filas, columnas = matriz.shape\n",
        "\n",
        "    # Verificar si la matriz es cuadrada\n",
        "    if filas != columnas:\n",
        "        return \"Error: La matriz no es cuadrada.\"\n",
        "\n",
        "    # Inicializar productos acumulativos\n",
        "    producto_principal = 1\n",
        "    producto_secundaria = 1\n",
        "\n",
        "    # Calcular el producto acumulativo de la diagonal principal y secundaria\n",
        "    for i in range(filas):\n",
        "        producto_principal *= matriz[i, i]\n",
        "        producto_secundaria *= matriz[i, filas - 1 - i]\n",
        "\n",
        "    return producto_principal, producto_secundaria\n",
        "\n",
        "# Crear una matriz cuadrada para el ejemplo\n",
        "matriz_ejemplo = np.array([[1, 2, 3],\n",
        "                           [4, 5, 6],\n",
        "                           [7, 8, 9]])\n",
        "\n",
        "# Llamar a la función para encontrar el producto acumulativo\n",
        "resultado_producto_diagonales = producto_diagonales(matriz_ejemplo)\n",
        "\n",
        "# Imprimir el resultado o el mensaje de error\n",
        "if isinstance(resultado_producto_diagonales, tuple):\n",
        "    producto_principal, producto_secundaria = resultado_producto_diagonales\n",
        "    print(\"Producto acumulativo de la diagonal principal:\", producto_principal)\n",
        "    print(\"Producto acumulativo de la diagonal secundaria:\", producto_secundaria)\n",
        "else:\n",
        "    print(resultado_producto_diagonales)"
      ],
      "metadata": {
        "colab": {
          "base_uri": "https://localhost:8080/"
        },
        "id": "TudkYPV92raP",
        "outputId": "4fa9f7b2-941b-42f4-f34e-94d1c1d035a8"
      },
      "execution_count": null,
      "outputs": [
        {
          "output_type": "stream",
          "name": "stdout",
          "text": [
            "Producto acumulativo de la diagonal principal: 45\n",
            "Producto acumulativo de la diagonal secundaria: 105\n"
          ]
        }
      ]
    },
    {
      "cell_type": "markdown",
      "source": [
        "**Ejemplo 6**\n",
        "\n",
        "Vamos a crear una función que encuentre el número máximo en cada fila de una matriz y calcule la diferencia absoluta máxima entre estos números máximos."
      ],
      "metadata": {
        "id": "qgCeFc7M9f50"
      }
    },
    {
      "cell_type": "code",
      "source": [
        "def diferencia_absoluta_maxima(matriz):\n",
        "    \"\"\"\n",
        "    Encuentra la diferencia absoluta máxima entre los números máximos de cada fila de una matriz.\n",
        "\n",
        "    Args:\n",
        "    - matriz: np.ndarray, la matriz de entrada\n",
        "\n",
        "    Returns:\n",
        "    - int: La diferencia absoluta máxima entre los números máximos de cada fila\n",
        "    \"\"\"\n",
        "    filas, columnas = matriz.shape\n",
        "\n",
        "    # Verificar si la matriz tiene al menos dos filas\n",
        "    if filas < 2:\n",
        "        return \"Error: La matriz debe tener al menos dos filas.\"\n",
        "\n",
        "    # Inicializar la diferencia absoluta máxima\n",
        "    max_diferencia_absoluta = 0\n",
        "\n",
        "    # Calcular la diferencia absoluta máxima entre los números máximos de cada fila\n",
        "    for i in range(filas):\n",
        "        max_numero_fila = np.max(matriz[i, :])\n",
        "\n",
        "        for j in range(i + 1, filas):\n",
        "            max_numero_otra_fila = np.max(matriz[j, :])\n",
        "            diferencia_absoluta = abs(max_numero_fila - max_numero_otra_fila)\n",
        "\n",
        "            if diferencia_absoluta > max_diferencia_absoluta:\n",
        "                max_diferencia_absoluta = diferencia_absoluta\n",
        "\n",
        "    return max_diferencia_absoluta\n",
        "\n",
        "# Crear una matriz para el ejemplo\n",
        "matriz_ejemplo = np.array([[1, 2, 3],\n",
        "                           [4, 5, 6],\n",
        "                           [7, 8, 9],\n",
        "                           [10, 11, 12]])\n",
        "\n",
        "# Llamar a la función para encontrar la diferencia absoluta máxima\n",
        "resultado_diferencia_absoluta = diferencia_absoluta_maxima(matriz_ejemplo)\n",
        "\n",
        "# Imprimir el resultado o el mensaje de error\n",
        "print(\"Diferencia absoluta máxima entre los números máximos de cada fila:\", resultado_diferencia_absoluta)"
      ],
      "metadata": {
        "colab": {
          "base_uri": "https://localhost:8080/"
        },
        "id": "4gRFmeLz9ft3",
        "outputId": "4c81edb3-d853-47cb-cd80-5a8ef2385107"
      },
      "execution_count": null,
      "outputs": [
        {
          "output_type": "stream",
          "name": "stdout",
          "text": [
            "Diferencia absoluta máxima entre los números máximos de cada fila: 9\n"
          ]
        }
      ]
    },
    {
      "cell_type": "markdown",
      "source": [
        "**Ejemplo 7**\n",
        "\n",
        "Vamos a crear una función que tome una matriz cuadrada y verifique si es una matriz antisimétrica. Una matriz antisimétrica es aquella en la que la transpuesta de la matriz es igual a su negación. La diagonal principal de una matriz antisimétrica debe consistir en ceros."
      ],
      "metadata": {
        "id": "S-dJsZpS-W3c"
      }
    },
    {
      "cell_type": "code",
      "source": [
        "def es_antisimetrica(matriz):\n",
        "    \"\"\"\n",
        "    Verifica si una matriz es antisimétrica.\n",
        "\n",
        "    Args:\n",
        "    - matriz: np.ndarray, la matriz cuadrada de entrada\n",
        "\n",
        "    Returns:\n",
        "    - bool: True si la matriz es antisimétrica, False en caso contrario\n",
        "    \"\"\"\n",
        "    filas, columnas = matriz.shape\n",
        "\n",
        "    # Verificar si la matriz es cuadrada\n",
        "    if filas != columnas:\n",
        "        return False\n",
        "\n",
        "    # Verificar si la matriz es antisimétrica\n",
        "    return np.array_equal(matriz, -matriz.T)\n",
        "\n",
        "# Crear una matriz para el ejemplo (matriz antisimétrica)\n",
        "matriz_antisimetrica = np.array([[0, 1, -2],\n",
        "                                 [-1, 0, 3],\n",
        "                                 [2, -3, 0]])\n",
        "\n",
        "# Crear otra matriz para el ejemplo (matriz no antisimétrica)\n",
        "matriz_no_antisimetrica = np.array([[1, 2, 3],\n",
        "                                    [4, 5, 6],\n",
        "                                    [7, 8, 9]])\n",
        "\n",
        "# Llamar a la función para verificar si las matrices son antisimétricas\n",
        "resultado_antisimetrica = es_antisimetrica(matriz_antisimetrica)\n",
        "resultado_no_antisimetrica = es_antisimetrica(matriz_no_antisimetrica)\n",
        "\n",
        "# Imprimir los resultados\n",
        "print(\"¿La matriz es antisimétrica? (esperado: True):\", resultado_antisimetrica)\n",
        "print(\"¿La otra matriz es antisimétrica? (esperado: False):\", resultado_no_antisimetrica)"
      ],
      "metadata": {
        "id": "g1CDFsE8WlHI",
        "colab": {
          "base_uri": "https://localhost:8080/"
        },
        "outputId": "c6746dee-8fc2-4ca4-c858-377cc82af5da"
      },
      "execution_count": null,
      "outputs": [
        {
          "output_type": "stream",
          "name": "stdout",
          "text": [
            "¿La matriz es antisimétrica? (esperado: True): True\n",
            "¿La otra matriz es antisimétrica? (esperado: False): False\n"
          ]
        }
      ]
    },
    {
      "cell_type": "markdown",
      "source": [
        "## Clase Practica grupo"
      ],
      "metadata": {
        "id": "mviQO_k5WjzV"
      }
    },
    {
      "cell_type": "code",
      "source": [],
      "metadata": {
        "id": "sTunQRFz-4_r"
      },
      "execution_count": null,
      "outputs": []
    }
  ]
}