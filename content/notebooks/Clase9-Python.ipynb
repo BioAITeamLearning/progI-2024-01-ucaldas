{
  "cells": [
    {
      "cell_type": "markdown",
      "metadata": {
        "id": "EpgoytHsiWnG"
      },
      "source": [
        "## 📙 Arrays - Python\n",
        "\n",
        "- [1 - Ejemplos Listas (un tipo de dato)](#1)\n",
        "- [2 - Ejemplos Listas (diferentes tipos de datos)](#2)\n",
        "- [3 - Plus: Diccionarios](#3)"
      ]
    },
    {
      "cell_type": "markdown",
      "metadata": {
        "id": "wUE9rV2ug_k0"
      },
      "source": [
        "<a name='#1'></a>\n",
        "## Ejemplos Listas\n",
        "*Listas con un solo tipo de dato.*"
      ]
    },
    {
      "cell_type": "markdown",
      "metadata": {
        "id": "m21rVB8JiTmV"
      },
      "source": [
        "En Python la creación de arrays o listas es más sencilla, su sintaxis es la siguiente:\n",
        "\n",
        "![image.png](data:image/png;base64,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)"
      ]
    },
    {
      "cell_type": "markdown",
      "metadata": {
        "id": "TuhJdJ6Yitcv"
      },
      "source": [
        "**Ejemplo 1**\n",
        "\n",
        "Crea una lista/array con 5 números enteros y muestra en pantalla el array."
      ]
    },
    {
      "cell_type": "code",
      "execution_count": null,
      "metadata": {
        "colab": {
          "base_uri": "https://localhost:8080/"
        },
        "id": "61jmTy-PON8e",
        "outputId": "0840537b-6b9e-4193-b190-295b20ba9a43"
      },
      "outputs": [
        {
          "name": "stdout",
          "output_type": "stream",
          "text": [
            "[10, 12, 13, 14, 15]\n"
          ]
        }
      ],
      "source": [
        "lista_enteros = [10, 12, 13, 14, 15]\n",
        "\n",
        "print(lista_enteros)"
      ]
    },
    {
      "cell_type": "markdown",
      "metadata": {
        "id": "FsdP9ns_jdg_"
      },
      "source": [
        "Similar a Java, para acceder a un elemento usamos corchete `[ ]` y especificamos el indice, el cual uinicia en `0` y termina en `N-1`, donde `N` es el tamaño del array."
      ]
    },
    {
      "cell_type": "code",
      "execution_count": null,
      "metadata": {
        "colab": {
          "base_uri": "https://localhost:8080/"
        },
        "id": "tI-pm6lbjUNI",
        "outputId": "526e4d87-1984-4e1c-a0e2-5aaaed2a9156"
      },
      "outputs": [
        {
          "name": "stdout",
          "output_type": "stream",
          "text": [
            "Elemento en indice 0: 10\n",
            "Elemento en indice 1: 12\n",
            "Elemento en indice 2: 13\n",
            "Elemento en indice 3: 14\n",
            "Elemento en indice 4: 15\n"
          ]
        }
      ],
      "source": [
        "# Indice 0\n",
        "print(f'Elemento en indice 0: {lista_enteros[0]}')\n",
        "\n",
        "# Indice 1\n",
        "print(f'Elemento en indice 1: {lista_enteros[1]}')\n",
        "\n",
        "# Indice 2\n",
        "print(f'Elemento en indice 2: {lista_enteros[2]}')\n",
        "\n",
        "# Indice 3\n",
        "print(f'Elemento en indice 3: {lista_enteros[3]}')\n",
        "\n",
        "# Indice 4\n",
        "print(f'Elemento en indice 4: {lista_enteros[4]}')"
      ]
    },
    {
      "cell_type": "markdown",
      "metadata": {
        "id": "16zuikKGn-iT"
      },
      "source": [
        "Para modificar un valor utilizamos corchetes y el indice:"
      ]
    },
    {
      "cell_type": "code",
      "execution_count": null,
      "metadata": {
        "colab": {
          "base_uri": "https://localhost:8080/"
        },
        "id": "O5M5XPNykJoM",
        "outputId": "a6e7cbd6-a184-466b-c5ae-12f0f4a4c108"
      },
      "outputs": [
        {
          "name": "stdout",
          "output_type": "stream",
          "text": [
            "Array original: [10, 12, 13, 14, 15]\n",
            "Array modificado: [123, 12, 13, 14, 123]\n"
          ]
        }
      ],
      "source": [
        "print(f'Array original: {lista_enteros}')\n",
        "\n",
        "# Modificando elemento en el indice 0\n",
        "lista_enteros[0] = 123\n",
        "\n",
        "# Modificando elemento en el indice 4\n",
        "lista_enteros[4] = 123\n",
        "\n",
        "print(f'Array modificado: {lista_enteros}')"
      ]
    },
    {
      "cell_type": "markdown",
      "metadata": {
        "id": "0mieHROeokUR"
      },
      "source": [
        "El tamaño del array puede obtenerse utilizando la función `len()` de Python:"
      ]
    },
    {
      "cell_type": "code",
      "execution_count": null,
      "metadata": {
        "colab": {
          "base_uri": "https://localhost:8080/"
        },
        "id": "ZfRg9mn_os6J",
        "outputId": "5d68f5fc-041a-4b2d-e79e-526078da1c1e"
      },
      "outputs": [
        {
          "name": "stdout",
          "output_type": "stream",
          "text": [
            "Tamaño del array: 5\n"
          ]
        }
      ],
      "source": [
        "print(f'Tamaño del array: {len(lista_enteros)}')"
      ]
    },
    {
      "cell_type": "markdown",
      "metadata": {
        "id": "f2UNPSbro6rT"
      },
      "source": [
        "Recorriendo cada elemento del array:"
      ]
    },
    {
      "cell_type": "code",
      "execution_count": null,
      "metadata": {
        "colab": {
          "base_uri": "https://localhost:8080/"
        },
        "id": "RKvW82Eoo32R",
        "outputId": "1781dca7-3d6b-4ba8-93d8-e45b29865dd2"
      },
      "outputs": [
        {
          "name": "stdout",
          "output_type": "stream",
          "text": [
            "Elemento en el indice 0: 123\n",
            "Elemento en el indice 1: 12\n",
            "Elemento en el indice 2: 13\n",
            "Elemento en el indice 3: 14\n",
            "Elemento en el indice 4: 123\n"
          ]
        }
      ],
      "source": [
        "for i in range(0, len(lista_enteros), 1):\n",
        "    print(f'Elemento en el indice {i}: {lista_enteros[i]}')"
      ]
    },
    {
      "cell_type": "markdown",
      "metadata": {
        "id": "XE4EVDW6phVo"
      },
      "source": [
        "**Ejemplo 2**\n",
        "\n",
        "Crea una lista con 6 nombres, imprime la lista original, luego recorre cada elemento y agrega el string `_01`, finalmente muestra el resultado final."
      ]
    },
    {
      "cell_type": "code",
      "execution_count": null,
      "metadata": {
        "colab": {
          "base_uri": "https://localhost:8080/"
        },
        "id": "OjPHuCP6qOlW",
        "outputId": "affe9fe4-9a4e-475a-c900-a421711257f8"
      },
      "outputs": [
        {
          "name": "stdout",
          "output_type": "stream",
          "text": [
            "Lista original: ['Juan', 'Pedro', 'Maria', 'Sara', 'Carlos', 'Camila']\n",
            "\n",
            "Elemento 1: Juan\n",
            "Elemento 1: Pedro\n",
            "Elemento 1: Maria\n",
            "Elemento 1: Sara\n",
            "Elemento 1: Carlos\n",
            "Elemento 1: Camila\n",
            "\n",
            "Lista final: ['Juan_01', 'Pedro_01', 'Maria_01', 'Sara_01', 'Carlos_01', 'Camila_01']\n"
          ]
        }
      ],
      "source": [
        "# Declarar variables\n",
        "lista_nombres = ['Juan', 'Pedro', 'Maria', 'Sara', 'Carlos', 'Camila']\n",
        "string = '_01'\n",
        "\n",
        "# Lista original\n",
        "print(f'Lista original: {lista_nombres}\\n')\n",
        "\n",
        "# Recorre elemento a elemento y modificar\n",
        "for i in range(0, len(lista_nombres), 1):\n",
        "    print(f'Elemento 1: {lista_nombres[i]}')\n",
        "    lista_nombres[i] += string\n",
        "\n",
        "# Lista modificada\n",
        "print(f'\\nLista final: {lista_nombres}')"
      ]
    },
    {
      "cell_type": "markdown",
      "metadata": {
        "id": "dMUXjYdFsrCj"
      },
      "source": [
        "**Ejemplo 3**\n",
        "\n",
        "Realiza un programa que pida al usuario que ingrese `n` numeros enteros (`n` debe ser ingresado por el usuario).\n",
        "\n",
        "Luego recorre la lista y súmale $10$ a cada elemento.\n",
        "\n",
        "**Nota.** Las listas en Python son similares a los ArrayList en Java, por ejemplo para agregar un elemento se emplea el método `append()`."
      ]
    },
    {
      "cell_type": "code",
      "execution_count": null,
      "metadata": {
        "colab": {
          "base_uri": "https://localhost:8080/"
        },
        "id": "ZkrebfS9tY8h",
        "outputId": "98d9a298-28fa-401d-ee81-1d008f4e93ec"
      },
      "outputs": [
        {
          "name": "stdout",
          "output_type": "stream",
          "text": [
            "Cuántos números deseas ingresar?: 5\n",
            "Ingresa un número en la posición 0: 12\n",
            "Ingresa un número en la posición 1: 11\n",
            "Ingresa un número en la posición 2: 1\n",
            "Ingresa un número en la posición 3: 1\n",
            "Ingresa un número en la posición 4: 10\n",
            "\n",
            "Lista original: [12, 11, 1, 1, 10]\n",
            "\n",
            "Lista final: [22, 21, 11, 11, 20]\n"
          ]
        }
      ],
      "source": [
        "# Declarar varaibles\n",
        "enteros_ingresados = []\n",
        "numero_adicionar = 10\n",
        "\n",
        "# Pedir n\n",
        "n = int(input('Cuántos números deseas ingresar?: '))\n",
        "\n",
        "# Pedir cada elemento y agregar en la lista\n",
        "for i in range(0, n, 1):\n",
        "    numero = int(input(f'Ingresa un número en la posición {i}: '))\n",
        "    enteros_ingresados.append(numero)\n",
        "\n",
        "# Mostrar lista original\n",
        "print(f'\\nLista original: {enteros_ingresados}')\n",
        "\n",
        "# Realizar operación\n",
        "for i in range(n):\n",
        "    enteros_ingresados[i] += numero_adicionar\n",
        "\n",
        "# Mostrar lista final\n",
        "print(f'\\nLista final: {enteros_ingresados}')"
      ]
    },
    {
      "cell_type": "markdown",
      "metadata": {
        "id": "AKqbHF9bvLSP"
      },
      "source": [
        "También puedes recorrer una lista con un forEach, así:"
      ]
    },
    {
      "cell_type": "code",
      "execution_count": null,
      "metadata": {
        "colab": {
          "base_uri": "https://localhost:8080/"
        },
        "id": "Q-l28DOHvPo3",
        "outputId": "8080476a-d948-4b3f-baa5-64d29da76604"
      },
      "outputs": [
        {
          "name": "stdout",
          "output_type": "stream",
          "text": [
            "22\n",
            "21\n",
            "11\n",
            "11\n",
            "20\n"
          ]
        }
      ],
      "source": [
        "for num in enteros_ingresados:\n",
        "    print(num)"
      ]
    },
    {
      "cell_type": "markdown",
      "metadata": {
        "id": "n5cMgc-bpdZI"
      },
      "source": [
        "<a name='#2'></a>\n",
        "## Ejemplos Listas\n",
        "*Listas con diferentes tipos de datos.*"
      ]
    },
    {
      "cell_type": "markdown",
      "metadata": {
        "id": "Fc8-pqS9vxx8"
      },
      "source": [
        "Las listas en Python no están restringidas a un solo tipo de datos, es posible combinar elementos, por ejemplo, con datos enteros, decimales, caracteres, entre otros."
      ]
    },
    {
      "cell_type": "markdown",
      "metadata": {
        "id": "1iPMHt0BwyuU"
      },
      "source": [
        "**Ejemplo 1**\n",
        "\n",
        "Crea una lista con un dato entero, punto flotante, string y booleano."
      ]
    },
    {
      "cell_type": "code",
      "execution_count": null,
      "metadata": {
        "colab": {
          "base_uri": "https://localhost:8080/"
        },
        "id": "GhzebjPypNqH",
        "outputId": "eb029f16-6278-4d88-aedd-b2bc65e7b53f"
      },
      "outputs": [
        {
          "name": "stdout",
          "output_type": "stream",
          "text": [
            "Lista combinada: [1, 3.5, 'Maria', True]\n"
          ]
        }
      ],
      "source": [
        "lista_combinada = [1, 3.5, \"Maria\", True]\n",
        "\n",
        "print(f'Lista combinada: {lista_combinada}')"
      ]
    },
    {
      "cell_type": "markdown",
      "metadata": {
        "id": "wybJnwDcxAwc"
      },
      "source": [
        "Es posible cambiar sus elemento con otro tipo de dato:"
      ]
    },
    {
      "cell_type": "code",
      "execution_count": null,
      "metadata": {
        "colab": {
          "base_uri": "https://localhost:8080/"
        },
        "id": "Rjnjvq8ZxG6v",
        "outputId": "cb8a2060-47d9-4d2b-fceb-074e10d32360"
      },
      "outputs": [
        {
          "name": "stdout",
          "output_type": "stream",
          "text": [
            "Lista modificada: ['Juan', 3.5, False, True]\n"
          ]
        }
      ],
      "source": [
        "# Cambiar elemento de tipo entero en indice 0\n",
        "lista_combinada[0] = \"Juan\"\n",
        "\n",
        "# Cambiar elemento de tipo String en indice 2\n",
        "lista_combinada[2] = False\n",
        "\n",
        "print(f'Lista modificada: {lista_combinada}')"
      ]
    },
    {
      "cell_type": "markdown",
      "metadata": {
        "id": "Ar0_1yr9xpZV"
      },
      "source": [
        "Viendo el tipo de dato de cada elemento:"
      ]
    },
    {
      "cell_type": "code",
      "execution_count": null,
      "metadata": {
        "colab": {
          "base_uri": "https://localhost:8080/"
        },
        "id": "ZNixayb6xnHj",
        "outputId": "34e02e1e-bc3b-4f23-814c-2e40c3eb71d6"
      },
      "outputs": [
        {
          "name": "stdout",
          "output_type": "stream",
          "text": [
            "Valor: Juan     Tipo: <class 'str'>\n",
            "Valor: 3.5     Tipo: <class 'float'>\n",
            "Valor: False     Tipo: <class 'bool'>\n",
            "Valor: True     Tipo: <class 'bool'>\n"
          ]
        }
      ],
      "source": [
        "for elem in lista_combinada:\n",
        "    print(f'Valor: {elem}     Tipo: {type(elem)}')"
      ]
    },
    {
      "cell_type": "markdown",
      "metadata": {
        "id": "n0MPjuDizPGw"
      },
      "source": [
        "**Ejemplo 2**\n",
        "\n",
        "Crea una lista con diferentes tipos de datos, muéstrala en pantalla, luego pide al usuario que reemplace cada valor con nombres."
      ]
    },
    {
      "cell_type": "code",
      "execution_count": null,
      "metadata": {
        "colab": {
          "base_uri": "https://localhost:8080/"
        },
        "id": "O7lOZM1kyLqv",
        "outputId": "15d33c61-757c-440b-ae67-0dbf69282994"
      },
      "outputs": [
        {
          "name": "stdout",
          "output_type": "stream",
          "text": [
            "Lista original: [34, 45.67, True, False, 'C', [3, 4]]\n",
            "\n",
            "Elemento en el indice 0: 34\n",
            "Ingresa un nombre para reemplazar: Juan\n",
            "Elemento en el indice 1: 45.67\n",
            "Ingresa un nombre para reemplazar: Sara\n",
            "Elemento en el indice 2: True\n",
            "Ingresa un nombre para reemplazar: Pedro\n",
            "Elemento en el indice 3: False\n",
            "Ingresa un nombre para reemplazar: Maria\n",
            "Elemento en el indice 4: C\n",
            "Ingresa un nombre para reemplazar: Camila\n",
            "Elemento en el indice 5: [3, 4]\n",
            "Ingresa un nombre para reemplazar: Juana\n",
            "\n",
            "Lista modificada: ['Juan', 'Sara', 'Pedro', 'Maria', 'Camila', 'Juana']\n",
            "\n"
          ]
        }
      ],
      "source": [
        "lista_combinada_2 = [34, 45.67, True, False, 'C', [3, 4]]\n",
        "\n",
        "print(f'Lista original: {lista_combinada_2}\\n')\n",
        "\n",
        "# Pedir nombres para reemplazar cada valor\n",
        "for i in range(0, len(lista_combinada_2), 1):\n",
        "    print(f'Elemento en el indice {i}: {lista_combinada_2[i]}')\n",
        "    nuevo_valor = str(input(\"Ingresa un nombre para reemplazar: \"))\n",
        "    lista_combinada_2[i] = nuevo_valor\n",
        "\n",
        "# Lista finalS\n",
        "print(f'\\nLista modificada: {lista_combinada_2}\\n')"
      ]
    },
    {
      "cell_type": "markdown",
      "metadata": {
        "id": "SnC-dAOw2ALf"
      },
      "source": [
        "**Ejemplo 3**\n",
        "\n",
        "Crea una lista de nombres e imprimelos en pantalla en orden invertido."
      ]
    },
    {
      "cell_type": "code",
      "execution_count": null,
      "metadata": {
        "colab": {
          "base_uri": "https://localhost:8080/"
        },
        "id": "TudkYPV92raP",
        "outputId": "8444603e-c229-40b4-b328-867736be9f1e"
      },
      "outputs": [
        {
          "name": "stdout",
          "output_type": "stream",
          "text": [
            "Nombre en el indice 3: Sara\n",
            "Nombre en el indice 2: Camila\n",
            "Nombre en el indice 1: Maria\n",
            "Nombre en el indice 0: Pedro\n"
          ]
        }
      ],
      "source": [
        "nombres = ['Juan', 'Pedro', 'Maria', 'Camila', 'Sara']\n",
        "\n",
        "for i in range(len(nombres)-1, 0, -1):\n",
        "    print(f'Nombre en el indice {i-1}: {nombres[i]}')"
      ]
    },
    {
      "cell_type": "markdown",
      "metadata": {
        "id": "qgCeFc7M9f50"
      },
      "source": [
        "**Ejemplo 4**\n",
        "\n",
        "Realiza un programa que pida al usuario `n` números enteros y muestre en pantalla cual es el número más grande.\n",
        "\n",
        "- El usuario debe ingresar `n`.\n",
        "- Realiza una función para determinar cual es el número más grande."
      ]
    },
    {
      "cell_type": "code",
      "execution_count": null,
      "metadata": {
        "colab": {
          "base_uri": "https://localhost:8080/"
        },
        "id": "4gRFmeLz9ft3",
        "outputId": "e362846b-7bc9-4e5e-ed0d-bcbfa2dd9fd0"
      },
      "outputs": [
        {
          "name": "stdout",
          "output_type": "stream",
          "text": [
            "Cuántos números desea ingresar?: 6\n",
            "Ingrese un número: 100\n",
            "Ingrese un número: -10\n",
            "Ingrese un número: -1\n",
            "Ingrese un número: 105\n",
            "Ingrese un número: 45\n",
            "Ingrese un número: 0\n",
            "\n",
            "Lista de números: [100, -10, -1, 105, 45, 0]\n",
            "Número más grande: 105\n"
          ]
        }
      ],
      "source": [
        "# Función para encontrar el número más grande\n",
        "def numero_mas_grande(lista_numeros):\n",
        "    num_mas_grande = lista_numeros[0]\n",
        "    for num in lista_numeros:\n",
        "        if num > num_mas_grande:\n",
        "            num_mas_grande = num\n",
        "\n",
        "    return num_mas_grande\n",
        "\n",
        "# Inicio del programa\n",
        "lista_1 = []\n",
        "\n",
        "# Pedir n\n",
        "n = int(input(\"Cuántos números desea ingresar?: \"))\n",
        "\n",
        "# Agregar valores\n",
        "for i in range(0, n, 1):\n",
        "    numero_ingresado = int(input(\"Ingrese un número: \"))\n",
        "    lista_1.append(numero_ingresado)\n",
        "\n",
        "# Invocar la función\n",
        "valor_mas_grande = numero_mas_grande(lista_1)\n",
        "\n",
        "print(f'\\nLista de números: {lista_1}')\n",
        "print(f'Número más grande: {valor_mas_grande}')"
      ]
    },
    {
      "cell_type": "markdown",
      "metadata": {
        "id": "JwvtaoYq3ye2"
      },
      "source": [
        "<a name='#3'></a>\n",
        "## Diccionarios\n",
        "\n",
        "Un diccionario es un tipo de estructura de datos que almacena una llave (`key`) y un valor (`value`). La llave por lo general es un identificador del valor y no es recomendable repetirlo.\n",
        "\n",
        "**Nota.** Es muy similar a un dato tipo JSON.\n",
        "\n",
        "Su sintaxis es:\n",
        "\n",
        "![image.png](data:image/png;base64,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)"
      ]
    },
    {
      "cell_type": "markdown",
      "metadata": {
        "id": "rMvkwF076Aub"
      },
      "source": [
        "**Ejemplo 1**\n",
        "\n",
        "Crea un diccionario con las llaves: `Nombre`, `Edad`, `Pais`, `Ciudad`. Puedes ingresar caulquier valor."
      ]
    },
    {
      "cell_type": "code",
      "execution_count": null,
      "metadata": {
        "colab": {
          "base_uri": "https://localhost:8080/"
        },
        "id": "7FjAjogY3B9x",
        "outputId": "383937e4-fa85-4154-ce48-0cf48f72b8cd"
      },
      "outputs": [
        {
          "name": "stdout",
          "output_type": "stream",
          "text": [
            "{'Nombre': 'Juan Perez', 'Edad': 25, 'Pais': 'Colombia', 'Ciudad': 'Manizales'}\n"
          ]
        }
      ],
      "source": [
        "diccionario_persona = {\"Nombre\": \"Juan Perez\", \"Edad\": 25, \"Pais\": \"Colombia\", \"Ciudad\": \"Manizales\"}\n",
        "\n",
        "print(diccionario_persona)"
      ]
    },
    {
      "cell_type": "markdown",
      "metadata": {
        "id": "-hRaJNFM6pYm"
      },
      "source": [
        "Las keys en los diccionarios deben ir entre comillas (`'Nombre'`, `'Edad'`, `'Pais'`, `'Ciudad'`), y los valores pueden ser cualquier tipo de dato.\n",
        "\n",
        "Para recorrer un diccionario es necesario usar dos variables indice asi:"
      ]
    },
    {
      "cell_type": "code",
      "execution_count": null,
      "metadata": {
        "colab": {
          "base_uri": "https://localhost:8080/"
        },
        "id": "s44ilZIA6nMm",
        "outputId": "32f5685c-ef34-49c1-d847-121fd5fdad8b"
      },
      "outputs": [
        {
          "name": "stdout",
          "output_type": "stream",
          "text": [
            "Nombre: Juan Perez\n",
            "Edad: 25\n",
            "Pais: Colombia\n",
            "Ciudad: Manizales\n"
          ]
        }
      ],
      "source": [
        "for key, value in diccionario_persona.items():\n",
        "    print(f'{key}: {value}')"
      ]
    },
    {
      "cell_type": "markdown",
      "metadata": {
        "id": "dSUtUYUy7ibO"
      },
      "source": [
        "`key` y `value` son las variables indice y el método `items()` es necesario para poder usar dichas variables."
      ]
    },
    {
      "cell_type": "markdown",
      "metadata": {
        "id": "ZW9-QtEF72jq"
      },
      "source": [
        "También es posible acceder a un datos empleando corchetes `[ ]`:"
      ]
    },
    {
      "cell_type": "code",
      "execution_count": null,
      "metadata": {
        "colab": {
          "base_uri": "https://localhost:8080/"
        },
        "id": "R-9PHqW-7bwd",
        "outputId": "bbf084d2-44f3-4b27-d67c-f6f9a41bbb4e"
      },
      "outputs": [
        {
          "name": "stdout",
          "output_type": "stream",
          "text": [
            "Nombre:  Juan Perez\n",
            "Edad:  25\n",
            "Pais:  Colombia\n",
            "Ciudad:  Manizales\n"
          ]
        }
      ],
      "source": [
        "print(\"Nombre: \", diccionario_persona['Nombre'])\n",
        "print(\"Edad: \", diccionario_persona['Edad'])\n",
        "print(\"Pais: \", diccionario_persona['Pais'])\n",
        "print(\"Ciudad: \", diccionario_persona['Ciudad'])"
      ]
    },
    {
      "cell_type": "markdown",
      "metadata": {
        "id": "8xCh-AyB9EVZ"
      },
      "source": [
        "En este caso no ingresamos un indice de tipo `int`, sino la llave creada."
      ]
    },
    {
      "cell_type": "markdown",
      "metadata": {
        "id": "8iM4iB0r8ykP"
      },
      "source": [
        "Modificando valores:"
      ]
    },
    {
      "cell_type": "code",
      "execution_count": null,
      "metadata": {
        "colab": {
          "base_uri": "https://localhost:8080/"
        },
        "id": "VhWoCzCt8BDh",
        "outputId": "3f17493c-b4d2-4546-ee11-fb2cac8fabeb"
      },
      "outputs": [
        {
          "name": "stdout",
          "output_type": "stream",
          "text": [
            "Nombre inicial:  Juan Perez\n",
            "Nombre final:  Sara Perez\n"
          ]
        }
      ],
      "source": [
        "print(\"Nombre inicial: \", diccionario_persona['Nombre'])\n",
        "\n",
        "diccionario_persona['Nombre'] = \"Sara Perez\"\n",
        "\n",
        "print(\"Nombre final: \", diccionario_persona['Nombre'])"
      ]
    },
    {
      "cell_type": "code",
      "execution_count": null,
      "metadata": {
        "id": "KwTxnLVBXkVe"
      },
      "outputs": [],
      "source": []
    }
  ],
  "metadata": {
    "colab": {
      "provenance": []
    },
    "kernelspec": {
      "display_name": "Python 3",
      "name": "python3"
    },
    "language_info": {
      "name": "python"
    }
  },
  "nbformat": 4,
  "nbformat_minor": 0
}
