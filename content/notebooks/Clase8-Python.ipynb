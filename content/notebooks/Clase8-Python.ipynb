{
  "nbformat": 4,
  "nbformat_minor": 0,
  "metadata": {
    "colab": {
      "provenance": []
    },
    "kernelspec": {
      "name": "python3",
      "display_name": "Python 3"
    },
    "language_info": {
      "name": "python"
    }
  },
  "cells": [
    {
      "cell_type": "markdown",
      "source": [
        "# 📙 Funciones - Python"
      ],
      "metadata": {
        "id": "Is8zvloRE80i"
      }
    },
    {
      "cell_type": "markdown",
      "source": [
        "## Tabla de Contenido\n",
        "\n",
        "- [1 - Ejemplos Procedimientos](#1)\n",
        "- [2 - Ejemplos Funciones](#2)"
      ],
      "metadata": {
        "id": "qijexv0bD9Ke"
      }
    },
    {
      "cell_type": "code",
      "source": [
        "import math\n",
        "from datetime import date"
      ],
      "metadata": {
        "id": "4z7X0QaKEq6A"
      },
      "execution_count": null,
      "outputs": []
    },
    {
      "cell_type": "markdown",
      "source": [
        "<a name=\"1\"></a>\n",
        "## Ejemplos Procedimientos"
      ],
      "metadata": {
        "id": "Q348yVLUEGTW"
      }
    },
    {
      "cell_type": "markdown",
      "source": [
        "**Ejemplo 1.**\n",
        "\n",
        "Realice un procedimiento que imprima un Hola Mundo."
      ],
      "metadata": {
        "id": "q9CCuoHlEMA-"
      }
    },
    {
      "cell_type": "code",
      "source": [
        "def hola_mundo():\n",
        "    print(\"Hola Mundo desde Python.\")\n",
        "\n",
        "hola_mundo()\n",
        "hola_mundo()\n",
        "hola_mundo()"
      ],
      "metadata": {
        "colab": {
          "base_uri": "https://localhost:8080/"
        },
        "id": "PcHtjmQ-D80A",
        "outputId": "9f2d3317-4af1-43f9-8552-eaef17207024"
      },
      "execution_count": null,
      "outputs": [
        {
          "output_type": "stream",
          "name": "stdout",
          "text": [
            "Hola Mundo desde Python.\n",
            "Hola Mundo desde Python.\n",
            "Hola Mundo desde Python.\n"
          ]
        }
      ]
    },
    {
      "cell_type": "markdown",
      "source": [
        "**Ejemplo 2**\n",
        "\n",
        "Realice un procedimiento que imprima la fecha actual."
      ],
      "metadata": {
        "id": "wUNWN2xmEj-3"
      }
    },
    {
      "cell_type": "code",
      "execution_count": null,
      "metadata": {
        "colab": {
          "base_uri": "https://localhost:8080/"
        },
        "id": "jlScMmpkXWo1",
        "outputId": "125b8beb-d8b0-4a2b-a75d-064459df7cb7"
      },
      "outputs": [
        {
          "output_type": "stream",
          "name": "stdout",
          "text": [
            "2023-10-12\n"
          ]
        }
      ],
      "source": [
        "def fecha_actual():\n",
        "    print(date.today())\n",
        "\n",
        "fecha_actual()"
      ]
    },
    {
      "cell_type": "markdown",
      "source": [
        "**Ejemplo 3**\n",
        "\n",
        "Crea un procedimiento que me diga si un numero ingresado es par o impar."
      ],
      "metadata": {
        "id": "aXyXf1_cFNXw"
      }
    },
    {
      "cell_type": "code",
      "source": [
        "def esPar(num):\n",
        "    if (num%2 == 0):\n",
        "        print(f\"{num} es par.\")\n",
        "    else:\n",
        "        print(f\"{num} es impar.\")\n",
        "\n",
        "esPar(12)\n",
        "esPar(345)\n",
        "esPar(2347834)"
      ],
      "metadata": {
        "colab": {
          "base_uri": "https://localhost:8080/"
        },
        "id": "IKjjLuYqFGh3",
        "outputId": "914359bc-8ca1-4803-f400-65246f261d60"
      },
      "execution_count": null,
      "outputs": [
        {
          "output_type": "stream",
          "name": "stdout",
          "text": [
            "12 es par.\n",
            "345 es impar.\n",
            "2347834 es par.\n"
          ]
        }
      ]
    },
    {
      "cell_type": "markdown",
      "source": [
        "**Ejemplo 4**\n",
        "\n",
        "Realizar un procedimiento que me convierta una frase ingresada por el usuario a mayusculas y que imprima en pantalla."
      ],
      "metadata": {
        "id": "GcNy9YvmFokQ"
      }
    },
    {
      "cell_type": "code",
      "source": [
        "def mayuscula(frase):\n",
        "    fraseMayus = frase.upper()\n",
        "    print(fraseMayus)\n",
        "\n",
        "fraseU = input(\"Ingrese una frase: \")\n",
        "mayuscula(fraseU)"
      ],
      "metadata": {
        "colab": {
          "base_uri": "https://localhost:8080/"
        },
        "id": "34vmK30aFgOP",
        "outputId": "7ec1dc3f-7741-439e-aa89-3471cbff62ec"
      },
      "execution_count": null,
      "outputs": [
        {
          "output_type": "stream",
          "name": "stdout",
          "text": [
            "Ingrese una frase: hola mundo\n",
            "HOLA MUNDO\n"
          ]
        }
      ]
    },
    {
      "cell_type": "markdown",
      "source": [
        "<a name='2'></a>\n",
        "## Ejemplos Funciones"
      ],
      "metadata": {
        "id": "NLL330CUGOYi"
      }
    },
    {
      "cell_type": "markdown",
      "source": [
        "**Ejemplo 1**\n",
        "\n",
        "Realizar una función que devuelva la desviación estandar de $n$ números consecutivos.\n",
        "\n",
        "$$Media = \\bar{X}=\\dfrac{ \\sum_{i=1}^{n} x_i}{n}$$\n",
        "\n",
        "$$Desviaci\\acute{o}n \\,\\, Estandar=\\sigma = \\sqrt{ \\dfrac{\\sum_{i=1}^{n} (x_i-\\bar{X})^2}{n} }$$\n",
        "\n",
        "Ejemplo: Si el usuario ingresa $n=5$ los $n$ numeros son $1$, $2$, $3$, $4$ y $5$."
      ],
      "metadata": {
        "id": "VEqPgUDlGQAn"
      }
    },
    {
      "cell_type": "code",
      "source": [
        "def calcular_media_desviacion(n):\n",
        "    media = 0\n",
        "    desviacion = 0\n",
        "\n",
        "    for i in range(1, n+1):\n",
        "        media += i\n",
        "    media /= n\n",
        "\n",
        "    for i in range(1, n+1):\n",
        "        desviacion += (i - media)**2\n",
        "    desviacion = (desviacion/n)**(1/2)\n",
        "\n",
        "    return desviacion\n",
        "\n",
        "\n",
        "n = int(input(\"Ingrese un número: \"))\n",
        "desviacion = calcular_media_desviacion(n)\n",
        "print(f\"La desviación estandar de los primeros {n} números es: {desviacion}\")"
      ],
      "metadata": {
        "colab": {
          "base_uri": "https://localhost:8080/"
        },
        "id": "Ify81vV8GFSn",
        "outputId": "f8a5698f-d7f5-46a0-a101-b2ddbb611d3c"
      },
      "execution_count": null,
      "outputs": [
        {
          "output_type": "stream",
          "name": "stdout",
          "text": [
            "Ingrese un número: 5\n",
            "La desviación estandar de los primeros 5 números es: 1.4142135623730951\n"
          ]
        }
      ]
    },
    {
      "cell_type": "markdown",
      "source": [
        "**Ejemplo 2**\n",
        "\n",
        "Realice una función que retorne la potencia dados dos números, así: $a^b$.\n",
        "\n",
        "El usuario debe ingresar $a$ (base) y $b$ (exponente)."
      ],
      "metadata": {
        "id": "ux5svLvMM7hN"
      }
    },
    {
      "cell_type": "code",
      "source": [
        "def potencia(a, b):\n",
        "    res = a**b\n",
        "    return res\n",
        "\n",
        "\n",
        "base = int(input(\"Ingrese la base: \"))\n",
        "exponente = int(input(\"Ingrese el exponente: \"))\n",
        "res = potencia(base, exponente)\n",
        "\n",
        "print(f\"La potencia de {base}^{exponente} es: {res}\")"
      ],
      "metadata": {
        "colab": {
          "base_uri": "https://localhost:8080/"
        },
        "id": "SbTgVsDxK7Wf",
        "outputId": "be0b4cce-b7b2-49df-d06f-b06d0f5100bd"
      },
      "execution_count": null,
      "outputs": [
        {
          "output_type": "stream",
          "name": "stdout",
          "text": [
            "Ingrese la base: 2\n",
            "Ingrese el exponente: 100\n",
            "La potencia de 2^100 es: 1267650600228229401496703205376\n"
          ]
        }
      ]
    },
    {
      "cell_type": "markdown",
      "source": [
        "**Ejemplo 3**\n",
        "\n",
        "Realice un programa que implemente la siguiente formula (combinatoria):\n",
        "\n",
        "$$_{n}\\mathbf{C}_x=\\binom{n}{x}=\\dfrac{n!}{x!(n-x)!}$$\n",
        "\n",
        "$$n! = n \\cdot (n-1) \\cdot (n-2) \\cdot (n-3) \\cdot \\,\\, ... \\,\\, \\cdot 3 \\cdot 2 \\cdot 1$$\n",
        "\n",
        "**Nota.** Debe crear una función `factorial`."
      ],
      "metadata": {
        "id": "0Q42OM8RPEsz"
      }
    },
    {
      "cell_type": "code",
      "source": [
        "def factorial(numero):\n",
        "    res_fact = 1\n",
        "    for i in range(numero, 0, -1):\n",
        "        res_fact *= i\n",
        "\n",
        "    return res_fact\n",
        "\n",
        "n = int(input(\"Ingrese n: \"))\n",
        "x = int(input(\"Ingrese x: \"))\n",
        "\n",
        "combinatoria = factorial(n)/(factorial(x) * factorial(n-x))\n",
        "print(f\"{n} Combinatoria {x} es: {combinatoria}\")"
      ],
      "metadata": {
        "colab": {
          "base_uri": "https://localhost:8080/"
        },
        "id": "-2jNaZbHQr1D",
        "outputId": "e55ebd4a-bdf0-4896-b06b-861e08ad4ddd"
      },
      "execution_count": null,
      "outputs": [
        {
          "output_type": "stream",
          "name": "stdout",
          "text": [
            "Ingrese n: 4\n",
            "Ingrese x: 2\n",
            "4 Combinatoria 2 es: 6.0\n"
          ]
        }
      ]
    },
    {
      "cell_type": "markdown",
      "source": [
        "**Ejemplo 4**\n",
        "\n",
        "Realice una función que cuente el número de vocales en una frase o palabra ingresada por el usuario.\n",
        "\n",
        "**Nota.** Debe verificar que el tamaño de la frase o palabra sea mayor a 2 y que no sean caracteres de espacio."
      ],
      "metadata": {
        "id": "3gI_4geoT8UU"
      }
    },
    {
      "cell_type": "code",
      "source": [
        "def contar_vocales(frase):\n",
        "    contador_vocales = 0\n",
        "    frase = frase.lower()\n",
        "    for letra in frase:\n",
        "        if letra == \"a\" or letra == \"e\" or letra == \"i\" or letra == \"o\" or letra == \"u\":\n",
        "            contador_vocales += 1\n",
        "\n",
        "    return contador_vocales\n",
        "\n",
        "def verificar_tamano(frase):\n",
        "    if (len(frase) >= 2) and (frase != \"  \"):\n",
        "        return 1\n",
        "    else:\n",
        "        print('Frase o palabra incorrecta.')\n",
        "        return 0\n",
        "\n",
        "verifTam = 0\n",
        "\n",
        "while (verifTam !=1):\n",
        "    frase_palabra = str(input(\"Ingrese una frase o palabra: \"))\n",
        "    verifTam = verificar_tamano(frase_palabra)\n",
        "\n",
        "contador = contar_vocales(frase_palabra)\n",
        "print(f\"La frase/palabra '{frase_palabra}' tiene {contador} vocales\")"
      ],
      "metadata": {
        "colab": {
          "base_uri": "https://localhost:8080/"
        },
        "id": "JUl6Ub5JSsFG",
        "outputId": "3824e59c-3078-4fb8-df5d-718f25769912"
      },
      "execution_count": null,
      "outputs": [
        {
          "output_type": "stream",
          "name": "stdout",
          "text": [
            "Ingrese una frase o palabra: cuantas vocales hay en esta frase\n",
            "La frase/palabra 'cuantas vocales hay en esta frase' tiene 12 vocales\n"
          ]
        }
      ]
    },
    {
      "cell_type": "code",
      "source": [],
      "metadata": {
        "id": "jbCaQ4PFkCf7"
      },
      "execution_count": null,
      "outputs": []
    }
  ]
}